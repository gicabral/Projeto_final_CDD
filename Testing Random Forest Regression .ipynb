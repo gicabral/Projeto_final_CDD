{
 "cells": [
  {
   "cell_type": "code",
   "execution_count": 125,
   "metadata": {},
   "outputs": [],
   "source": [
    "import pandas as pd\n",
    "import numpy as np"
   ]
  },
  {
   "cell_type": "code",
   "execution_count": 126,
   "metadata": {},
   "outputs": [],
   "source": [
    "data = pd.read_excel('dataset2015.xlsx')\n",
    "data_teste= pd.read_excel('dataset2016.xlsx')"
   ]
  },
  {
   "cell_type": "code",
   "execution_count": 127,
   "metadata": {},
   "outputs": [
    {
     "data": {
      "text/html": [
       "<div>\n",
       "<style scoped>\n",
       "    .dataframe tbody tr th:only-of-type {\n",
       "        vertical-align: middle;\n",
       "    }\n",
       "\n",
       "    .dataframe tbody tr th {\n",
       "        vertical-align: top;\n",
       "    }\n",
       "\n",
       "    .dataframe thead th {\n",
       "        text-align: right;\n",
       "    }\n",
       "</style>\n",
       "<table border=\"1\" class=\"dataframe\">\n",
       "  <thead>\n",
       "    <tr style=\"text-align: right;\">\n",
       "      <th></th>\n",
       "      <th>Happiness Score</th>\n",
       "      <th>Expectativa de vida</th>\n",
       "      <th>GDP em 2015</th>\n",
       "      <th>Corrupção 2015</th>\n",
       "      <th>Inflação 2015</th>\n",
       "    </tr>\n",
       "  </thead>\n",
       "  <tbody>\n",
       "    <tr>\n",
       "      <th>Afghanistan</th>\n",
       "      <td>3.575</td>\n",
       "      <td>53.8</td>\n",
       "      <td>2.110</td>\n",
       "      <td>11</td>\n",
       "      <td>2.432017</td>\n",
       "    </tr>\n",
       "    <tr>\n",
       "      <th>Albania</th>\n",
       "      <td>4.959</td>\n",
       "      <td>78.0</td>\n",
       "      <td>3.820</td>\n",
       "      <td>36</td>\n",
       "      <td>0.563993</td>\n",
       "    </tr>\n",
       "    <tr>\n",
       "      <th>Algeria</th>\n",
       "      <td>5.605</td>\n",
       "      <td>76.4</td>\n",
       "      <td>2.100</td>\n",
       "      <td>36</td>\n",
       "      <td>-6.571977</td>\n",
       "    </tr>\n",
       "    <tr>\n",
       "      <th>Angola</th>\n",
       "      <td>4.033</td>\n",
       "      <td>59.6</td>\n",
       "      <td>2.460</td>\n",
       "      <td>15</td>\n",
       "      <td>-3.980898</td>\n",
       "    </tr>\n",
       "    <tr>\n",
       "      <th>Argentina</th>\n",
       "      <td>6.574</td>\n",
       "      <td>76.5</td>\n",
       "      <td>-0.128</td>\n",
       "      <td>32</td>\n",
       "      <td>26.579992</td>\n",
       "    </tr>\n",
       "  </tbody>\n",
       "</table>\n",
       "</div>"
      ],
      "text/plain": [
       "             Happiness Score  Expectativa de vida  GDP em 2015  \\\n",
       "Afghanistan            3.575                 53.8        2.110   \n",
       "Albania                4.959                 78.0        3.820   \n",
       "Algeria                5.605                 76.4        2.100   \n",
       "Angola                 4.033                 59.6        2.460   \n",
       "Argentina              6.574                 76.5       -0.128   \n",
       "\n",
       "             Corrupção 2015  Inflação 2015  \n",
       "Afghanistan              11       2.432017  \n",
       "Albania                  36       0.563993  \n",
       "Algeria                  36      -6.571977  \n",
       "Angola                   15      -3.980898  \n",
       "Argentina                32      26.579992  "
      ]
     },
     "execution_count": 127,
     "metadata": {},
     "output_type": "execute_result"
    }
   ],
   "source": [
    "data.head()"
   ]
  },
  {
   "cell_type": "code",
   "execution_count": 128,
   "metadata": {},
   "outputs": [],
   "source": [
    "happiness = np.array(data['Happiness Score'])\n",
    "# Remove the happiness score from the features\n",
    "# axis 1 refers to the columns\n",
    "data= data.drop('Happiness Score', axis = 1)\n",
    "# Saving feature names for later use\n",
    "data_list = list(data.columns)\n",
    "# Convert to numpy array\n",
    "data = np.array(data)\n",
    "\n"
   ]
  },
  {
   "cell_type": "code",
   "execution_count": 129,
   "metadata": {},
   "outputs": [],
   "source": [
    "train_data = data\n",
    "train_happiness = happiness"
   ]
  },
  {
   "cell_type": "code",
   "execution_count": 130,
   "metadata": {},
   "outputs": [],
   "source": [
    "data_teste= pd.read_excel('dataset2016.xlsx')"
   ]
  },
  {
   "cell_type": "code",
   "execution_count": 131,
   "metadata": {},
   "outputs": [
    {
     "data": {
      "text/html": [
       "<div>\n",
       "<style scoped>\n",
       "    .dataframe tbody tr th:only-of-type {\n",
       "        vertical-align: middle;\n",
       "    }\n",
       "\n",
       "    .dataframe tbody tr th {\n",
       "        vertical-align: top;\n",
       "    }\n",
       "\n",
       "    .dataframe thead th {\n",
       "        text-align: right;\n",
       "    }\n",
       "</style>\n",
       "<table border=\"1\" class=\"dataframe\">\n",
       "  <thead>\n",
       "    <tr style=\"text-align: right;\">\n",
       "      <th></th>\n",
       "      <th>Happiness Score</th>\n",
       "      <th>Corrupção 2016</th>\n",
       "      <th>Expectativa de vida em 2016</th>\n",
       "      <th>GDP em 2016</th>\n",
       "      <th>Inflação em 2016</th>\n",
       "    </tr>\n",
       "  </thead>\n",
       "  <tbody>\n",
       "    <tr>\n",
       "      <th>Denmark</th>\n",
       "      <td>7.526</td>\n",
       "      <td>90</td>\n",
       "      <td>80.5</td>\n",
       "      <td>1.340</td>\n",
       "      <td>-0.046444</td>\n",
       "    </tr>\n",
       "    <tr>\n",
       "      <th>Switzerland</th>\n",
       "      <td>7.509</td>\n",
       "      <td>86</td>\n",
       "      <td>83.1</td>\n",
       "      <td>1.400</td>\n",
       "      <td>-0.566144</td>\n",
       "    </tr>\n",
       "    <tr>\n",
       "      <th>Iceland</th>\n",
       "      <td>7.501</td>\n",
       "      <td>78</td>\n",
       "      <td>83.3</td>\n",
       "      <td>2.480</td>\n",
       "      <td>2.113045</td>\n",
       "    </tr>\n",
       "    <tr>\n",
       "      <th>Norway</th>\n",
       "      <td>7.498</td>\n",
       "      <td>85</td>\n",
       "      <td>82.0</td>\n",
       "      <td>0.861</td>\n",
       "      <td>-1.114070</td>\n",
       "    </tr>\n",
       "    <tr>\n",
       "      <th>Finland</th>\n",
       "      <td>7.413</td>\n",
       "      <td>89</td>\n",
       "      <td>80.9</td>\n",
       "      <td>1.130</td>\n",
       "      <td>0.790899</td>\n",
       "    </tr>\n",
       "  </tbody>\n",
       "</table>\n",
       "</div>"
      ],
      "text/plain": [
       "             Happiness Score  Corrupção 2016  Expectativa de vida em 2016  \\\n",
       "Denmark                7.526              90                         80.5   \n",
       "Switzerland            7.509              86                         83.1   \n",
       "Iceland                7.501              78                         83.3   \n",
       "Norway                 7.498              85                         82.0   \n",
       "Finland                7.413              89                         80.9   \n",
       "\n",
       "             GDP em 2016  Inflação em 2016  \n",
       "Denmark            1.340         -0.046444  \n",
       "Switzerland        1.400         -0.566144  \n",
       "Iceland            2.480          2.113045  \n",
       "Norway             0.861         -1.114070  \n",
       "Finland            1.130          0.790899  "
      ]
     },
     "execution_count": 131,
     "metadata": {},
     "output_type": "execute_result"
    }
   ],
   "source": [
    "data_teste.head()"
   ]
  },
  {
   "cell_type": "code",
   "execution_count": 132,
   "metadata": {},
   "outputs": [],
   "source": [
    "happiness2016 = np.array(data_teste['Happiness Score'])\n",
    "# Remove the happiness score from the features\n",
    "# axis 1 refers to the columns\n",
    "data_teste= data_teste.drop('Happiness Score', axis = 1)\n",
    "# Saving feature names for later use\n",
    "data_teste_list = list(data_teste.columns)\n",
    "# Convert to numpy array\n",
    "data_teste = np.array(data_teste)"
   ]
  },
  {
   "cell_type": "code",
   "execution_count": 133,
   "metadata": {},
   "outputs": [],
   "source": [
    "teste_data = data_teste\n",
    "teste_happiness = happiness2016"
   ]
  },
  {
   "cell_type": "code",
   "execution_count": 134,
   "metadata": {},
   "outputs": [
    {
     "name": "stdout",
     "output_type": "stream",
     "text": [
      "(134, 4) (134,) (136, 4) (136,)\n"
     ]
    }
   ],
   "source": [
    "print(teste_data.shape, teste_happiness.shape, train_data.shape, train_happiness.shape)"
   ]
  },
  {
   "cell_type": "code",
   "execution_count": 135,
   "metadata": {},
   "outputs": [],
   "source": [
    "from sklearn.ensemble import RandomForestRegressor\n",
    "\n",
    "# Instantiate model \n",
    "rf = RandomForestRegressor(n_estimators= 1000, random_state=42)\n",
    "\n",
    "# Train the model on training data\n",
    "rf.fit(train_data, train_happiness);"
   ]
  },
  {
   "cell_type": "code",
   "execution_count": 136,
   "metadata": {},
   "outputs": [
    {
     "name": "stdout",
     "output_type": "stream",
     "text": [
      "Mean Absolute Error: 1.18\n"
     ]
    }
   ],
   "source": [
    "predictions = rf.predict(teste_data)\n",
    "\n",
    "# Calculate the absolute errors\n",
    "errors = abs(predictions - teste_happiness)\n",
    "\n",
    "# Print out the mean absolute error (mae)\n",
    "print('Mean Absolute Error:', round(np.mean(errors), 2))"
   ]
  },
  {
   "cell_type": "code",
   "execution_count": 137,
   "metadata": {},
   "outputs": [
    {
     "name": "stdout",
     "output_type": "stream",
     "text": [
      "Accuracy: 79.76 %.\n"
     ]
    }
   ],
   "source": [
    "# Calculate mean absolute percentage error (MAPE)\n",
    "mape = 100 * (errors / teste_happiness)\n",
    "\n",
    "# Calculate and display accuracy\n",
    "accuracy = 100 - np.mean(mape)\n",
    "print('Accuracy:', round(accuracy, 2), '%.')"
   ]
  }
 ],
 "metadata": {
  "kernelspec": {
   "display_name": "Python 3",
   "language": "python",
   "name": "python3"
  },
  "language_info": {
   "codemirror_mode": {
    "name": "ipython",
    "version": 3
   },
   "file_extension": ".py",
   "mimetype": "text/x-python",
   "name": "python",
   "nbconvert_exporter": "python",
   "pygments_lexer": "ipython3",
   "version": "3.6.5"
  }
 },
 "nbformat": 4,
 "nbformat_minor": 2
}
