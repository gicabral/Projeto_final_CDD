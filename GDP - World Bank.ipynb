{
 "cells": [
  {
   "cell_type": "code",
   "execution_count": 1,
   "metadata": {},
   "outputs": [],
   "source": [
    "%matplotlib inline\n",
    "import pandas as pd\n",
    "import numpy as np\n",
    "import math as math\n",
    "from scipy import stats\n",
    "import matplotlib.pyplot as plt\n",
    "import seaborn as sns"
   ]
  },
  {
   "cell_type": "code",
   "execution_count": 6,
   "metadata": {},
   "outputs": [
    {
     "name": "stderr",
     "output_type": "stream",
     "text": [
      "b'Skipping line 5: expected 3 fields, saw 63\\nSkipping line 6: expected 3 fields, saw 63\\nSkipping line 7: expected 3 fields, saw 63\\nSkipping line 8: expected 3 fields, saw 63\\nSkipping line 9: expected 3 fields, saw 63\\nSkipping line 10: expected 3 fields, saw 63\\nSkipping line 11: expected 3 fields, saw 63\\nSkipping line 12: expected 3 fields, saw 63\\nSkipping line 13: expected 3 fields, saw 63\\nSkipping line 14: expected 3 fields, saw 63\\nSkipping line 15: expected 3 fields, saw 63\\nSkipping line 16: expected 3 fields, saw 63\\nSkipping line 17: expected 3 fields, saw 63\\nSkipping line 18: expected 3 fields, saw 63\\nSkipping line 19: expected 3 fields, saw 63\\nSkipping line 20: expected 3 fields, saw 63\\nSkipping line 21: expected 3 fields, saw 63\\nSkipping line 22: expected 3 fields, saw 63\\nSkipping line 23: expected 3 fields, saw 63\\nSkipping line 24: expected 3 fields, saw 63\\nSkipping line 25: expected 3 fields, saw 63\\nSkipping line 26: expected 3 fields, saw 63\\nSkipping line 27: expected 3 fields, saw 63\\nSkipping line 28: expected 3 fields, saw 63\\nSkipping line 29: expected 3 fields, saw 63\\nSkipping line 30: expected 3 fields, saw 63\\nSkipping line 31: expected 3 fields, saw 63\\nSkipping line 32: expected 3 fields, saw 63\\nSkipping line 33: expected 3 fields, saw 63\\nSkipping line 34: expected 3 fields, saw 63\\nSkipping line 35: expected 3 fields, saw 63\\nSkipping line 36: expected 3 fields, saw 63\\nSkipping line 37: expected 3 fields, saw 63\\nSkipping line 38: expected 3 fields, saw 63\\nSkipping line 39: expected 3 fields, saw 63\\nSkipping line 40: expected 3 fields, saw 63\\nSkipping line 41: expected 3 fields, saw 63\\nSkipping line 42: expected 3 fields, saw 63\\nSkipping line 43: expected 3 fields, saw 63\\nSkipping line 44: expected 3 fields, saw 63\\nSkipping line 45: expected 3 fields, saw 63\\nSkipping line 46: expected 3 fields, saw 63\\nSkipping line 47: expected 3 fields, saw 63\\nSkipping line 48: expected 3 fields, saw 63\\nSkipping line 49: expected 3 fields, saw 63\\nSkipping line 50: expected 3 fields, saw 63\\nSkipping line 51: expected 3 fields, saw 63\\nSkipping line 52: expected 3 fields, saw 63\\nSkipping line 53: expected 3 fields, saw 63\\nSkipping line 54: expected 3 fields, saw 63\\nSkipping line 55: expected 3 fields, saw 63\\nSkipping line 56: expected 3 fields, saw 63\\nSkipping line 57: expected 3 fields, saw 63\\nSkipping line 58: expected 3 fields, saw 63\\nSkipping line 59: expected 3 fields, saw 63\\nSkipping line 60: expected 3 fields, saw 63\\nSkipping line 61: expected 3 fields, saw 63\\nSkipping line 62: expected 3 fields, saw 63\\nSkipping line 63: expected 3 fields, saw 63\\nSkipping line 64: expected 3 fields, saw 63\\nSkipping line 65: expected 3 fields, saw 63\\nSkipping line 66: expected 3 fields, saw 63\\nSkipping line 67: expected 3 fields, saw 63\\nSkipping line 68: expected 3 fields, saw 63\\nSkipping line 69: expected 3 fields, saw 63\\nSkipping line 70: expected 3 fields, saw 63\\nSkipping line 71: expected 3 fields, saw 63\\nSkipping line 72: expected 3 fields, saw 63\\nSkipping line 73: expected 3 fields, saw 63\\nSkipping line 74: expected 3 fields, saw 63\\nSkipping line 75: expected 3 fields, saw 63\\nSkipping line 76: expected 3 fields, saw 63\\nSkipping line 77: expected 3 fields, saw 63\\nSkipping line 78: expected 3 fields, saw 63\\nSkipping line 79: expected 3 fields, saw 63\\nSkipping line 80: expected 3 fields, saw 63\\nSkipping line 81: expected 3 fields, saw 63\\nSkipping line 82: expected 3 fields, saw 63\\nSkipping line 83: expected 3 fields, saw 63\\nSkipping line 84: expected 3 fields, saw 63\\nSkipping line 85: expected 3 fields, saw 63\\nSkipping line 86: expected 3 fields, saw 63\\nSkipping line 87: expected 3 fields, saw 63\\nSkipping line 88: expected 3 fields, saw 63\\nSkipping line 89: expected 3 fields, saw 63\\nSkipping line 90: expected 3 fields, saw 63\\nSkipping line 91: expected 3 fields, saw 63\\nSkipping line 92: expected 3 fields, saw 63\\nSkipping line 93: expected 3 fields, saw 63\\nSkipping line 94: expected 3 fields, saw 63\\nSkipping line 95: expected 3 fields, saw 63\\nSkipping line 96: expected 3 fields, saw 63\\nSkipping line 97: expected 3 fields, saw 63\\nSkipping line 98: expected 3 fields, saw 63\\nSkipping line 99: expected 3 fields, saw 63\\nSkipping line 100: expected 3 fields, saw 63\\nSkipping line 101: expected 3 fields, saw 63\\nSkipping line 102: expected 3 fields, saw 63\\nSkipping line 103: expected 3 fields, saw 63\\nSkipping line 104: expected 3 fields, saw 63\\nSkipping line 105: expected 3 fields, saw 63\\nSkipping line 106: expected 3 fields, saw 63\\nSkipping line 107: expected 3 fields, saw 63\\nSkipping line 108: expected 3 fields, saw 63\\nSkipping line 109: expected 3 fields, saw 63\\nSkipping line 110: expected 3 fields, saw 63\\nSkipping line 111: expected 3 fields, saw 63\\nSkipping line 112: expected 3 fields, saw 63\\nSkipping line 113: expected 3 fields, saw 63\\nSkipping line 114: expected 3 fields, saw 63\\nSkipping line 115: expected 3 fields, saw 63\\nSkipping line 116: expected 3 fields, saw 63\\nSkipping line 117: expected 3 fields, saw 63\\nSkipping line 118: expected 3 fields, saw 63\\nSkipping line 119: expected 3 fields, saw 63\\nSkipping line 120: expected 3 fields, saw 63\\nSkipping line 121: expected 3 fields, saw 63\\nSkipping line 122: expected 3 fields, saw 63\\nSkipping line 123: expected 3 fields, saw 63\\nSkipping line 124: expected 3 fields, saw 63\\nSkipping line 125: expected 3 fields, saw 63\\nSkipping line 126: expected 3 fields, saw 63\\nSkipping line 127: expected 3 fields, saw 63\\nSkipping line 128: expected 3 fields, saw 63\\nSkipping line 129: expected 3 fields, saw 63\\nSkipping line 130: expected 3 fields, saw 63\\nSkipping line 131: expected 3 fields, saw 63\\nSkipping line 132: expected 3 fields, saw 63\\nSkipping line 133: expected 3 fields, saw 63\\nSkipping line 134: expected 3 fields, saw 63\\nSkipping line 135: expected 3 fields, saw 63\\nSkipping line 136: expected 3 fields, saw 63\\nSkipping line 137: expected 3 fields, saw 63\\nSkipping line 138: expected 3 fields, saw 63\\nSkipping line 139: expected 3 fields, saw 63\\nSkipping line 140: expected 3 fields, saw 63\\nSkipping line 141: expected 3 fields, saw 63\\nSkipping line 142: expected 3 fields, saw 63\\nSkipping line 143: expected 3 fields, saw 63\\nSkipping line 144: expected 3 fields, saw 63\\nSkipping line 145: expected 3 fields, saw 63\\nSkipping line 146: expected 3 fields, saw 63\\nSkipping line 147: expected 3 fields, saw 63\\nSkipping line 148: expected 3 fields, saw 63\\nSkipping line 149: expected 3 fields, saw 63\\nSkipping line 150: expected 3 fields, saw 63\\nSkipping line 151: expected 3 fields, saw 63\\nSkipping line 152: expected 3 fields, saw 63\\nSkipping line 153: expected 3 fields, saw 63\\nSkipping line 154: expected 3 fields, saw 63\\nSkipping line 155: expected 3 fields, saw 63\\nSkipping line 156: expected 3 fields, saw 63\\nSkipping line 157: expected 3 fields, saw 63\\nSkipping line 158: expected 3 fields, saw 63\\nSkipping line 159: expected 3 fields, saw 63\\nSkipping line 160: expected 3 fields, saw 63\\nSkipping line 161: expected 3 fields, saw 63\\nSkipping line 162: expected 3 fields, saw 63\\nSkipping line 163: expected 3 fields, saw 63\\nSkipping line 164: expected 3 fields, saw 63\\nSkipping line 165: expected 3 fields, saw 63\\nSkipping line 166: expected 3 fields, saw 63\\nSkipping line 167: expected 3 fields, saw 63\\nSkipping line 168: expected 3 fields, saw 63\\nSkipping line 169: expected 3 fields, saw 63\\nSkipping line 170: expected 3 fields, saw 63\\nSkipping line 171: expected 3 fields, saw 63\\nSkipping line 172: expected 3 fields, saw 63\\nSkipping line 173: expected 3 fields, saw 63\\nSkipping line 174: expected 3 fields, saw 63\\nSkipping line 175: expected 3 fields, saw 63\\nSkipping line 176: expected 3 fields, saw 63\\nSkipping line 177: expected 3 fields, saw 63\\nSkipping line 178: expected 3 fields, saw 63\\nSkipping line 179: expected 3 fields, saw 63\\nSkipping line 180: expected 3 fields, saw 63\\nSkipping line 181: expected 3 fields, saw 63\\nSkipping line 182: expected 3 fields, saw 63\\nSkipping line 183: expected 3 fields, saw 63\\nSkipping line 184: expected 3 fields, saw 63\\nSkipping line 185: expected 3 fields, saw 63\\nSkipping line 186: expected 3 fields, saw 63\\nSkipping line 187: expected 3 fields, saw 63\\nSkipping line 188: expected 3 fields, saw 63\\nSkipping line 189: expected 3 fields, saw 63\\nSkipping line 190: expected 3 fields, saw 63\\nSkipping line 191: expected 3 fields, saw 63\\nSkipping line 192: expected 3 fields, saw 63\\nSkipping line 193: expected 3 fields, saw 63\\nSkipping line 194: expected 3 fields, saw 63\\nSkipping line 195: expected 3 fields, saw 63\\nSkipping line 196: expected 3 fields, saw 63\\nSkipping line 197: expected 3 fields, saw 63\\nSkipping line 198: expected 3 fields, saw 63\\nSkipping line 199: expected 3 fields, saw 63\\nSkipping line 200: expected 3 fields, saw 63\\nSkipping line 201: expected 3 fields, saw 63\\nSkipping line 202: expected 3 fields, saw 63\\nSkipping line 203: expected 3 fields, saw 63\\nSkipping line 204: expected 3 fields, saw 63\\nSkipping line 205: expected 3 fields, saw 63\\nSkipping line 206: expected 3 fields, saw 63\\nSkipping line 207: expected 3 fields, saw 63\\nSkipping line 208: expected 3 fields, saw 63\\nSkipping line 209: expected 3 fields, saw 63\\nSkipping line 210: expected 3 fields, saw 63\\nSkipping line 211: expected 3 fields, saw 63\\nSkipping line 212: expected 3 fields, saw 63\\nSkipping line 213: expected 3 fields, saw 63\\nSkipping line 214: expected 3 fields, saw 63\\nSkipping line 215: expected 3 fields, saw 63\\nSkipping line 216: expected 3 fields, saw 63\\nSkipping line 217: expected 3 fields, saw 63\\nSkipping line 218: expected 3 fields, saw 63\\nSkipping line 219: expected 3 fields, saw 63\\nSkipping line 220: expected 3 fields, saw 63\\nSkipping line 221: expected 3 fields, saw 63\\nSkipping line 222: expected 3 fields, saw 63\\nSkipping line 223: expected 3 fields, saw 63\\nSkipping line 224: expected 3 fields, saw 63\\nSkipping line 225: expected 3 fields, saw 63\\nSkipping line 226: expected 3 fields, saw 63\\nSkipping line 227: expected 3 fields, saw 63\\nSkipping line 228: expected 3 fields, saw 63\\nSkipping line 229: expected 3 fields, saw 63\\nSkipping line 230: expected 3 fields, saw 63\\nSkipping line 231: expected 3 fields, saw 63\\nSkipping line 232: expected 3 fields, saw 63\\nSkipping line 233: expected 3 fields, saw 63\\nSkipping line 234: expected 3 fields, saw 63\\nSkipping line 235: expected 3 fields, saw 63\\nSkipping line 236: expected 3 fields, saw 63\\nSkipping line 237: expected 3 fields, saw 63\\nSkipping line 238: expected 3 fields, saw 63\\nSkipping line 239: expected 3 fields, saw 63\\nSkipping line 240: expected 3 fields, saw 63\\nSkipping line 241: expected 3 fields, saw 63\\nSkipping line 242: expected 3 fields, saw 63\\nSkipping line 243: expected 3 fields, saw 63\\nSkipping line 244: expected 3 fields, saw 63\\nSkipping line 245: expected 3 fields, saw 63\\nSkipping line 246: expected 3 fields, saw 63\\nSkipping line 247: expected 3 fields, saw 63\\nSkipping line 248: expected 3 fields, saw 63\\nSkipping line 249: expected 3 fields, saw 63\\nSkipping line 250: expected 3 fields, saw 63\\nSkipping line 251: expected 3 fields, saw 63\\nSkipping line 252: expected 3 fields, saw 63\\nSkipping line 253: expected 3 fields, saw 63\\nSkipping line 254: expected 3 fields, saw 63\\nSkipping line 255: expected 3 fields, saw 63\\nSkipping line 256: expected 3 fields, saw 63\\nSkipping line 257: expected 3 fields, saw 63\\nSkipping line 258: expected 3 fields, saw 63\\nSkipping line 259: expected 3 fields, saw 63\\nSkipping line 260: expected 3 fields, saw 63\\nSkipping line 261: expected 3 fields, saw 63\\nSkipping line 262: expected 3 fields, saw 63\\nSkipping line 263: expected 3 fields, saw 63\\nSkipping line 264: expected 3 fields, saw 63\\nSkipping line 265: expected 3 fields, saw 63\\nSkipping line 266: expected 3 fields, saw 63\\nSkipping line 267: expected 3 fields, saw 63\\nSkipping line 268: expected 3 fields, saw 63\\nSkipping line 269: expected 3 fields, saw 63\\n'\n"
     ]
    },
    {
     "data": {
      "text/html": [
       "<div>\n",
       "<style scoped>\n",
       "    .dataframe tbody tr th:only-of-type {\n",
       "        vertical-align: middle;\n",
       "    }\n",
       "\n",
       "    .dataframe tbody tr th {\n",
       "        vertical-align: top;\n",
       "    }\n",
       "\n",
       "    .dataframe thead th {\n",
       "        text-align: right;\n",
       "    }\n",
       "</style>\n",
       "<table border=\"1\" class=\"dataframe\">\n",
       "  <thead>\n",
       "    <tr style=\"text-align: right;\">\n",
       "      <th></th>\n",
       "      <th>Data Source</th>\n",
       "      <th>World Development Indicators</th>\n",
       "      <th>Unnamed: 2</th>\n",
       "    </tr>\n",
       "  </thead>\n",
       "  <tbody>\n",
       "    <tr>\n",
       "      <th>0</th>\n",
       "      <td>Last Updated Date</td>\n",
       "      <td>2018-10-18</td>\n",
       "      <td>NaN</td>\n",
       "    </tr>\n",
       "  </tbody>\n",
       "</table>\n",
       "</div>"
      ],
      "text/plain": [
       "         Data Source World Development Indicators  Unnamed: 2\n",
       "0  Last Updated Date                   2018-10-18         NaN"
      ]
     },
     "execution_count": 6,
     "metadata": {},
     "output_type": "execute_result"
    }
   ],
   "source": [
    "GDP1 = pd.read_csv(\"Metadata_Indicator_API_NY.GDP.MKTP.CD_DS2_en_csv_v2_10203569\".)\n",
    "GDP1.head()"
   ]
  },
  {
   "cell_type": "code",
   "execution_count": null,
   "metadata": {},
   "outputs": [],
   "source": []
  }
 ],
 "metadata": {
  "kernelspec": {
   "display_name": "Python 3",
   "language": "python",
   "name": "python3"
  },
  "language_info": {
   "codemirror_mode": {
    "name": "ipython",
    "version": 3
   },
   "file_extension": ".py",
   "mimetype": "text/x-python",
   "name": "python",
   "nbconvert_exporter": "python",
   "pygments_lexer": "ipython3",
   "version": "3.6.5"
  }
 },
 "nbformat": 4,
 "nbformat_minor": 2
}
