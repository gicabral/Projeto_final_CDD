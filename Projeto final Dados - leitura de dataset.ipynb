{
 "cells": [
  {
   "cell_type": "code",
   "execution_count": 191,
   "metadata": {},
   "outputs": [],
   "source": [
    "%matplotlib inline\n",
    "import pandas as pd\n",
    "import numpy as np\n",
    "import math as math\n",
    "from scipy import stats\n",
    "import matplotlib.pyplot as plt\n",
    "import seaborn as sns\n",
    "import re\n",
    "import statsmodels.api as sm\n",
    "from sklearn.model_selection import train_test_split\n",
    "\n",
    "\n",
    "RANDOM_SEED = 42\n",
    "\n",
    "np.random.seed(RANDOM_SEED)"
   ]
  },
  {
   "cell_type": "markdown",
   "metadata": {},
   "source": [
    "## Análise exploratória do dataset base de hapiness score\n",
    "\n",
    "# Objetivo: \n",
    "\n",
    "A partir de um dataset de hapiness score, obtido a partir de perguntas feitas à população, será construído, nesse projeto, uma regressão para ter uma fórmula que meça o hapiness score, com base em  dados concretos."
   ]
  },
  {
   "cell_type": "markdown",
   "metadata": {},
   "source": [
    "No database que foi pego como base da pesquisa, tínhamos o happiness score definido a partir de perguntas para a população que dava um número de 0 a 10, e com base nisso, eles colocaram o quanto que cada variável contribuiu para essa resposta do país. Com isso, estamos fazendo uma modelagem para prever a partir de regressões, o happiness score com dados prévios, sem ter a necessidade de perguntar para as pessoas."
   ]
  },
  {
   "cell_type": "code",
   "execution_count": 235,
   "metadata": {},
   "outputs": [],
   "source": [
    "#Função que realiza a regressão\n",
    "def regress(X,Y):\n",
    "    X_cp = sm.add_constant(X)\n",
    "    model = sm.OLS(Y,X_cp)\n",
    "    results = model.fit()\n",
    "    return results"
   ]
  },
  {
   "cell_type": "code",
   "execution_count": 192,
   "metadata": {},
   "outputs": [
    {
     "data": {
      "text/html": [
       "<div>\n",
       "<style scoped>\n",
       "    .dataframe tbody tr th:only-of-type {\n",
       "        vertical-align: middle;\n",
       "    }\n",
       "\n",
       "    .dataframe tbody tr th {\n",
       "        vertical-align: top;\n",
       "    }\n",
       "\n",
       "    .dataframe thead th {\n",
       "        text-align: right;\n",
       "    }\n",
       "</style>\n",
       "<table border=\"1\" class=\"dataframe\">\n",
       "  <thead>\n",
       "    <tr style=\"text-align: right;\">\n",
       "      <th></th>\n",
       "      <th>Country</th>\n",
       "      <th>Region</th>\n",
       "      <th>Happiness Rank</th>\n",
       "      <th>Happiness Score</th>\n",
       "      <th>Standard Error</th>\n",
       "      <th>Economy (GDP per Capita)</th>\n",
       "      <th>Family</th>\n",
       "      <th>Health (Life Expectancy)</th>\n",
       "      <th>Freedom</th>\n",
       "      <th>Trust (Government Corruption)</th>\n",
       "      <th>Generosity</th>\n",
       "      <th>Dystopia Residual</th>\n",
       "    </tr>\n",
       "  </thead>\n",
       "  <tbody>\n",
       "    <tr>\n",
       "      <th>0</th>\n",
       "      <td>Switzerland</td>\n",
       "      <td>Western Europe</td>\n",
       "      <td>1</td>\n",
       "      <td>7.587</td>\n",
       "      <td>0.03411</td>\n",
       "      <td>1.39651</td>\n",
       "      <td>1.34951</td>\n",
       "      <td>0.94143</td>\n",
       "      <td>0.66557</td>\n",
       "      <td>0.41978</td>\n",
       "      <td>0.29678</td>\n",
       "      <td>2.51738</td>\n",
       "    </tr>\n",
       "    <tr>\n",
       "      <th>1</th>\n",
       "      <td>Iceland</td>\n",
       "      <td>Western Europe</td>\n",
       "      <td>2</td>\n",
       "      <td>7.561</td>\n",
       "      <td>0.04884</td>\n",
       "      <td>1.30232</td>\n",
       "      <td>1.40223</td>\n",
       "      <td>0.94784</td>\n",
       "      <td>0.62877</td>\n",
       "      <td>0.14145</td>\n",
       "      <td>0.43630</td>\n",
       "      <td>2.70201</td>\n",
       "    </tr>\n",
       "    <tr>\n",
       "      <th>2</th>\n",
       "      <td>Denmark</td>\n",
       "      <td>Western Europe</td>\n",
       "      <td>3</td>\n",
       "      <td>7.527</td>\n",
       "      <td>0.03328</td>\n",
       "      <td>1.32548</td>\n",
       "      <td>1.36058</td>\n",
       "      <td>0.87464</td>\n",
       "      <td>0.64938</td>\n",
       "      <td>0.48357</td>\n",
       "      <td>0.34139</td>\n",
       "      <td>2.49204</td>\n",
       "    </tr>\n",
       "    <tr>\n",
       "      <th>3</th>\n",
       "      <td>Norway</td>\n",
       "      <td>Western Europe</td>\n",
       "      <td>4</td>\n",
       "      <td>7.522</td>\n",
       "      <td>0.03880</td>\n",
       "      <td>1.45900</td>\n",
       "      <td>1.33095</td>\n",
       "      <td>0.88521</td>\n",
       "      <td>0.66973</td>\n",
       "      <td>0.36503</td>\n",
       "      <td>0.34699</td>\n",
       "      <td>2.46531</td>\n",
       "    </tr>\n",
       "    <tr>\n",
       "      <th>4</th>\n",
       "      <td>Canada</td>\n",
       "      <td>North America</td>\n",
       "      <td>5</td>\n",
       "      <td>7.427</td>\n",
       "      <td>0.03553</td>\n",
       "      <td>1.32629</td>\n",
       "      <td>1.32261</td>\n",
       "      <td>0.90563</td>\n",
       "      <td>0.63297</td>\n",
       "      <td>0.32957</td>\n",
       "      <td>0.45811</td>\n",
       "      <td>2.45176</td>\n",
       "    </tr>\n",
       "    <tr>\n",
       "      <th>5</th>\n",
       "      <td>Finland</td>\n",
       "      <td>Western Europe</td>\n",
       "      <td>6</td>\n",
       "      <td>7.406</td>\n",
       "      <td>0.03140</td>\n",
       "      <td>1.29025</td>\n",
       "      <td>1.31826</td>\n",
       "      <td>0.88911</td>\n",
       "      <td>0.64169</td>\n",
       "      <td>0.41372</td>\n",
       "      <td>0.23351</td>\n",
       "      <td>2.61955</td>\n",
       "    </tr>\n",
       "    <tr>\n",
       "      <th>6</th>\n",
       "      <td>Netherlands</td>\n",
       "      <td>Western Europe</td>\n",
       "      <td>7</td>\n",
       "      <td>7.378</td>\n",
       "      <td>0.02799</td>\n",
       "      <td>1.32944</td>\n",
       "      <td>1.28017</td>\n",
       "      <td>0.89284</td>\n",
       "      <td>0.61576</td>\n",
       "      <td>0.31814</td>\n",
       "      <td>0.47610</td>\n",
       "      <td>2.46570</td>\n",
       "    </tr>\n",
       "    <tr>\n",
       "      <th>7</th>\n",
       "      <td>Sweden</td>\n",
       "      <td>Western Europe</td>\n",
       "      <td>8</td>\n",
       "      <td>7.364</td>\n",
       "      <td>0.03157</td>\n",
       "      <td>1.33171</td>\n",
       "      <td>1.28907</td>\n",
       "      <td>0.91087</td>\n",
       "      <td>0.65980</td>\n",
       "      <td>0.43844</td>\n",
       "      <td>0.36262</td>\n",
       "      <td>2.37119</td>\n",
       "    </tr>\n",
       "    <tr>\n",
       "      <th>8</th>\n",
       "      <td>New Zealand</td>\n",
       "      <td>Australia and New Zealand</td>\n",
       "      <td>9</td>\n",
       "      <td>7.286</td>\n",
       "      <td>0.03371</td>\n",
       "      <td>1.25018</td>\n",
       "      <td>1.31967</td>\n",
       "      <td>0.90837</td>\n",
       "      <td>0.63938</td>\n",
       "      <td>0.42922</td>\n",
       "      <td>0.47501</td>\n",
       "      <td>2.26425</td>\n",
       "    </tr>\n",
       "    <tr>\n",
       "      <th>9</th>\n",
       "      <td>Australia</td>\n",
       "      <td>Australia and New Zealand</td>\n",
       "      <td>10</td>\n",
       "      <td>7.284</td>\n",
       "      <td>0.04083</td>\n",
       "      <td>1.33358</td>\n",
       "      <td>1.30923</td>\n",
       "      <td>0.93156</td>\n",
       "      <td>0.65124</td>\n",
       "      <td>0.35637</td>\n",
       "      <td>0.43562</td>\n",
       "      <td>2.26646</td>\n",
       "    </tr>\n",
       "  </tbody>\n",
       "</table>\n",
       "</div>"
      ],
      "text/plain": [
       "       Country                     Region  Happiness Rank  Happiness Score  \\\n",
       "0  Switzerland             Western Europe               1            7.587   \n",
       "1      Iceland             Western Europe               2            7.561   \n",
       "2      Denmark             Western Europe               3            7.527   \n",
       "3       Norway             Western Europe               4            7.522   \n",
       "4       Canada              North America               5            7.427   \n",
       "5      Finland             Western Europe               6            7.406   \n",
       "6  Netherlands             Western Europe               7            7.378   \n",
       "7       Sweden             Western Europe               8            7.364   \n",
       "8  New Zealand  Australia and New Zealand               9            7.286   \n",
       "9    Australia  Australia and New Zealand              10            7.284   \n",
       "\n",
       "   Standard Error  Economy (GDP per Capita)   Family  \\\n",
       "0         0.03411                   1.39651  1.34951   \n",
       "1         0.04884                   1.30232  1.40223   \n",
       "2         0.03328                   1.32548  1.36058   \n",
       "3         0.03880                   1.45900  1.33095   \n",
       "4         0.03553                   1.32629  1.32261   \n",
       "5         0.03140                   1.29025  1.31826   \n",
       "6         0.02799                   1.32944  1.28017   \n",
       "7         0.03157                   1.33171  1.28907   \n",
       "8         0.03371                   1.25018  1.31967   \n",
       "9         0.04083                   1.33358  1.30923   \n",
       "\n",
       "   Health (Life Expectancy)  Freedom  Trust (Government Corruption)  \\\n",
       "0                   0.94143  0.66557                        0.41978   \n",
       "1                   0.94784  0.62877                        0.14145   \n",
       "2                   0.87464  0.64938                        0.48357   \n",
       "3                   0.88521  0.66973                        0.36503   \n",
       "4                   0.90563  0.63297                        0.32957   \n",
       "5                   0.88911  0.64169                        0.41372   \n",
       "6                   0.89284  0.61576                        0.31814   \n",
       "7                   0.91087  0.65980                        0.43844   \n",
       "8                   0.90837  0.63938                        0.42922   \n",
       "9                   0.93156  0.65124                        0.35637   \n",
       "\n",
       "   Generosity  Dystopia Residual  \n",
       "0     0.29678            2.51738  \n",
       "1     0.43630            2.70201  \n",
       "2     0.34139            2.49204  \n",
       "3     0.34699            2.46531  \n",
       "4     0.45811            2.45176  \n",
       "5     0.23351            2.61955  \n",
       "6     0.47610            2.46570  \n",
       "7     0.36262            2.37119  \n",
       "8     0.47501            2.26425  \n",
       "9     0.43562            2.26646  "
      ]
     },
     "execution_count": 192,
     "metadata": {},
     "output_type": "execute_result"
    }
   ],
   "source": [
    "dataset = pd.read_csv('hapiness_score_2015.csv')\n",
    "dataset.head(10)"
   ]
  },
  {
   "cell_type": "markdown",
   "metadata": {},
   "source": [
    "Podemos comparar o nosso resultado com a pesquisa feita nesse dataset, para ver se faz sentido"
   ]
  },
  {
   "cell_type": "code",
   "execution_count": 193,
   "metadata": {
    "scrolled": true
   },
   "outputs": [],
   "source": [
    "#Colocando os países como o index\n",
    "h = dataset.loc[:,]\n",
    "data_idx=h.set_index(\"Country\")"
   ]
  },
  {
   "cell_type": "markdown",
   "metadata": {},
   "source": [
    "## Primeira variável analisada: GDP"
   ]
  },
  {
   "cell_type": "code",
   "execution_count": 194,
   "metadata": {},
   "outputs": [
    {
     "data": {
      "text/html": [
       "<div>\n",
       "<style scoped>\n",
       "    .dataframe tbody tr th:only-of-type {\n",
       "        vertical-align: middle;\n",
       "    }\n",
       "\n",
       "    .dataframe tbody tr th {\n",
       "        vertical-align: top;\n",
       "    }\n",
       "\n",
       "    .dataframe thead th {\n",
       "        text-align: right;\n",
       "    }\n",
       "</style>\n",
       "<table border=\"1\" class=\"dataframe\">\n",
       "  <thead>\n",
       "    <tr style=\"text-align: right;\">\n",
       "      <th></th>\n",
       "      <th>GDP em 2015</th>\n",
       "    </tr>\n",
       "    <tr>\n",
       "      <th>País</th>\n",
       "      <th></th>\n",
       "    </tr>\n",
       "  </thead>\n",
       "  <tbody>\n",
       "    <tr>\n",
       "      <th>Afghanistan</th>\n",
       "      <td>2.11</td>\n",
       "    </tr>\n",
       "    <tr>\n",
       "      <th>Albania</th>\n",
       "      <td>3.82</td>\n",
       "    </tr>\n",
       "    <tr>\n",
       "      <th>Algeria</th>\n",
       "      <td>2.10</td>\n",
       "    </tr>\n",
       "    <tr>\n",
       "      <th>Andorra</th>\n",
       "      <td>0.00</td>\n",
       "    </tr>\n",
       "    <tr>\n",
       "      <th>Angola</th>\n",
       "      <td>2.46</td>\n",
       "    </tr>\n",
       "  </tbody>\n",
       "</table>\n",
       "</div>"
      ],
      "text/plain": [
       "             GDP em 2015\n",
       "País                    \n",
       "Afghanistan         2.11\n",
       "Albania             3.82\n",
       "Algeria             2.10\n",
       "Andorra             0.00\n",
       "Angola              2.46"
      ]
     },
     "execution_count": 194,
     "metadata": {},
     "output_type": "execute_result"
    }
   ],
   "source": [
    "#Leitura do Excel (Divisão do ano feito anteriormente no arquivo de python GDP - 2015)\n",
    "gdp = pd.read_excel('GDP_lido.xlsx')\n",
    "gdp.head()\n",
    "\n",
    "#Colocando o index como os Países\n",
    "i = gdp.loc[:,]\n",
    "gdp_idx = i.set_index('País')\n",
    "gdp_idx.head()"
   ]
  },
  {
   "cell_type": "code",
   "execution_count": 195,
   "metadata": {},
   "outputs": [
    {
     "data": {
      "text/html": [
       "<div>\n",
       "<style scoped>\n",
       "    .dataframe tbody tr th:only-of-type {\n",
       "        vertical-align: middle;\n",
       "    }\n",
       "\n",
       "    .dataframe tbody tr th {\n",
       "        vertical-align: top;\n",
       "    }\n",
       "\n",
       "    .dataframe thead th {\n",
       "        text-align: right;\n",
       "    }\n",
       "</style>\n",
       "<table border=\"1\" class=\"dataframe\">\n",
       "  <thead>\n",
       "    <tr style=\"text-align: right;\">\n",
       "      <th></th>\n",
       "      <th>GDP em 2015</th>\n",
       "      <th>Happiness Score</th>\n",
       "    </tr>\n",
       "  </thead>\n",
       "  <tbody>\n",
       "    <tr>\n",
       "      <th>Afghanistan</th>\n",
       "      <td>2.110</td>\n",
       "      <td>3.575</td>\n",
       "    </tr>\n",
       "    <tr>\n",
       "      <th>Albania</th>\n",
       "      <td>3.820</td>\n",
       "      <td>4.959</td>\n",
       "    </tr>\n",
       "    <tr>\n",
       "      <th>Algeria</th>\n",
       "      <td>2.100</td>\n",
       "      <td>5.605</td>\n",
       "    </tr>\n",
       "    <tr>\n",
       "      <th>Angola</th>\n",
       "      <td>2.460</td>\n",
       "      <td>4.033</td>\n",
       "    </tr>\n",
       "    <tr>\n",
       "      <th>Argentina</th>\n",
       "      <td>-0.128</td>\n",
       "      <td>6.574</td>\n",
       "    </tr>\n",
       "  </tbody>\n",
       "</table>\n",
       "</div>"
      ],
      "text/plain": [
       "             GDP em 2015  Happiness Score\n",
       "Afghanistan        2.110            3.575\n",
       "Albania            3.820            4.959\n",
       "Algeria            2.100            5.605\n",
       "Angola             2.460            4.033\n",
       "Argentina         -0.128            6.574"
      ]
     },
     "execution_count": 195,
     "metadata": {},
     "output_type": "execute_result"
    }
   ],
   "source": [
    "# Junção do dataset com o GDP \n",
    "df = gdp_idx.join(data_idx, how='inner')\n",
    "\n",
    "ter = df.loc[:,['GDP em 2015', 'Happiness Score']]\n",
    "\n",
    "ter.head()"
   ]
  },
  {
   "cell_type": "code",
   "execution_count": 196,
   "metadata": {},
   "outputs": [
    {
     "data": {
      "image/png": "[encoded data removed]",
      "text/plain": [
       "<matplotlib.figure.Figure at 0x15af594c198>"
      ]
     },
     "metadata": {},
     "output_type": "display_data"
    }
   ],
   "source": [
    "#Plotagem do gráfico de dispersão\n",
    "plt.scatter(dff[\"Happiness Score\"],dff[\"GDP em 2015\"]);\n",
    "plt.xlabel(\"GDP per capita\");\n",
    "plt.ylabel(\"Happiness Score\");\n",
    "plt.show()"
   ]
  },
  {
   "cell_type": "code",
   "execution_count": 197,
   "metadata": {},
   "outputs": [
    {
     "data": {
      "image/png": "[encoded data removed]",
      "text/plain": [
       "<matplotlib.figure.Figure at 0x15af832a198>"
      ]
     },
     "metadata": {},
     "output_type": "display_data"
    }
   ],
   "source": [
    "ter.hist();"
   ]
  },
  {
   "cell_type": "code",
   "execution_count": 198,
   "metadata": {},
   "outputs": [
    {
     "data": {
      "text/html": [
       "<div>\n",
       "<style scoped>\n",
       "    .dataframe tbody tr th:only-of-type {\n",
       "        vertical-align: middle;\n",
       "    }\n",
       "\n",
       "    .dataframe tbody tr th {\n",
       "        vertical-align: top;\n",
       "    }\n",
       "\n",
       "    .dataframe thead th {\n",
       "        text-align: right;\n",
       "    }\n",
       "</style>\n",
       "<table border=\"1\" class=\"dataframe\">\n",
       "  <thead>\n",
       "    <tr style=\"text-align: right;\">\n",
       "      <th></th>\n",
       "      <th>GDP em 2015</th>\n",
       "      <th>Happiness Score</th>\n",
       "    </tr>\n",
       "  </thead>\n",
       "  <tbody>\n",
       "    <tr>\n",
       "      <th>GDP em 2015</th>\n",
       "      <td>1.00000</td>\n",
       "      <td>-0.22057</td>\n",
       "    </tr>\n",
       "    <tr>\n",
       "      <th>Happiness Score</th>\n",
       "      <td>-0.22057</td>\n",
       "      <td>1.00000</td>\n",
       "    </tr>\n",
       "  </tbody>\n",
       "</table>\n",
       "</div>"
      ],
      "text/plain": [
       "                 GDP em 2015  Happiness Score\n",
       "GDP em 2015          1.00000         -0.22057\n",
       "Happiness Score     -0.22057          1.00000"
      ]
     },
     "execution_count": 198,
     "metadata": {},
     "output_type": "execute_result"
    }
   ],
   "source": [
    "ter.corr()"
   ]
  },
  {
   "cell_type": "markdown",
   "metadata": {},
   "source": [
    "No histograma do GDP, percebemos que o gráfico está com uma concentração na parte esquerda, com um outlier na direita, que possivelmente atrapalha o histograma ser representado como uma normal assim como o cálculo da correlação, deixando ele com o valor de 22%"
   ]
  },
  {
   "cell_type": "code",
   "execution_count": 234,
   "metadata": {},
   "outputs": [
    {
     "data": {
      "text/html": [
       "<table class=\"simpletable\">\n",
       "<caption>OLS Regression Results</caption>\n",
       "<tr>\n",
       "  <th>Dep. Variable:</th>     <td>Happiness Score</td> <th>  R-squared:         </th> <td>   0.460</td>\n",
       "</tr>\n",
       "<tr>\n",
       "  <th>Model:</th>                   <td>OLS</td>       <th>  Adj. R-squared:    </th> <td>   0.456</td>\n",
       "</tr>\n",
       "<tr>\n",
       "  <th>Method:</th>             <td>Least Squares</td>  <th>  F-statistic:       </th> <td>   122.8</td>\n",
       "</tr>\n",
       "<tr>\n",
       "  <th>Date:</th>             <td>Sat, 10 Nov 2018</td> <th>  Prob (F-statistic):</th> <td>5.12e-21</td>\n",
       "</tr>\n",
       "<tr>\n",
       "  <th>Time:</th>                 <td>17:37:25</td>     <th>  Log-Likelihood:    </th> <td> -408.93</td>\n",
       "</tr>\n",
       "<tr>\n",
       "  <th>No. Observations:</th>      <td>   145</td>      <th>  AIC:               </th> <td>   819.9</td>\n",
       "</tr>\n",
       "<tr>\n",
       "  <th>Df Residuals:</th>          <td>   144</td>      <th>  BIC:               </th> <td>   822.8</td>\n",
       "</tr>\n",
       "<tr>\n",
       "  <th>Df Model:</th>              <td>     1</td>      <th>                     </th>     <td> </td>   \n",
       "</tr>\n",
       "<tr>\n",
       "  <th>Covariance Type:</th>      <td>nonrobust</td>    <th>                     </th>     <td> </td>   \n",
       "</tr>\n",
       "</table>\n",
       "<table class=\"simpletable\">\n",
       "<tr>\n",
       "       <td></td>          <th>coef</th>     <th>std err</th>      <th>t</th>      <th>P>|t|</th>  <th>[0.025</th>    <th>0.975]</th>  \n",
       "</tr>\n",
       "<tr>\n",
       "  <th>GDP em 2015</th> <td>    0.9249</td> <td>    0.083</td> <td>   11.079</td> <td> 0.000</td> <td>    0.760</td> <td>    1.090</td>\n",
       "</tr>\n",
       "</table>\n",
       "<table class=\"simpletable\">\n",
       "<tr>\n",
       "  <th>Omnibus:</th>       <td>125.460</td> <th>  Durbin-Watson:     </th> <td>   1.031</td>\n",
       "</tr>\n",
       "<tr>\n",
       "  <th>Prob(Omnibus):</th> <td> 0.000</td>  <th>  Jarque-Bera (JB):  </th> <td>2438.662</td>\n",
       "</tr>\n",
       "<tr>\n",
       "  <th>Skew:</th>          <td>-2.840</td>  <th>  Prob(JB):          </th> <td>    0.00</td>\n",
       "</tr>\n",
       "<tr>\n",
       "  <th>Kurtosis:</th>      <td>22.271</td>  <th>  Cond. No.          </th> <td>    1.00</td>\n",
       "</tr>\n",
       "</table>"
      ],
      "text/plain": [
       "<class 'statsmodels.iolib.summary.Summary'>\n",
       "\"\"\"\n",
       "                            OLS Regression Results                            \n",
       "==============================================================================\n",
       "Dep. Variable:        Happiness Score   R-squared:                       0.460\n",
       "Model:                            OLS   Adj. R-squared:                  0.456\n",
       "Method:                 Least Squares   F-statistic:                     122.8\n",
       "Date:                Sat, 10 Nov 2018   Prob (F-statistic):           5.12e-21\n",
       "Time:                        17:37:25   Log-Likelihood:                -408.93\n",
       "No. Observations:                 145   AIC:                             819.9\n",
       "Df Residuals:                     144   BIC:                             822.8\n",
       "Df Model:                           1                                         \n",
       "Covariance Type:            nonrobust                                         \n",
       "===============================================================================\n",
       "                  coef    std err          t      P>|t|      [0.025      0.975]\n",
       "-------------------------------------------------------------------------------\n",
       "GDP em 2015     0.9249      0.083     11.079      0.000       0.760       1.090\n",
       "==============================================================================\n",
       "Omnibus:                      125.460   Durbin-Watson:                   1.031\n",
       "Prob(Omnibus):                  0.000   Jarque-Bera (JB):             2438.662\n",
       "Skew:                          -2.840   Prob(JB):                         0.00\n",
       "Kurtosis:                      22.271   Cond. No.                         1.00\n",
       "==============================================================================\n",
       "\n",
       "Warnings:\n",
       "[1] Standard Errors assume that the covariance matrix of the errors is correctly specified.\n",
       "\"\"\""
      ]
     },
     "execution_count": 234,
     "metadata": {},
     "output_type": "execute_result"
    }
   ],
   "source": [
    "xc = sm.add_constant(dff[\"Happiness Score\"]) #serve para incluir um beta zero, que é uma constante inicial\n",
    "model = sm.OLS(dff['Happiness Score'],dff[\"GDP em 2015\"]) \n",
    "results = model.fit() #gera o relatório com os dados calculados.\n",
    "results.summary() #colocar o nome das coisas"
   ]
  },
  {
   "cell_type": "markdown",
   "metadata": {},
   "source": [
    "Como o r-square indica o quão o modelo é bom para prever algo a partir dele, o nosso é razoável pois tem 46% de probabilidade de prever algo. \n",
    "\n",
    "O p-value do modelo é bastante baixo indicando que as variáveis x e y são correlacionadas, indicando heterocedasticidade.\n",
    "\n",
    "A estatistica de teste f indica que os betas são reais, diferentes de zero  visto que suas probabilidades deles serem zero é muito baixa.\n",
    "\n",
    "Além disso o teste Omnibus indica que há baixa probabilidade das variáveis se distribuirem sendo uma normal.\n"
   ]
  },
  {
   "cell_type": "markdown",
   "metadata": {},
   "source": [
    "## Segunda variável analisada: Expectativa de vida\n"
   ]
  },
  {
   "cell_type": "code",
   "execution_count": 199,
   "metadata": {},
   "outputs": [],
   "source": [
    "# Leitura dos dados sobre expectativa de vida\n",
    "exp = pd.read_excel('expecativa.xlsx')\n",
    "\n",
    "#Separando a coluna do ano de 2015\n",
    "exp_2015 = exp.loc[:,['Life expectancy', 2015]]\n",
    "exp_better_2015 = exp_2015.dropna()\n",
    "expp = exp_better_2015.rename(columns={2015:'Expectativa de vida'})\n",
    "\n",
    "#Colocando o index como os países\n",
    "exp_idx = expp.set_index('Life expectancy')\n",
    "\n",
    "#Juntando a nova variável com o dataframe \n",
    "dff = ter.join(exp_idx, how='inner')\n",
    "dff.head()\n",
    "dff.to_excel('dff.xlsx')"
   ]
  },
  {
   "cell_type": "code",
   "execution_count": 237,
   "metadata": {},
   "outputs": [
    {
     "data": {
      "text/html": [
       "<div>\n",
       "<style scoped>\n",
       "    .dataframe tbody tr th:only-of-type {\n",
       "        vertical-align: middle;\n",
       "    }\n",
       "\n",
       "    .dataframe tbody tr th {\n",
       "        vertical-align: top;\n",
       "    }\n",
       "\n",
       "    .dataframe thead th {\n",
       "        text-align: right;\n",
       "    }\n",
       "</style>\n",
       "<table border=\"1\" class=\"dataframe\">\n",
       "  <thead>\n",
       "    <tr style=\"text-align: right;\">\n",
       "      <th></th>\n",
       "      <th>GDP em 2015</th>\n",
       "      <th>Happiness Score</th>\n",
       "      <th>Expectativa de vida</th>\n",
       "    </tr>\n",
       "  </thead>\n",
       "  <tbody>\n",
       "    <tr>\n",
       "      <th>GDP em 2015</th>\n",
       "      <td>1.000000</td>\n",
       "      <td>-0.220570</td>\n",
       "      <td>-0.227385</td>\n",
       "    </tr>\n",
       "    <tr>\n",
       "      <th>Happiness Score</th>\n",
       "      <td>-0.220570</td>\n",
       "      <td>1.000000</td>\n",
       "      <td>0.737686</td>\n",
       "    </tr>\n",
       "    <tr>\n",
       "      <th>Expectativa de vida</th>\n",
       "      <td>-0.227385</td>\n",
       "      <td>0.737686</td>\n",
       "      <td>1.000000</td>\n",
       "    </tr>\n",
       "  </tbody>\n",
       "</table>\n",
       "</div>"
      ],
      "text/plain": [
       "                     GDP em 2015  Happiness Score  Expectativa de vida\n",
       "GDP em 2015             1.000000        -0.220570            -0.227385\n",
       "Happiness Score        -0.220570         1.000000             0.737686\n",
       "Expectativa de vida    -0.227385         0.737686             1.000000"
      ]
     },
     "execution_count": 237,
     "metadata": {},
     "output_type": "execute_result"
    },
    {
     "data": {
      "image/png": "[encoded data removed]",
      "text/plain": [
       "<matplotlib.figure.Figure at 0x15af849b780>"
      ]
     },
     "metadata": {},
     "output_type": "display_data"
    }
   ],
   "source": [
    "plt.scatter(dff[\"Happiness Score\"],dff[\"Expectativa de vida\"]);\n",
    "plt.xlabel(\"Expectativa de vida\");\n",
    "plt.ylabel(\"Happiness Score\");\n",
    "\n",
    "dff.corr()"
   ]
  },
  {
   "cell_type": "code",
   "execution_count": 240,
   "metadata": {},
   "outputs": [
    {
     "data": {
      "image/png": "[encoded data removed]",
      "text/plain": [
       "<matplotlib.figure.Figure at 0x15af837c160>"
      ]
     },
     "metadata": {},
     "output_type": "display_data"
    }
   ],
   "source": [
    "dff.hist();"
   ]
  },
  {
   "cell_type": "code",
   "execution_count": 243,
   "metadata": {},
   "outputs": [
    {
     "data": {
      "text/html": [
       "<table class=\"simpletable\">\n",
       "<caption>OLS Regression Results</caption>\n",
       "<tr>\n",
       "  <th>Dep. Variable:</th>     <td>Happiness Score</td> <th>  R-squared:         </th> <td>   0.544</td>\n",
       "</tr>\n",
       "<tr>\n",
       "  <th>Model:</th>                   <td>OLS</td>       <th>  Adj. R-squared:    </th> <td>   0.541</td>\n",
       "</tr>\n",
       "<tr>\n",
       "  <th>Method:</th>             <td>Least Squares</td>  <th>  F-statistic:       </th> <td>   170.7</td>\n",
       "</tr>\n",
       "<tr>\n",
       "  <th>Date:</th>             <td>Sat, 10 Nov 2018</td> <th>  Prob (F-statistic):</th> <td>3.60e-26</td>\n",
       "</tr>\n",
       "<tr>\n",
       "  <th>Time:</th>                 <td>18:04:14</td>     <th>  Log-Likelihood:    </th> <td> -171.30</td>\n",
       "</tr>\n",
       "<tr>\n",
       "  <th>No. Observations:</th>      <td>   145</td>      <th>  AIC:               </th> <td>   346.6</td>\n",
       "</tr>\n",
       "<tr>\n",
       "  <th>Df Residuals:</th>          <td>   143</td>      <th>  BIC:               </th> <td>   352.5</td>\n",
       "</tr>\n",
       "<tr>\n",
       "  <th>Df Model:</th>              <td>     1</td>      <th>                     </th>     <td> </td>   \n",
       "</tr>\n",
       "<tr>\n",
       "  <th>Covariance Type:</th>      <td>nonrobust</td>    <th>                     </th>     <td> </td>   \n",
       "</tr>\n",
       "</table>\n",
       "<table class=\"simpletable\">\n",
       "<tr>\n",
       "           <td></td>              <th>coef</th>     <th>std err</th>      <th>t</th>      <th>P>|t|</th>  <th>[0.025</th>    <th>0.975]</th>  \n",
       "</tr>\n",
       "<tr>\n",
       "  <th>const</th>               <td>   -2.3091</td> <td>    0.594</td> <td>   -3.889</td> <td> 0.000</td> <td>   -3.483</td> <td>   -1.135</td>\n",
       "</tr>\n",
       "<tr>\n",
       "  <th>Expectativa de vida</th> <td>    0.1064</td> <td>    0.008</td> <td>   13.066</td> <td> 0.000</td> <td>    0.090</td> <td>    0.122</td>\n",
       "</tr>\n",
       "</table>\n",
       "<table class=\"simpletable\">\n",
       "<tr>\n",
       "  <th>Omnibus:</th>       <td> 2.776</td> <th>  Durbin-Watson:     </th> <td>   2.078</td>\n",
       "</tr>\n",
       "<tr>\n",
       "  <th>Prob(Omnibus):</th> <td> 0.250</td> <th>  Jarque-Bera (JB):  </th> <td>   1.873</td>\n",
       "</tr>\n",
       "<tr>\n",
       "  <th>Skew:</th>          <td> 0.004</td> <th>  Prob(JB):          </th> <td>   0.392</td>\n",
       "</tr>\n",
       "<tr>\n",
       "  <th>Kurtosis:</th>      <td> 2.443</td> <th>  Cond. No.          </th> <td>    657.</td>\n",
       "</tr>\n",
       "</table>"
      ],
      "text/plain": [
       "<class 'statsmodels.iolib.summary.Summary'>\n",
       "\"\"\"\n",
       "                            OLS Regression Results                            \n",
       "==============================================================================\n",
       "Dep. Variable:        Happiness Score   R-squared:                       0.544\n",
       "Model:                            OLS   Adj. R-squared:                  0.541\n",
       "Method:                 Least Squares   F-statistic:                     170.7\n",
       "Date:                Sat, 10 Nov 2018   Prob (F-statistic):           3.60e-26\n",
       "Time:                        18:04:14   Log-Likelihood:                -171.30\n",
       "No. Observations:                 145   AIC:                             346.6\n",
       "Df Residuals:                     143   BIC:                             352.5\n",
       "Df Model:                           1                                         \n",
       "Covariance Type:            nonrobust                                         \n",
       "=======================================================================================\n",
       "                          coef    std err          t      P>|t|      [0.025      0.975]\n",
       "---------------------------------------------------------------------------------------\n",
       "const                  -2.3091      0.594     -3.889      0.000      -3.483      -1.135\n",
       "Expectativa de vida     0.1064      0.008     13.066      0.000       0.090       0.122\n",
       "==============================================================================\n",
       "Omnibus:                        2.776   Durbin-Watson:                   2.078\n",
       "Prob(Omnibus):                  0.250   Jarque-Bera (JB):                1.873\n",
       "Skew:                           0.004   Prob(JB):                        0.392\n",
       "Kurtosis:                       2.443   Cond. No.                         657.\n",
       "==============================================================================\n",
       "\n",
       "Warnings:\n",
       "[1] Standard Errors assume that the covariance matrix of the errors is correctly specified.\n",
       "\"\"\""
      ]
     },
     "execution_count": 243,
     "metadata": {},
     "output_type": "execute_result"
    }
   ],
   "source": [
    "x = dff[['Expectativa de vida']]\n",
    "y = dff[['Happiness Score']]\n",
    "\n",
    "results = regress(x, y)\n",
    "results.summary() #coloar o nome das coisas"
   ]
  },
  {
   "cell_type": "markdown",
   "metadata": {},
   "source": [
    "Já na regressão linear entre expectativa de vida e happiness score, temos que o modelo tem uma confiabilidade de 54%, além disso, a probabilidade de f é bastante baixa, de modo a indicar que os betas são reias não nulos. E a probabilidade dos coeficientes não serem correlacionados é baixa também, visto que a probabilidade de t quebra a hipótese nula."
   ]
  },
  {
   "cell_type": "code",
   "execution_count": 203,
   "metadata": {},
   "outputs": [
    {
     "data": {
      "text/html": [
       "<table class=\"simpletable\">\n",
       "<caption>OLS Regression Results</caption>\n",
       "<tr>\n",
       "  <th>Dep. Variable:</th>     <td>Happiness Score</td> <th>  R-squared:         </th> <td>   0.547</td>\n",
       "</tr>\n",
       "<tr>\n",
       "  <th>Model:</th>                   <td>OLS</td>       <th>  Adj. R-squared:    </th> <td>   0.541</td>\n",
       "</tr>\n",
       "<tr>\n",
       "  <th>Method:</th>             <td>Least Squares</td>  <th>  F-statistic:       </th> <td>   85.78</td>\n",
       "</tr>\n",
       "<tr>\n",
       "  <th>Date:</th>             <td>Sat, 10 Nov 2018</td> <th>  Prob (F-statistic):</th> <td>3.75e-25</td>\n",
       "</tr>\n",
       "<tr>\n",
       "  <th>Time:</th>                 <td>17:29:43</td>     <th>  Log-Likelihood:    </th> <td> -170.83</td>\n",
       "</tr>\n",
       "<tr>\n",
       "  <th>No. Observations:</th>      <td>   145</td>      <th>  AIC:               </th> <td>   347.7</td>\n",
       "</tr>\n",
       "<tr>\n",
       "  <th>Df Residuals:</th>          <td>   142</td>      <th>  BIC:               </th> <td>   356.6</td>\n",
       "</tr>\n",
       "<tr>\n",
       "  <th>Df Model:</th>              <td>     2</td>      <th>                     </th>     <td> </td>   \n",
       "</tr>\n",
       "<tr>\n",
       "  <th>Covariance Type:</th>      <td>nonrobust</td>    <th>                     </th>     <td> </td>   \n",
       "</tr>\n",
       "</table>\n",
       "<table class=\"simpletable\">\n",
       "<tr>\n",
       "           <td></td>              <th>coef</th>     <th>std err</th>      <th>t</th>      <th>P>|t|</th>  <th>[0.025</th>    <th>0.975]</th>  \n",
       "</tr>\n",
       "<tr>\n",
       "  <th>const</th>               <td>   -2.1079</td> <td>    0.630</td> <td>   -3.347</td> <td> 0.001</td> <td>   -3.353</td> <td>   -0.863</td>\n",
       "</tr>\n",
       "<tr>\n",
       "  <th>GDP em 2015</th>         <td>   -0.0234</td> <td>    0.024</td> <td>   -0.961</td> <td> 0.338</td> <td>   -0.071</td> <td>    0.025</td>\n",
       "</tr>\n",
       "<tr>\n",
       "  <th>Expectativa de vida</th> <td>    0.1045</td> <td>    0.008</td> <td>   12.502</td> <td> 0.000</td> <td>    0.088</td> <td>    0.121</td>\n",
       "</tr>\n",
       "</table>\n",
       "<table class=\"simpletable\">\n",
       "<tr>\n",
       "  <th>Omnibus:</th>       <td> 2.939</td> <th>  Durbin-Watson:     </th> <td>   2.074</td>\n",
       "</tr>\n",
       "<tr>\n",
       "  <th>Prob(Omnibus):</th> <td> 0.230</td> <th>  Jarque-Bera (JB):  </th> <td>   1.946</td>\n",
       "</tr>\n",
       "<tr>\n",
       "  <th>Skew:</th>          <td>-0.020</td> <th>  Prob(JB):          </th> <td>   0.378</td>\n",
       "</tr>\n",
       "<tr>\n",
       "  <th>Kurtosis:</th>      <td> 2.434</td> <th>  Cond. No.          </th> <td>    697.</td>\n",
       "</tr>\n",
       "</table>"
      ],
      "text/plain": [
       "<class 'statsmodels.iolib.summary.Summary'>\n",
       "\"\"\"\n",
       "                            OLS Regression Results                            \n",
       "==============================================================================\n",
       "Dep. Variable:        Happiness Score   R-squared:                       0.547\n",
       "Model:                            OLS   Adj. R-squared:                  0.541\n",
       "Method:                 Least Squares   F-statistic:                     85.78\n",
       "Date:                Sat, 10 Nov 2018   Prob (F-statistic):           3.75e-25\n",
       "Time:                        17:29:43   Log-Likelihood:                -170.83\n",
       "No. Observations:                 145   AIC:                             347.7\n",
       "Df Residuals:                     142   BIC:                             356.6\n",
       "Df Model:                           2                                         \n",
       "Covariance Type:            nonrobust                                         \n",
       "=======================================================================================\n",
       "                          coef    std err          t      P>|t|      [0.025      0.975]\n",
       "---------------------------------------------------------------------------------------\n",
       "const                  -2.1079      0.630     -3.347      0.001      -3.353      -0.863\n",
       "GDP em 2015            -0.0234      0.024     -0.961      0.338      -0.071       0.025\n",
       "Expectativa de vida     0.1045      0.008     12.502      0.000       0.088       0.121\n",
       "==============================================================================\n",
       "Omnibus:                        2.939   Durbin-Watson:                   2.074\n",
       "Prob(Omnibus):                  0.230   Jarque-Bera (JB):                1.946\n",
       "Skew:                          -0.020   Prob(JB):                        0.378\n",
       "Kurtosis:                       2.434   Cond. No.                         697.\n",
       "==============================================================================\n",
       "\n",
       "Warnings:\n",
       "[1] Standard Errors assume that the covariance matrix of the errors is correctly specified.\n",
       "\"\"\""
      ]
     },
     "execution_count": 203,
     "metadata": {},
     "output_type": "execute_result"
    }
   ],
   "source": [
    "X3 = dff[[\"GDP em 2015\",\"Expectativa de vida\"]]\n",
    "results3 = regress(X3, dff[\"Happiness Score\"])\n",
    "results3.summary()"
   ]
  },
  {
   "cell_type": "markdown",
   "metadata": {},
   "source": [
    "Juntando as duas variáveis, percebemos que a confiabilidade é de 54%, além de que a probabilidade de F-statistic é muito baixa, afirmando que pelo menos um dos betas é diferente de zero. Porém, ao observar o p-value de cada uma das variáveis, percebemos que essa probabilidade é baixa em relação ao beta do 'Happiness Score' e da 'Expectativa de vida' são muito baixos, quebrando a hipótese nula de que o beta é igual à zero. Mas para o p-value do 'GDP em 2015', não é possível afirmar nada, considerando que o p-value não é um valor baixo.\n",
    "\n",
    "Em relação aos resíduos, pelo método de Omnibus, a probabilidade de se comportar como uma normal é de 23%, já para o método de Jarque-Bera, apresenta uma probabilidade de 37% de se comportar como uma normal."
   ]
  },
  {
   "cell_type": "markdown",
   "metadata": {},
   "source": [
    "## Análise exploratória sem outlier do GDP "
   ]
  },
  {
   "cell_type": "code",
   "execution_count": 264,
   "metadata": {},
   "outputs": [],
   "source": [
    "gdp1 = pd.read_excel('GDP_outlier.xlsx')\n",
    "\n",
    "i = gdp1.loc[:,]\n",
    "gdp1_idx = i.set_index('País')"
   ]
  },
  {
   "cell_type": "code",
   "execution_count": 270,
   "metadata": {},
   "outputs": [],
   "source": [
    "dff2_ = dff.drop(\"GDP em 2015\", axis=1) #Tirando a coluna do GDP com outlier\n",
    "dff2 = dff2_.join(gdp1_idx, how='inner') #Colocando a coluna sem o outlier"
   ]
  },
  {
   "cell_type": "code",
   "execution_count": 272,
   "metadata": {},
   "outputs": [
    {
     "data": {
      "image/png": "[encoded data removed]",
      "text/plain": [
       "<matplotlib.figure.Figure at 0x15af89a15f8>"
      ]
     },
     "metadata": {},
     "output_type": "display_data"
    }
   ],
   "source": [
    "dff2['GDP em 2015'].hist();"
   ]
  },
  {
   "cell_type": "code",
   "execution_count": 268,
   "metadata": {},
   "outputs": [
    {
     "data": {
      "image/png": "[encoded data removed]",
      "text/plain": [
       "<matplotlib.figure.Figure at 0x15af87e5f28>"
      ]
     },
     "metadata": {},
     "output_type": "display_data"
    }
   ],
   "source": [
    "plt.scatter(dff2[\"Happiness Score\"],dff2[\"GDP em 2015\"]);\n",
    "plt.xlabel(\"GDP per capita\");\n",
    "plt.ylabel(\"Happiness Score\");\n",
    "plt.show()"
   ]
  },
  {
   "cell_type": "code",
   "execution_count": 271,
   "metadata": {},
   "outputs": [
    {
     "data": {
      "text/html": [
       "<div>\n",
       "<style scoped>\n",
       "    .dataframe tbody tr th:only-of-type {\n",
       "        vertical-align: middle;\n",
       "    }\n",
       "\n",
       "    .dataframe tbody tr th {\n",
       "        vertical-align: top;\n",
       "    }\n",
       "\n",
       "    .dataframe thead th {\n",
       "        text-align: right;\n",
       "    }\n",
       "</style>\n",
       "<table border=\"1\" class=\"dataframe\">\n",
       "  <thead>\n",
       "    <tr style=\"text-align: right;\">\n",
       "      <th></th>\n",
       "      <th>Happiness Score</th>\n",
       "      <th>Expectativa de vida</th>\n",
       "      <th>GDP em 2015</th>\n",
       "    </tr>\n",
       "  </thead>\n",
       "  <tbody>\n",
       "    <tr>\n",
       "      <th>Happiness Score</th>\n",
       "      <td>1.000000</td>\n",
       "      <td>0.737605</td>\n",
       "      <td>-0.360132</td>\n",
       "    </tr>\n",
       "    <tr>\n",
       "      <th>Expectativa de vida</th>\n",
       "      <td>0.737605</td>\n",
       "      <td>1.000000</td>\n",
       "      <td>-0.360598</td>\n",
       "    </tr>\n",
       "    <tr>\n",
       "      <th>GDP em 2015</th>\n",
       "      <td>-0.360132</td>\n",
       "      <td>-0.360598</td>\n",
       "      <td>1.000000</td>\n",
       "    </tr>\n",
       "  </tbody>\n",
       "</table>\n",
       "</div>"
      ],
      "text/plain": [
       "                     Happiness Score  Expectativa de vida  GDP em 2015\n",
       "Happiness Score             1.000000             0.737605    -0.360132\n",
       "Expectativa de vida         0.737605             1.000000    -0.360598\n",
       "GDP em 2015                -0.360132            -0.360598     1.000000"
      ]
     },
     "execution_count": 271,
     "metadata": {},
     "output_type": "execute_result"
    }
   ],
   "source": [
    "dff2.corr()"
   ]
  },
  {
   "cell_type": "markdown",
   "metadata": {},
   "source": [
    "Como podemos observar, a correlação entre 'GDP em 2015'  e 'Happiness Score' aumentou para 36% de correlação, além do histograma ficar mais próximo de uma normal"
   ]
  },
  {
   "cell_type": "code",
   "execution_count": 275,
   "metadata": {},
   "outputs": [
    {
     "data": {
      "text/html": [
       "<table class=\"simpletable\">\n",
       "<caption>OLS Regression Results</caption>\n",
       "<tr>\n",
       "  <th>Dep. Variable:</th>     <td>Happiness Score</td> <th>  R-squared:         </th> <td>   0.554</td>\n",
       "</tr>\n",
       "<tr>\n",
       "  <th>Model:</th>                   <td>OLS</td>       <th>  Adj. R-squared:    </th> <td>   0.548</td>\n",
       "</tr>\n",
       "<tr>\n",
       "  <th>Method:</th>             <td>Least Squares</td>  <th>  F-statistic:       </th> <td>   87.66</td>\n",
       "</tr>\n",
       "<tr>\n",
       "  <th>Date:</th>             <td>Sat, 10 Nov 2018</td> <th>  Prob (F-statistic):</th> <td>1.82e-25</td>\n",
       "</tr>\n",
       "<tr>\n",
       "  <th>Time:</th>                 <td>18:33:46</td>     <th>  Log-Likelihood:    </th> <td> -168.96</td>\n",
       "</tr>\n",
       "<tr>\n",
       "  <th>No. Observations:</th>      <td>   144</td>      <th>  AIC:               </th> <td>   343.9</td>\n",
       "</tr>\n",
       "<tr>\n",
       "  <th>Df Residuals:</th>          <td>   141</td>      <th>  BIC:               </th> <td>   352.8</td>\n",
       "</tr>\n",
       "<tr>\n",
       "  <th>Df Model:</th>              <td>     2</td>      <th>                     </th>     <td> </td>   \n",
       "</tr>\n",
       "<tr>\n",
       "  <th>Covariance Type:</th>      <td>nonrobust</td>    <th>                     </th>     <td> </td>   \n",
       "</tr>\n",
       "</table>\n",
       "<table class=\"simpletable\">\n",
       "<tr>\n",
       "           <td></td>              <th>coef</th>     <th>std err</th>      <th>t</th>      <th>P>|t|</th>  <th>[0.025</th>    <th>0.975]</th>  \n",
       "</tr>\n",
       "<tr>\n",
       "  <th>const</th>               <td>   -1.7111</td> <td>    0.678</td> <td>   -2.523</td> <td> 0.013</td> <td>   -3.052</td> <td>   -0.370</td>\n",
       "</tr>\n",
       "<tr>\n",
       "  <th>Expectativa de vida</th> <td>    0.1007</td> <td>    0.009</td> <td>   11.589</td> <td> 0.000</td> <td>    0.084</td> <td>    0.118</td>\n",
       "</tr>\n",
       "<tr>\n",
       "  <th>GDP em 2015</th>         <td>   -0.0683</td> <td>    0.038</td> <td>   -1.795</td> <td> 0.075</td> <td>   -0.143</td> <td>    0.007</td>\n",
       "</tr>\n",
       "</table>\n",
       "<table class=\"simpletable\">\n",
       "<tr>\n",
       "  <th>Omnibus:</th>       <td> 2.090</td> <th>  Durbin-Watson:     </th> <td>   2.084</td>\n",
       "</tr>\n",
       "<tr>\n",
       "  <th>Prob(Omnibus):</th> <td> 0.352</td> <th>  Jarque-Bera (JB):  </th> <td>   1.574</td>\n",
       "</tr>\n",
       "<tr>\n",
       "  <th>Skew:</th>          <td>-0.032</td> <th>  Prob(JB):          </th> <td>   0.455</td>\n",
       "</tr>\n",
       "<tr>\n",
       "  <th>Kurtosis:</th>      <td> 2.492</td> <th>  Cond. No.          </th> <td>    752.</td>\n",
       "</tr>\n",
       "</table>"
      ],
      "text/plain": [
       "<class 'statsmodels.iolib.summary.Summary'>\n",
       "\"\"\"\n",
       "                            OLS Regression Results                            \n",
       "==============================================================================\n",
       "Dep. Variable:        Happiness Score   R-squared:                       0.554\n",
       "Model:                            OLS   Adj. R-squared:                  0.548\n",
       "Method:                 Least Squares   F-statistic:                     87.66\n",
       "Date:                Sat, 10 Nov 2018   Prob (F-statistic):           1.82e-25\n",
       "Time:                        18:33:46   Log-Likelihood:                -168.96\n",
       "No. Observations:                 144   AIC:                             343.9\n",
       "Df Residuals:                     141   BIC:                             352.8\n",
       "Df Model:                           2                                         \n",
       "Covariance Type:            nonrobust                                         \n",
       "=======================================================================================\n",
       "                          coef    std err          t      P>|t|      [0.025      0.975]\n",
       "---------------------------------------------------------------------------------------\n",
       "const                  -1.7111      0.678     -2.523      0.013      -3.052      -0.370\n",
       "Expectativa de vida     0.1007      0.009     11.589      0.000       0.084       0.118\n",
       "GDP em 2015            -0.0683      0.038     -1.795      0.075      -0.143       0.007\n",
       "==============================================================================\n",
       "Omnibus:                        2.090   Durbin-Watson:                   2.084\n",
       "Prob(Omnibus):                  0.352   Jarque-Bera (JB):                1.574\n",
       "Skew:                          -0.032   Prob(JB):                        0.455\n",
       "Kurtosis:                       2.492   Cond. No.                         752.\n",
       "==============================================================================\n",
       "\n",
       "Warnings:\n",
       "[1] Standard Errors assume that the covariance matrix of the errors is correctly specified.\n",
       "\"\"\""
      ]
     },
     "execution_count": 275,
     "metadata": {},
     "output_type": "execute_result"
    }
   ],
   "source": [
    "x = dff2[['Expectativa de vida','GDP em 2015']]\n",
    "y = dff2[['Happiness Score']]\n",
    "\n",
    "results = regress(x,y)\n",
    "results.summary()"
   ]
  },
  {
   "cell_type": "markdown",
   "metadata": {},
   "source": [
    "Sem o outlier do GDP, o r quadrado aumentou discretamente, a hipótese nula do F-statistic continua sendo rejeitada.\n",
    "\n",
    "Sobre os p-values:\n",
    "* Happiness Score: Aumentou em relação à outra anàlise, porém não o suficiente para não rejeitar a hipótese nula\n",
    "* Expectativa de vida: O seu valor continua baixo, continuando a rejeitar a hipótese nula\n",
    "* GDP em 2015: Seu valor abaixou, porém não o suficiente para rejeitar a hipótese nula, então, ainda não conseguimos afirmar nada "
   ]
  },
  {
   "cell_type": "markdown",
   "metadata": {},
   "source": [
    "## Terceira variável analisada: Corrupção"
   ]
  },
  {
   "cell_type": "code",
   "execution_count": 277,
   "metadata": {},
   "outputs": [
    {
     "data": {
      "text/html": [
       "<div>\n",
       "<style scoped>\n",
       "    .dataframe tbody tr th:only-of-type {\n",
       "        vertical-align: middle;\n",
       "    }\n",
       "\n",
       "    .dataframe tbody tr th {\n",
       "        vertical-align: top;\n",
       "    }\n",
       "\n",
       "    .dataframe thead th {\n",
       "        text-align: right;\n",
       "    }\n",
       "</style>\n",
       "<table border=\"1\" class=\"dataframe\">\n",
       "  <thead>\n",
       "    <tr style=\"text-align: right;\">\n",
       "      <th></th>\n",
       "      <th>Happiness Score</th>\n",
       "      <th>Expectativa de vida</th>\n",
       "      <th>GDP em 2015</th>\n",
       "      <th>Corrupção 2015</th>\n",
       "    </tr>\n",
       "  </thead>\n",
       "  <tbody>\n",
       "    <tr>\n",
       "      <th>Afghanistan</th>\n",
       "      <td>3.575</td>\n",
       "      <td>53.8</td>\n",
       "      <td>2.110</td>\n",
       "      <td>11</td>\n",
       "    </tr>\n",
       "    <tr>\n",
       "      <th>Albania</th>\n",
       "      <td>4.959</td>\n",
       "      <td>78.0</td>\n",
       "      <td>3.820</td>\n",
       "      <td>36</td>\n",
       "    </tr>\n",
       "    <tr>\n",
       "      <th>Algeria</th>\n",
       "      <td>5.605</td>\n",
       "      <td>76.4</td>\n",
       "      <td>2.100</td>\n",
       "      <td>36</td>\n",
       "    </tr>\n",
       "    <tr>\n",
       "      <th>Angola</th>\n",
       "      <td>4.033</td>\n",
       "      <td>59.6</td>\n",
       "      <td>2.460</td>\n",
       "      <td>15</td>\n",
       "    </tr>\n",
       "    <tr>\n",
       "      <th>Argentina</th>\n",
       "      <td>6.574</td>\n",
       "      <td>76.5</td>\n",
       "      <td>-0.128</td>\n",
       "      <td>32</td>\n",
       "    </tr>\n",
       "  </tbody>\n",
       "</table>\n",
       "</div>"
      ],
      "text/plain": [
       "             Happiness Score  Expectativa de vida  GDP em 2015  Corrupção 2015\n",
       "Afghanistan            3.575                 53.8        2.110              11\n",
       "Albania                4.959                 78.0        3.820              36\n",
       "Algeria                5.605                 76.4        2.100              36\n",
       "Angola                 4.033                 59.6        2.460              15\n",
       "Argentina              6.574                 76.5       -0.128              32"
      ]
     },
     "execution_count": 277,
     "metadata": {},
     "output_type": "execute_result"
    }
   ],
   "source": [
    "corrup = pd.read_excel('corrup_limpo.xlsx') #leitura do dataset\n",
    "\n",
    "corrup1=corrup.set_index(\"Países\")\n",
    "dff3 = dff2.join(corrup1, how='inner') #junção com o dataframe já feito\n",
    "dff3=dff3.rename(columns={'2015':\"Corrupção 2015\"})\n",
    "dff3.head()"
   ]
  },
  {
   "cell_type": "code",
   "execution_count": 278,
   "metadata": {},
   "outputs": [
    {
     "data": {
      "text/html": [
       "<div>\n",
       "<style scoped>\n",
       "    .dataframe tbody tr th:only-of-type {\n",
       "        vertical-align: middle;\n",
       "    }\n",
       "\n",
       "    .dataframe tbody tr th {\n",
       "        vertical-align: top;\n",
       "    }\n",
       "\n",
       "    .dataframe thead th {\n",
       "        text-align: right;\n",
       "    }\n",
       "</style>\n",
       "<table border=\"1\" class=\"dataframe\">\n",
       "  <thead>\n",
       "    <tr style=\"text-align: right;\">\n",
       "      <th></th>\n",
       "      <th>Happiness Score</th>\n",
       "      <th>Expectativa de vida</th>\n",
       "      <th>GDP em 2015</th>\n",
       "      <th>Corrupção 2015</th>\n",
       "    </tr>\n",
       "  </thead>\n",
       "  <tbody>\n",
       "    <tr>\n",
       "      <th>Happiness Score</th>\n",
       "      <td>1.000000</td>\n",
       "      <td>0.737605</td>\n",
       "      <td>-0.360132</td>\n",
       "      <td>0.680788</td>\n",
       "    </tr>\n",
       "    <tr>\n",
       "      <th>Expectativa de vida</th>\n",
       "      <td>0.737605</td>\n",
       "      <td>1.000000</td>\n",
       "      <td>-0.360598</td>\n",
       "      <td>0.646031</td>\n",
       "    </tr>\n",
       "    <tr>\n",
       "      <th>GDP em 2015</th>\n",
       "      <td>-0.360132</td>\n",
       "      <td>-0.360598</td>\n",
       "      <td>1.000000</td>\n",
       "      <td>-0.293008</td>\n",
       "    </tr>\n",
       "    <tr>\n",
       "      <th>Corrupção 2015</th>\n",
       "      <td>0.680788</td>\n",
       "      <td>0.646031</td>\n",
       "      <td>-0.293008</td>\n",
       "      <td>1.000000</td>\n",
       "    </tr>\n",
       "  </tbody>\n",
       "</table>\n",
       "</div>"
      ],
      "text/plain": [
       "                     Happiness Score  Expectativa de vida  GDP em 2015  \\\n",
       "Happiness Score             1.000000             0.737605    -0.360132   \n",
       "Expectativa de vida         0.737605             1.000000    -0.360598   \n",
       "GDP em 2015                -0.360132            -0.360598     1.000000   \n",
       "Corrupção 2015              0.680788             0.646031    -0.293008   \n",
       "\n",
       "                     Corrupção 2015  \n",
       "Happiness Score            0.680788  \n",
       "Expectativa de vida        0.646031  \n",
       "GDP em 2015               -0.293008  \n",
       "Corrupção 2015             1.000000  "
      ]
     },
     "execution_count": 278,
     "metadata": {},
     "output_type": "execute_result"
    },
    {
     "data": {
      "image/png": "[encoded data removed]",
      "text/plain": [
       "<matplotlib.figure.Figure at 0x15af8a7ecc0>"
      ]
     },
     "metadata": {},
     "output_type": "display_data"
    }
   ],
   "source": [
    "plt.scatter(dff3[\"Happiness Score\"],dff3[\"Corrupção 2015\"]);\n",
    "plt.xlabel(\"Corrupção\");\n",
    "\n",
    "plt.ylabel(\"Happiness Score\");\n",
    "\n",
    "dff3.corr()"
   ]
  },
  {
   "cell_type": "code",
   "execution_count": 279,
   "metadata": {},
   "outputs": [
    {
     "data": {
      "text/html": [
       "<table class=\"simpletable\">\n",
       "<caption>OLS Regression Results</caption>\n",
       "<tr>\n",
       "  <th>Dep. Variable:</th>     <td>Happiness Score</td> <th>  R-squared:         </th> <td>   0.622</td>\n",
       "</tr>\n",
       "<tr>\n",
       "  <th>Model:</th>                   <td>OLS</td>       <th>  Adj. R-squared:    </th> <td>   0.614</td>\n",
       "</tr>\n",
       "<tr>\n",
       "  <th>Method:</th>             <td>Least Squares</td>  <th>  F-statistic:       </th> <td>   76.75</td>\n",
       "</tr>\n",
       "<tr>\n",
       "  <th>Date:</th>             <td>Sat, 10 Nov 2018</td> <th>  Prob (F-statistic):</th> <td>2.05e-29</td>\n",
       "</tr>\n",
       "<tr>\n",
       "  <th>Time:</th>                 <td>18:49:18</td>     <th>  Log-Likelihood:    </th> <td> -157.12</td>\n",
       "</tr>\n",
       "<tr>\n",
       "  <th>No. Observations:</th>      <td>   144</td>      <th>  AIC:               </th> <td>   322.2</td>\n",
       "</tr>\n",
       "<tr>\n",
       "  <th>Df Residuals:</th>          <td>   140</td>      <th>  BIC:               </th> <td>   334.1</td>\n",
       "</tr>\n",
       "<tr>\n",
       "  <th>Df Model:</th>              <td>     3</td>      <th>                     </th>     <td> </td>   \n",
       "</tr>\n",
       "<tr>\n",
       "  <th>Covariance Type:</th>      <td>nonrobust</td>    <th>                     </th>     <td> </td>   \n",
       "</tr>\n",
       "</table>\n",
       "<table class=\"simpletable\">\n",
       "<tr>\n",
       "           <td></td>              <th>coef</th>     <th>std err</th>      <th>t</th>      <th>P>|t|</th>  <th>[0.025</th>    <th>0.975]</th>  \n",
       "</tr>\n",
       "<tr>\n",
       "  <th>const</th>               <td>   -0.3933</td> <td>    0.680</td> <td>   -0.578</td> <td> 0.564</td> <td>   -1.738</td> <td>    0.951</td>\n",
       "</tr>\n",
       "<tr>\n",
       "  <th>Expectativa de vida</th> <td>    0.0701</td> <td>    0.010</td> <td>    6.942</td> <td> 0.000</td> <td>    0.050</td> <td>    0.090</td>\n",
       "</tr>\n",
       "<tr>\n",
       "  <th>GDP em 2015</th>         <td>   -0.0534</td> <td>    0.035</td> <td>   -1.513</td> <td> 0.132</td> <td>   -0.123</td> <td>    0.016</td>\n",
       "</tr>\n",
       "<tr>\n",
       "  <th>Corrupção 2015</th>      <td>    0.0196</td> <td>    0.004</td> <td>    5.003</td> <td> 0.000</td> <td>    0.012</td> <td>    0.027</td>\n",
       "</tr>\n",
       "</table>\n",
       "<table class=\"simpletable\">\n",
       "<tr>\n",
       "  <th>Omnibus:</th>       <td> 0.850</td> <th>  Durbin-Watson:     </th> <td>   2.134</td>\n",
       "</tr>\n",
       "<tr>\n",
       "  <th>Prob(Omnibus):</th> <td> 0.654</td> <th>  Jarque-Bera (JB):  </th> <td>   0.896</td>\n",
       "</tr>\n",
       "<tr>\n",
       "  <th>Skew:</th>          <td> 0.051</td> <th>  Prob(JB):          </th> <td>   0.639</td>\n",
       "</tr>\n",
       "<tr>\n",
       "  <th>Kurtosis:</th>      <td> 2.627</td> <th>  Cond. No.          </th> <td>    964.</td>\n",
       "</tr>\n",
       "</table>"
      ],
      "text/plain": [
       "<class 'statsmodels.iolib.summary.Summary'>\n",
       "\"\"\"\n",
       "                            OLS Regression Results                            \n",
       "==============================================================================\n",
       "Dep. Variable:        Happiness Score   R-squared:                       0.622\n",
       "Model:                            OLS   Adj. R-squared:                  0.614\n",
       "Method:                 Least Squares   F-statistic:                     76.75\n",
       "Date:                Sat, 10 Nov 2018   Prob (F-statistic):           2.05e-29\n",
       "Time:                        18:49:18   Log-Likelihood:                -157.12\n",
       "No. Observations:                 144   AIC:                             322.2\n",
       "Df Residuals:                     140   BIC:                             334.1\n",
       "Df Model:                           3                                         \n",
       "Covariance Type:            nonrobust                                         \n",
       "=======================================================================================\n",
       "                          coef    std err          t      P>|t|      [0.025      0.975]\n",
       "---------------------------------------------------------------------------------------\n",
       "const                  -0.3933      0.680     -0.578      0.564      -1.738       0.951\n",
       "Expectativa de vida     0.0701      0.010      6.942      0.000       0.050       0.090\n",
       "GDP em 2015            -0.0534      0.035     -1.513      0.132      -0.123       0.016\n",
       "Corrupção 2015          0.0196      0.004      5.003      0.000       0.012       0.027\n",
       "==============================================================================\n",
       "Omnibus:                        0.850   Durbin-Watson:                   2.134\n",
       "Prob(Omnibus):                  0.654   Jarque-Bera (JB):                0.896\n",
       "Skew:                           0.051   Prob(JB):                        0.639\n",
       "Kurtosis:                       2.627   Cond. No.                         964.\n",
       "==============================================================================\n",
       "\n",
       "Warnings:\n",
       "[1] Standard Errors assume that the covariance matrix of the errors is correctly specified.\n",
       "\"\"\""
      ]
     },
     "execution_count": 279,
     "metadata": {},
     "output_type": "execute_result"
    }
   ],
   "source": [
    "x = dff3[['Expectativa de vida', 'GDP em 2015', 'Corrupção 2015']]\n",
    "y = dff3[['Happiness Score']]\n",
    "\n",
    "resultado = regress(x,y)\n",
    "\n",
    "resultado.summary()"
   ]
  },
  {
   "cell_type": "markdown",
   "metadata": {},
   "source": [
    "Com a implementação da variável corrupção, a confiabilidade do resultado aumentou para 62% e a hipótese nula do F-statistic continua sendo quebrada\n",
    "\n",
    "Os p-values tiveram algumas mudanças também:\n",
    "\n",
    "* Happiness Score: a probabilidade aumentou significamente, logo não podemos mais quebrar a hipótese nula com relação à essa variável\n",
    "* Expectativa de Vida: Continua quebrando a hipótese nula, devido ao baixo valor de p-value\n",
    "* GDP em 2015: Seu valor aumentou, e ainda nada se pode afirmar sobre o Beta\n",
    "* Corrupção 2015: Como seu p-value apresenta um valor muito baixo se recusa a hipótese nula de que seu beta é igual à zero\n",
    "\n",
    "Em relação a normalidade dos resíduos a partir dos testes Omnibus e JB, também aumentaram significamente, sendo a probabilidade de se comprtarem como curvas normais é de 65% para Omnibus e 63% para JB\n"
   ]
  },
  {
   "cell_type": "markdown",
   "metadata": {},
   "source": [
    "#### Gráficos:"
   ]
  },
  {
   "cell_type": "code",
   "execution_count": 214,
   "metadata": {},
   "outputs": [
    {
     "data": {
      "image/png": "[encoded data removed]",
      "text/plain": [
       "<matplotlib.figure.Figure at 0x15af7db98d0>"
      ]
     },
     "metadata": {},
     "output_type": "display_data"
    }
   ],
   "source": [
    "plt.scatter(df_16[\"Happiness Score\"],df_16[\"Expectativa de vida em 2016\"]);\n",
    "plt.xlabel(\"Happiness Score\");\n",
    "plt.ylabel(\"Expectativa de vida\");"
   ]
  },
  {
   "cell_type": "code",
   "execution_count": 215,
   "metadata": {},
   "outputs": [
    {
     "data": {
      "image/png": "[encoded data removed]",
      "text/plain": [
       "<matplotlib.figure.Figure at 0x15af8183f28>"
      ]
     },
     "metadata": {},
     "output_type": "display_data"
    }
   ],
   "source": [
    "plt.scatter(df_16[\"Happiness Score\"],df_16[\"Corrupção 2016\"]);\n",
    "plt.xlabel(\"Happiness Score\");\n",
    "plt.ylabel(\"Corrupção\");"
   ]
  },
  {
   "cell_type": "code",
   "execution_count": 281,
   "metadata": {},
   "outputs": [
    {
     "data": {
      "image/png": "[encoded data removed]",
      "text/plain": [
       "<matplotlib.figure.Figure at 0x15af8977400>"
      ]
     },
     "metadata": {},
     "output_type": "display_data"
    }
   ],
   "source": [
    "plt.scatter(df_16[\"Happiness Score\"],df_16[\"GDP em 2016\"]);\n",
    "plt.xlabel(\"Happiness Score\");\n",
    "plt.ylabel(\"GDP\");"
   ]
  },
  {
   "cell_type": "markdown",
   "metadata": {},
   "source": [
    "## Outras variáveis analisadas: Inflação e Mortalidade"
   ]
  },
  {
   "cell_type": "code",
   "execution_count": 282,
   "metadata": {},
   "outputs": [],
   "source": [
    "infla = pd.read_excel('infla_limpo.xlsx')\n",
    "infla1=infla.set_index(\"Country Name\")\n",
    "\n",
    "dff4 = dff3.join(infla1, how='inner')\n",
    "dff4=dff4.rename(columns={'2015':\"Inflação 2015\"})"
   ]
  },
  {
   "cell_type": "code",
   "execution_count": 280,
   "metadata": {},
   "outputs": [
    {
     "data": {
      "text/html": [
       "<div>\n",
       "<style scoped>\n",
       "    .dataframe tbody tr th:only-of-type {\n",
       "        vertical-align: middle;\n",
       "    }\n",
       "\n",
       "    .dataframe tbody tr th {\n",
       "        vertical-align: top;\n",
       "    }\n",
       "\n",
       "    .dataframe thead th {\n",
       "        text-align: right;\n",
       "    }\n",
       "</style>\n",
       "<table border=\"1\" class=\"dataframe\">\n",
       "  <thead>\n",
       "    <tr style=\"text-align: right;\">\n",
       "      <th></th>\n",
       "      <th>Happiness Score</th>\n",
       "      <th>Expectativa de vida</th>\n",
       "      <th>GDP em 2015</th>\n",
       "      <th>Corrupção 2015</th>\n",
       "      <th>Inflação 2015</th>\n",
       "    </tr>\n",
       "  </thead>\n",
       "  <tbody>\n",
       "    <tr>\n",
       "      <th>Happiness Score</th>\n",
       "      <td>1.000000</td>\n",
       "      <td>0.756440</td>\n",
       "      <td>-0.245388</td>\n",
       "      <td>0.690731</td>\n",
       "      <td>-0.153699</td>\n",
       "    </tr>\n",
       "    <tr>\n",
       "      <th>Expectativa de vida</th>\n",
       "      <td>0.756440</td>\n",
       "      <td>1.000000</td>\n",
       "      <td>-0.258460</td>\n",
       "      <td>0.633094</td>\n",
       "      <td>-0.195433</td>\n",
       "    </tr>\n",
       "    <tr>\n",
       "      <th>GDP em 2015</th>\n",
       "      <td>-0.245388</td>\n",
       "      <td>-0.258460</td>\n",
       "      <td>1.000000</td>\n",
       "      <td>-0.350131</td>\n",
       "      <td>-0.076490</td>\n",
       "    </tr>\n",
       "    <tr>\n",
       "      <th>Corrupção 2015</th>\n",
       "      <td>0.690731</td>\n",
       "      <td>0.633094</td>\n",
       "      <td>-0.350131</td>\n",
       "      <td>1.000000</td>\n",
       "      <td>-0.120363</td>\n",
       "    </tr>\n",
       "    <tr>\n",
       "      <th>Inflação 2015</th>\n",
       "      <td>-0.153699</td>\n",
       "      <td>-0.195433</td>\n",
       "      <td>-0.076490</td>\n",
       "      <td>-0.120363</td>\n",
       "      <td>1.000000</td>\n",
       "    </tr>\n",
       "  </tbody>\n",
       "</table>\n",
       "</div>"
      ],
      "text/plain": [
       "                     Happiness Score  Expectativa de vida  GDP em 2015  \\\n",
       "Happiness Score             1.000000             0.756440    -0.245388   \n",
       "Expectativa de vida         0.756440             1.000000    -0.258460   \n",
       "GDP em 2015                -0.245388            -0.258460     1.000000   \n",
       "Corrupção 2015              0.690731             0.633094    -0.350131   \n",
       "Inflação 2015              -0.153699            -0.195433    -0.076490   \n",
       "\n",
       "                     Corrupção 2015  Inflação 2015  \n",
       "Happiness Score            0.690731      -0.153699  \n",
       "Expectativa de vida        0.633094      -0.195433  \n",
       "GDP em 2015               -0.350131      -0.076490  \n",
       "Corrupção 2015             1.000000      -0.120363  \n",
       "Inflação 2015             -0.120363       1.000000  "
      ]
     },
     "execution_count": 280,
     "metadata": {},
     "output_type": "execute_result"
    },
    {
     "data": {
      "image/png": "[encoded data removed]",
      "text/plain": [
       "<matplotlib.figure.Figure at 0x15af8a09da0>"
      ]
     },
     "metadata": {},
     "output_type": "display_data"
    }
   ],
   "source": [
    "plt.scatter(dff4[\"Happiness Score\"],dff4[\"Inflação 2015\"]);\n",
    "plt.xlabel(\"Inflação\");\n",
    "plt.ylabel(\"Happiness Score\");\n",
    "\n",
    "dff4.corr()"
   ]
  },
  {
   "cell_type": "code",
   "execution_count": 219,
   "metadata": {},
   "outputs": [
    {
     "data": {
      "text/html": [
       "<div>\n",
       "<style scoped>\n",
       "    .dataframe tbody tr th:only-of-type {\n",
       "        vertical-align: middle;\n",
       "    }\n",
       "\n",
       "    .dataframe tbody tr th {\n",
       "        vertical-align: top;\n",
       "    }\n",
       "\n",
       "    .dataframe thead th {\n",
       "        text-align: right;\n",
       "    }\n",
       "</style>\n",
       "<table border=\"1\" class=\"dataframe\">\n",
       "  <thead>\n",
       "    <tr style=\"text-align: right;\">\n",
       "      <th></th>\n",
       "      <th>Happiness Score</th>\n",
       "      <th>Expectativa de vida</th>\n",
       "      <th>GDP em 2015</th>\n",
       "      <th>Corrupção 2015</th>\n",
       "      <th>Inflação 2015</th>\n",
       "      <th>Mortalidade 2015</th>\n",
       "    </tr>\n",
       "  </thead>\n",
       "  <tbody>\n",
       "    <tr>\n",
       "      <th>Afghanistan</th>\n",
       "      <td>3.575</td>\n",
       "      <td>53.8</td>\n",
       "      <td>2.110</td>\n",
       "      <td>11</td>\n",
       "      <td>2.432017</td>\n",
       "      <td>73.2</td>\n",
       "    </tr>\n",
       "    <tr>\n",
       "      <th>Albania</th>\n",
       "      <td>4.959</td>\n",
       "      <td>78.0</td>\n",
       "      <td>3.820</td>\n",
       "      <td>36</td>\n",
       "      <td>0.563993</td>\n",
       "      <td>14.0</td>\n",
       "    </tr>\n",
       "    <tr>\n",
       "      <th>Algeria</th>\n",
       "      <td>5.605</td>\n",
       "      <td>76.4</td>\n",
       "      <td>2.100</td>\n",
       "      <td>36</td>\n",
       "      <td>-6.571977</td>\n",
       "      <td>25.5</td>\n",
       "    </tr>\n",
       "    <tr>\n",
       "      <th>Angola</th>\n",
       "      <td>4.033</td>\n",
       "      <td>59.6</td>\n",
       "      <td>2.460</td>\n",
       "      <td>15</td>\n",
       "      <td>-3.980898</td>\n",
       "      <td>86.5</td>\n",
       "    </tr>\n",
       "    <tr>\n",
       "      <th>Argentina</th>\n",
       "      <td>6.574</td>\n",
       "      <td>76.5</td>\n",
       "      <td>-0.128</td>\n",
       "      <td>32</td>\n",
       "      <td>26.579992</td>\n",
       "      <td>11.6</td>\n",
       "    </tr>\n",
       "  </tbody>\n",
       "</table>\n",
       "</div>"
      ],
      "text/plain": [
       "             Happiness Score  Expectativa de vida  GDP em 2015  \\\n",
       "Afghanistan            3.575                 53.8        2.110   \n",
       "Albania                4.959                 78.0        3.820   \n",
       "Algeria                5.605                 76.4        2.100   \n",
       "Angola                 4.033                 59.6        2.460   \n",
       "Argentina              6.574                 76.5       -0.128   \n",
       "\n",
       "             Corrupção 2015  Inflação 2015  Mortalidade 2015  \n",
       "Afghanistan              11       2.432017              73.2  \n",
       "Albania                  36       0.563993              14.0  \n",
       "Algeria                  36      -6.571977              25.5  \n",
       "Angola                   15      -3.980898              86.5  \n",
       "Argentina                32      26.579992              11.6  "
      ]
     },
     "execution_count": 219,
     "metadata": {},
     "output_type": "execute_result"
    }
   ],
   "source": [
    "mort = pd.read_excel('mortalidade_limpo.xlsx')\n",
    "mort1=mort.set_index(\"geo.name\")\n",
    "\n",
    "dff5 = dff4.join(mort1, how='inner')\n",
    "dff5=dff5.rename(columns={2015:\"Mortalidade 2015\"})\n",
    "dff5.head()"
   ]
  },
  {
   "cell_type": "code",
   "execution_count": 220,
   "metadata": {},
   "outputs": [
    {
     "data": {
      "text/html": [
       "<div>\n",
       "<style scoped>\n",
       "    .dataframe tbody tr th:only-of-type {\n",
       "        vertical-align: middle;\n",
       "    }\n",
       "\n",
       "    .dataframe tbody tr th {\n",
       "        vertical-align: top;\n",
       "    }\n",
       "\n",
       "    .dataframe thead th {\n",
       "        text-align: right;\n",
       "    }\n",
       "</style>\n",
       "<table border=\"1\" class=\"dataframe\">\n",
       "  <thead>\n",
       "    <tr style=\"text-align: right;\">\n",
       "      <th></th>\n",
       "      <th>Happiness Score</th>\n",
       "      <th>Expectativa de vida</th>\n",
       "      <th>GDP em 2015</th>\n",
       "      <th>Corrupção 2015</th>\n",
       "      <th>Inflação 2015</th>\n",
       "      <th>Mortalidade 2015</th>\n",
       "    </tr>\n",
       "  </thead>\n",
       "  <tbody>\n",
       "    <tr>\n",
       "      <th>Happiness Score</th>\n",
       "      <td>1.000000</td>\n",
       "      <td>0.756440</td>\n",
       "      <td>-0.245388</td>\n",
       "      <td>0.690731</td>\n",
       "      <td>-0.153699</td>\n",
       "      <td>-0.691822</td>\n",
       "    </tr>\n",
       "    <tr>\n",
       "      <th>Expectativa de vida</th>\n",
       "      <td>0.756440</td>\n",
       "      <td>1.000000</td>\n",
       "      <td>-0.258460</td>\n",
       "      <td>0.633094</td>\n",
       "      <td>-0.195433</td>\n",
       "      <td>-0.892049</td>\n",
       "    </tr>\n",
       "    <tr>\n",
       "      <th>GDP em 2015</th>\n",
       "      <td>-0.245388</td>\n",
       "      <td>-0.258460</td>\n",
       "      <td>1.000000</td>\n",
       "      <td>-0.350131</td>\n",
       "      <td>-0.076490</td>\n",
       "      <td>0.204170</td>\n",
       "    </tr>\n",
       "    <tr>\n",
       "      <th>Corrupção 2015</th>\n",
       "      <td>0.690731</td>\n",
       "      <td>0.633094</td>\n",
       "      <td>-0.350131</td>\n",
       "      <td>1.000000</td>\n",
       "      <td>-0.120363</td>\n",
       "      <td>-0.570125</td>\n",
       "    </tr>\n",
       "    <tr>\n",
       "      <th>Inflação 2015</th>\n",
       "      <td>-0.153699</td>\n",
       "      <td>-0.195433</td>\n",
       "      <td>-0.076490</td>\n",
       "      <td>-0.120363</td>\n",
       "      <td>1.000000</td>\n",
       "      <td>0.129940</td>\n",
       "    </tr>\n",
       "    <tr>\n",
       "      <th>Mortalidade 2015</th>\n",
       "      <td>-0.691822</td>\n",
       "      <td>-0.892049</td>\n",
       "      <td>0.204170</td>\n",
       "      <td>-0.570125</td>\n",
       "      <td>0.129940</td>\n",
       "      <td>1.000000</td>\n",
       "    </tr>\n",
       "  </tbody>\n",
       "</table>\n",
       "</div>"
      ],
      "text/plain": [
       "                     Happiness Score  Expectativa de vida  GDP em 2015  \\\n",
       "Happiness Score             1.000000             0.756440    -0.245388   \n",
       "Expectativa de vida         0.756440             1.000000    -0.258460   \n",
       "GDP em 2015                -0.245388            -0.258460     1.000000   \n",
       "Corrupção 2015              0.690731             0.633094    -0.350131   \n",
       "Inflação 2015              -0.153699            -0.195433    -0.076490   \n",
       "Mortalidade 2015           -0.691822            -0.892049     0.204170   \n",
       "\n",
       "                     Corrupção 2015  Inflação 2015  Mortalidade 2015  \n",
       "Happiness Score            0.690731      -0.153699         -0.691822  \n",
       "Expectativa de vida        0.633094      -0.195433         -0.892049  \n",
       "GDP em 2015               -0.350131      -0.076490          0.204170  \n",
       "Corrupção 2015             1.000000      -0.120363         -0.570125  \n",
       "Inflação 2015             -0.120363       1.000000          0.129940  \n",
       "Mortalidade 2015          -0.570125       0.129940          1.000000  "
      ]
     },
     "execution_count": 220,
     "metadata": {},
     "output_type": "execute_result"
    },
    {
     "data": {
      "image/png": "[encoded data removed]",
      "text/plain": [
       "<matplotlib.figure.Figure at 0x15af845fda0>"
      ]
     },
     "metadata": {},
     "output_type": "display_data"
    }
   ],
   "source": [
    "plt.scatter(dff5[\"Happiness Score\"],dff5[\"Mortalidade 2015\"]);\n",
    "plt.xlabel(\"Mortalidade\");\n",
    "plt.ylabel(\"Happiness Score\");\n",
    "\n",
    "dff5.corr()"
   ]
  },
  {
   "cell_type": "code",
   "execution_count": 221,
   "metadata": {},
   "outputs": [
    {
     "data": {
      "text/html": [
       "<table class=\"simpletable\">\n",
       "<caption>OLS Regression Results</caption>\n",
       "<tr>\n",
       "  <th>Dep. Variable:</th>     <td>Happiness Score</td> <th>  R-squared:         </th> <td>   0.649</td>\n",
       "</tr>\n",
       "<tr>\n",
       "  <th>Model:</th>                   <td>OLS</td>       <th>  Adj. R-squared:    </th> <td>   0.635</td>\n",
       "</tr>\n",
       "<tr>\n",
       "  <th>Method:</th>             <td>Least Squares</td>  <th>  F-statistic:       </th> <td>   48.34</td>\n",
       "</tr>\n",
       "<tr>\n",
       "  <th>Date:</th>             <td>Sat, 10 Nov 2018</td> <th>  Prob (F-statistic):</th> <td>3.92e-28</td>\n",
       "</tr>\n",
       "<tr>\n",
       "  <th>Time:</th>                 <td>17:29:48</td>     <th>  Log-Likelihood:    </th> <td> -143.54</td>\n",
       "</tr>\n",
       "<tr>\n",
       "  <th>No. Observations:</th>      <td>   137</td>      <th>  AIC:               </th> <td>   299.1</td>\n",
       "</tr>\n",
       "<tr>\n",
       "  <th>Df Residuals:</th>          <td>   131</td>      <th>  BIC:               </th> <td>   316.6</td>\n",
       "</tr>\n",
       "<tr>\n",
       "  <th>Df Model:</th>              <td>     5</td>      <th>                     </th>     <td> </td>   \n",
       "</tr>\n",
       "<tr>\n",
       "  <th>Covariance Type:</th>      <td>nonrobust</td>    <th>                     </th>     <td> </td>   \n",
       "</tr>\n",
       "</table>\n",
       "<table class=\"simpletable\">\n",
       "<tr>\n",
       "           <td></td>              <th>coef</th>     <th>std err</th>      <th>t</th>      <th>P>|t|</th>  <th>[0.025</th>    <th>0.975]</th>  \n",
       "</tr>\n",
       "<tr>\n",
       "  <th>const</th>               <td>   -0.3031</td> <td>    1.389</td> <td>   -0.218</td> <td> 0.828</td> <td>   -3.050</td> <td>    2.444</td>\n",
       "</tr>\n",
       "<tr>\n",
       "  <th>Expectativa de vida</th> <td>    0.0672</td> <td>    0.018</td> <td>    3.755</td> <td> 0.000</td> <td>    0.032</td> <td>    0.103</td>\n",
       "</tr>\n",
       "<tr>\n",
       "  <th>GDP em 2015</th>         <td>    0.0061</td> <td>    0.023</td> <td>    0.262</td> <td> 0.794</td> <td>   -0.040</td> <td>    0.052</td>\n",
       "</tr>\n",
       "<tr>\n",
       "  <th>Corrupção 2015</th>      <td>    0.0205</td> <td>    0.004</td> <td>    5.168</td> <td> 0.000</td> <td>    0.013</td> <td>    0.028</td>\n",
       "</tr>\n",
       "<tr>\n",
       "  <th>Inflação 2015</th>       <td>   -0.0013</td> <td>    0.008</td> <td>   -0.165</td> <td> 0.870</td> <td>   -0.017</td> <td>    0.014</td>\n",
       "</tr>\n",
       "<tr>\n",
       "  <th>Mortalidade 2015</th>    <td>   -0.0027</td> <td>    0.004</td> <td>   -0.641</td> <td> 0.523</td> <td>   -0.011</td> <td>    0.006</td>\n",
       "</tr>\n",
       "</table>\n",
       "<table class=\"simpletable\">\n",
       "<tr>\n",
       "  <th>Omnibus:</th>       <td> 1.077</td> <th>  Durbin-Watson:     </th> <td>   2.123</td>\n",
       "</tr>\n",
       "<tr>\n",
       "  <th>Prob(Omnibus):</th> <td> 0.584</td> <th>  Jarque-Bera (JB):  </th> <td>   1.055</td>\n",
       "</tr>\n",
       "<tr>\n",
       "  <th>Skew:</th>          <td>-0.070</td> <th>  Prob(JB):          </th> <td>   0.590</td>\n",
       "</tr>\n",
       "<tr>\n",
       "  <th>Kurtosis:</th>      <td> 2.594</td> <th>  Cond. No.          </th> <td>2.10e+03</td>\n",
       "</tr>\n",
       "</table>"
      ],
      "text/plain": [
       "<class 'statsmodels.iolib.summary.Summary'>\n",
       "\"\"\"\n",
       "                            OLS Regression Results                            \n",
       "==============================================================================\n",
       "Dep. Variable:        Happiness Score   R-squared:                       0.649\n",
       "Model:                            OLS   Adj. R-squared:                  0.635\n",
       "Method:                 Least Squares   F-statistic:                     48.34\n",
       "Date:                Sat, 10 Nov 2018   Prob (F-statistic):           3.92e-28\n",
       "Time:                        17:29:48   Log-Likelihood:                -143.54\n",
       "No. Observations:                 137   AIC:                             299.1\n",
       "Df Residuals:                     131   BIC:                             316.6\n",
       "Df Model:                           5                                         \n",
       "Covariance Type:            nonrobust                                         \n",
       "=======================================================================================\n",
       "                          coef    std err          t      P>|t|      [0.025      0.975]\n",
       "---------------------------------------------------------------------------------------\n",
       "const                  -0.3031      1.389     -0.218      0.828      -3.050       2.444\n",
       "Expectativa de vida     0.0672      0.018      3.755      0.000       0.032       0.103\n",
       "GDP em 2015             0.0061      0.023      0.262      0.794      -0.040       0.052\n",
       "Corrupção 2015          0.0205      0.004      5.168      0.000       0.013       0.028\n",
       "Inflação 2015          -0.0013      0.008     -0.165      0.870      -0.017       0.014\n",
       "Mortalidade 2015       -0.0027      0.004     -0.641      0.523      -0.011       0.006\n",
       "==============================================================================\n",
       "Omnibus:                        1.077   Durbin-Watson:                   2.123\n",
       "Prob(Omnibus):                  0.584   Jarque-Bera (JB):                1.055\n",
       "Skew:                          -0.070   Prob(JB):                        0.590\n",
       "Kurtosis:                       2.594   Cond. No.                     2.10e+03\n",
       "==============================================================================\n",
       "\n",
       "Warnings:\n",
       "[1] Standard Errors assume that the covariance matrix of the errors is correctly specified.\n",
       "[2] The condition number is large, 2.1e+03. This might indicate that there are\n",
       "strong multicollinearity or other numerical problems.\n",
       "\"\"\""
      ]
     },
     "execution_count": 221,
     "metadata": {},
     "output_type": "execute_result"
    }
   ],
   "source": [
    "x = dff5[['Expectativa de vida','GDP em 2015', 'Corrupção 2015', 'Inflação 2015', 'Mortalidade 2015']]\n",
    "y = dff5['Happiness Score']\n",
    "\n",
    "results = regress(x, y)\n",
    "\n",
    "results.summary()"
   ]
  },
  {
   "cell_type": "markdown",
   "metadata": {},
   "source": [
    "Com a implementação dessas duas novas variáveis a confiabilidade do modelo aumentou para 64%, com a probabilidade de F-statistic ainda sendo baixa e assim rejeitando sua hipótese nula.\n",
    "\n",
    "Sobre os p-values:\n",
    "* Happiness Score: Aumentou significamente, e ainda não podemos afirmar nada sobre seu Beta\n",
    "* Expectativa de Vida: Seu valor continua baixo, ainda rejeitando a hipótese nula\n",
    "* GDP em 2015: Sua probabilidade também aumentou, não conseguindo quebrar a hipótese nula\n",
    "* Corrupção 2015: Sua probabilidade continua sendo baixa, rejeitando a hipótese nula\n",
    "* Inflação 2015: Seu valor é muito alto, não rejeitando a hipótese nula e nada se pode afirmar em relação ao seu beta\n",
    "* Mortalidade 2015: Seu valor também é alto, não rejeitando a hipótese nula\n",
    "\n",
    "Os resíduos também se aparentam em ser representados por uma curva normal devido ao valor alto da probabilidade do teste Omnibus e JB"
   ]
  },
  {
   "cell_type": "markdown",
   "metadata": {},
   "source": [
    "## Análise em 2016 (vai ser usado como teste)"
   ]
  },
  {
   "cell_type": "code",
   "execution_count": 222,
   "metadata": {},
   "outputs": [
    {
     "data": {
      "text/html": [
       "<div>\n",
       "<style scoped>\n",
       "    .dataframe tbody tr th:only-of-type {\n",
       "        vertical-align: middle;\n",
       "    }\n",
       "\n",
       "    .dataframe tbody tr th {\n",
       "        vertical-align: top;\n",
       "    }\n",
       "\n",
       "    .dataframe thead th {\n",
       "        text-align: right;\n",
       "    }\n",
       "</style>\n",
       "<table border=\"1\" class=\"dataframe\">\n",
       "  <thead>\n",
       "    <tr style=\"text-align: right;\">\n",
       "      <th></th>\n",
       "      <th>Happiness Score</th>\n",
       "    </tr>\n",
       "    <tr>\n",
       "      <th>Country</th>\n",
       "      <th></th>\n",
       "    </tr>\n",
       "  </thead>\n",
       "  <tbody>\n",
       "    <tr>\n",
       "      <th>Denmark</th>\n",
       "      <td>7.526</td>\n",
       "    </tr>\n",
       "    <tr>\n",
       "      <th>Switzerland</th>\n",
       "      <td>7.509</td>\n",
       "    </tr>\n",
       "    <tr>\n",
       "      <th>Iceland</th>\n",
       "      <td>7.501</td>\n",
       "    </tr>\n",
       "    <tr>\n",
       "      <th>Norway</th>\n",
       "      <td>7.498</td>\n",
       "    </tr>\n",
       "    <tr>\n",
       "      <th>Finland</th>\n",
       "      <td>7.413</td>\n",
       "    </tr>\n",
       "  </tbody>\n",
       "</table>\n",
       "</div>"
      ],
      "text/plain": [
       "             Happiness Score\n",
       "Country                     \n",
       "Denmark                7.526\n",
       "Switzerland            7.509\n",
       "Iceland                7.501\n",
       "Norway                 7.498\n",
       "Finland                7.413"
      ]
     },
     "execution_count": 222,
     "metadata": {},
     "output_type": "execute_result"
    }
   ],
   "source": [
    "dataset = pd.read_csv('hapiness_score_2016.csv')\n",
    "\n",
    "dataset_idx = dataset.set_index('Country')\n",
    "\n",
    "df_16i = dataset_idx.loc[:,['Happiness Score']]\n",
    "df_16i.head()"
   ]
  },
  {
   "cell_type": "code",
   "execution_count": 223,
   "metadata": {},
   "outputs": [
    {
     "data": {
      "text/html": [
       "<div>\n",
       "<style scoped>\n",
       "    .dataframe tbody tr th:only-of-type {\n",
       "        vertical-align: middle;\n",
       "    }\n",
       "\n",
       "    .dataframe tbody tr th {\n",
       "        vertical-align: top;\n",
       "    }\n",
       "\n",
       "    .dataframe thead th {\n",
       "        text-align: right;\n",
       "    }\n",
       "</style>\n",
       "<table border=\"1\" class=\"dataframe\">\n",
       "  <thead>\n",
       "    <tr style=\"text-align: right;\">\n",
       "      <th></th>\n",
       "      <th>GDP em 2016</th>\n",
       "    </tr>\n",
       "    <tr>\n",
       "      <th>País</th>\n",
       "      <th></th>\n",
       "    </tr>\n",
       "  </thead>\n",
       "  <tbody>\n",
       "    <tr>\n",
       "      <th>Afghanistan</th>\n",
       "      <td>2.68</td>\n",
       "    </tr>\n",
       "    <tr>\n",
       "      <th>Albania</th>\n",
       "      <td>4.72</td>\n",
       "    </tr>\n",
       "    <tr>\n",
       "      <th>Algeria</th>\n",
       "      <td>2.36</td>\n",
       "    </tr>\n",
       "    <tr>\n",
       "      <th>Andorra</th>\n",
       "      <td>0.00</td>\n",
       "    </tr>\n",
       "    <tr>\n",
       "      <th>Angola</th>\n",
       "      <td>2.77</td>\n",
       "    </tr>\n",
       "  </tbody>\n",
       "</table>\n",
       "</div>"
      ],
      "text/plain": [
       "             GDP em 2016\n",
       "País                    \n",
       "Afghanistan         2.68\n",
       "Albania             4.72\n",
       "Algeria             2.36\n",
       "Andorra             0.00\n",
       "Angola              2.77"
      ]
     },
     "execution_count": 223,
     "metadata": {},
     "output_type": "execute_result"
    }
   ],
   "source": [
    "GDP = pd.read_excel('gdp_per_capita_yearly_growth.xlsx')\n",
    "\n",
    "GDP1 = GDP.rename(columns={'geo':'País'})\n",
    "\n",
    "GDP_idx = GDP1.set_index('País')\n",
    "\n",
    "GDP1 = GDP_idx.loc[:, [2016]]\n",
    "\n",
    "GDP_16 = GDP1.rename(columns={2016:'GDP em 2016'})\n",
    "\n",
    "GDP_16.head()"
   ]
  },
  {
   "cell_type": "code",
   "execution_count": 224,
   "metadata": {},
   "outputs": [
    {
     "data": {
      "text/html": [
       "<div>\n",
       "<style scoped>\n",
       "    .dataframe tbody tr th:only-of-type {\n",
       "        vertical-align: middle;\n",
       "    }\n",
       "\n",
       "    .dataframe tbody tr th {\n",
       "        vertical-align: top;\n",
       "    }\n",
       "\n",
       "    .dataframe thead th {\n",
       "        text-align: right;\n",
       "    }\n",
       "</style>\n",
       "<table border=\"1\" class=\"dataframe\">\n",
       "  <thead>\n",
       "    <tr style=\"text-align: right;\">\n",
       "      <th></th>\n",
       "      <th>Corrupção 2016</th>\n",
       "    </tr>\n",
       "    <tr>\n",
       "      <th>geo</th>\n",
       "      <th></th>\n",
       "    </tr>\n",
       "  </thead>\n",
       "  <tbody>\n",
       "    <tr>\n",
       "      <th>Afghanistan</th>\n",
       "      <td>15</td>\n",
       "    </tr>\n",
       "    <tr>\n",
       "      <th>Albania</th>\n",
       "      <td>39</td>\n",
       "    </tr>\n",
       "    <tr>\n",
       "      <th>Algeria</th>\n",
       "      <td>34</td>\n",
       "    </tr>\n",
       "    <tr>\n",
       "      <th>Angola</th>\n",
       "      <td>18</td>\n",
       "    </tr>\n",
       "    <tr>\n",
       "      <th>Argentina</th>\n",
       "      <td>36</td>\n",
       "    </tr>\n",
       "  </tbody>\n",
       "</table>\n",
       "</div>"
      ],
      "text/plain": [
       "             Corrupção 2016\n",
       "geo                        \n",
       "Afghanistan              15\n",
       "Albania                  39\n",
       "Algeria                  34\n",
       "Angola                   18\n",
       "Argentina                36"
      ]
     },
     "execution_count": 224,
     "metadata": {},
     "output_type": "execute_result"
    }
   ],
   "source": [
    "corrup = pd.read_excel('corruption_perception.xlsx')\n",
    "\n",
    "corrup_idx = corrup.set_index('geo')\n",
    "\n",
    "corrup1 = corrup_idx.loc[:, [2016]]\n",
    "\n",
    "corrup_n = corrup1.dropna()\n",
    "\n",
    "corrup_16 = corrup_n.rename(columns={'geo': \"Países\",2016:'Corrupção 2016'})\n",
    "\n",
    "corrup_16.head()"
   ]
  },
  {
   "cell_type": "code",
   "execution_count": 225,
   "metadata": {},
   "outputs": [
    {
     "data": {
      "text/html": [
       "<div>\n",
       "<style scoped>\n",
       "    .dataframe tbody tr th:only-of-type {\n",
       "        vertical-align: middle;\n",
       "    }\n",
       "\n",
       "    .dataframe tbody tr th {\n",
       "        vertical-align: top;\n",
       "    }\n",
       "\n",
       "    .dataframe thead th {\n",
       "        text-align: right;\n",
       "    }\n",
       "</style>\n",
       "<table border=\"1\" class=\"dataframe\">\n",
       "  <thead>\n",
       "    <tr style=\"text-align: right;\">\n",
       "      <th></th>\n",
       "      <th>Expectativa de vida em 2016</th>\n",
       "    </tr>\n",
       "    <tr>\n",
       "      <th>Life expectancy</th>\n",
       "      <th></th>\n",
       "    </tr>\n",
       "  </thead>\n",
       "  <tbody>\n",
       "    <tr>\n",
       "      <th>Afghanistan</th>\n",
       "      <td>52.72</td>\n",
       "    </tr>\n",
       "    <tr>\n",
       "      <th>Albania</th>\n",
       "      <td>78.10</td>\n",
       "    </tr>\n",
       "    <tr>\n",
       "      <th>Algeria</th>\n",
       "      <td>76.50</td>\n",
       "    </tr>\n",
       "    <tr>\n",
       "      <th>American Samoa</th>\n",
       "      <td>73.00</td>\n",
       "    </tr>\n",
       "    <tr>\n",
       "      <th>Andorra</th>\n",
       "      <td>84.80</td>\n",
       "    </tr>\n",
       "  </tbody>\n",
       "</table>\n",
       "</div>"
      ],
      "text/plain": [
       "                 Expectativa de vida em 2016\n",
       "Life expectancy                             \n",
       "Afghanistan                            52.72\n",
       "Albania                                78.10\n",
       "Algeria                                76.50\n",
       "American Samoa                         73.00\n",
       "Andorra                                84.80"
      ]
     },
     "execution_count": 225,
     "metadata": {},
     "output_type": "execute_result"
    }
   ],
   "source": [
    "expectativa = pd.read_excel('expecativa.xlsx')\n",
    "\n",
    "expec_idx = expectativa.set_index('Life expectancy')\n",
    "\n",
    "expec1 = expec_idx.loc[:, [2016]]\n",
    "\n",
    "expec_n = expec1.dropna()\n",
    "\n",
    "expec_16 = expec_n.rename(columns={2016:'Expectativa de vida em 2016'})\n",
    "\n",
    "expec_16.head()"
   ]
  },
  {
   "cell_type": "code",
   "execution_count": 226,
   "metadata": {},
   "outputs": [
    {
     "data": {
      "text/html": [
       "<div>\n",
       "<style scoped>\n",
       "    .dataframe tbody tr th:only-of-type {\n",
       "        vertical-align: middle;\n",
       "    }\n",
       "\n",
       "    .dataframe tbody tr th {\n",
       "        vertical-align: top;\n",
       "    }\n",
       "\n",
       "    .dataframe thead th {\n",
       "        text-align: right;\n",
       "    }\n",
       "</style>\n",
       "<table border=\"1\" class=\"dataframe\">\n",
       "  <thead>\n",
       "    <tr style=\"text-align: right;\">\n",
       "      <th></th>\n",
       "      <th>Inflação em 2016</th>\n",
       "    </tr>\n",
       "    <tr>\n",
       "      <th>Country Name</th>\n",
       "      <th></th>\n",
       "    </tr>\n",
       "  </thead>\n",
       "  <tbody>\n",
       "    <tr>\n",
       "      <th>Afghanistan</th>\n",
       "      <td>5.123375</td>\n",
       "    </tr>\n",
       "    <tr>\n",
       "      <th>Angola</th>\n",
       "      <td>27.674838</td>\n",
       "    </tr>\n",
       "    <tr>\n",
       "      <th>Albania</th>\n",
       "      <td>-0.481403</td>\n",
       "    </tr>\n",
       "    <tr>\n",
       "      <th>Andorra</th>\n",
       "      <td>0.699897</td>\n",
       "    </tr>\n",
       "    <tr>\n",
       "      <th>Arab World</th>\n",
       "      <td>0.485181</td>\n",
       "    </tr>\n",
       "  </tbody>\n",
       "</table>\n",
       "</div>"
      ],
      "text/plain": [
       "              Inflação em 2016\n",
       "Country Name                  \n",
       "Afghanistan           5.123375\n",
       "Angola               27.674838\n",
       "Albania              -0.481403\n",
       "Andorra               0.699897\n",
       "Arab World            0.485181"
      ]
     },
     "execution_count": 226,
     "metadata": {},
     "output_type": "execute_result"
    }
   ],
   "source": [
    "infla = pd.read_excel('infla.xls')\n",
    "\n",
    "infla_idx = infla.set_index('Country Name')\n",
    "\n",
    "infla1 = infla_idx.loc[:, ['2016']]\n",
    "\n",
    "infla_n = infla1.dropna()\n",
    "\n",
    "infla_16 = infla_n.rename(columns={'2016':'Inflação em 2016'})\n",
    "\n",
    "infla_16.head()"
   ]
  },
  {
   "cell_type": "code",
   "execution_count": 227,
   "metadata": {},
   "outputs": [
    {
     "data": {
      "text/html": [
       "<div>\n",
       "<style scoped>\n",
       "    .dataframe tbody tr th:only-of-type {\n",
       "        vertical-align: middle;\n",
       "    }\n",
       "\n",
       "    .dataframe tbody tr th {\n",
       "        vertical-align: top;\n",
       "    }\n",
       "\n",
       "    .dataframe thead th {\n",
       "        text-align: right;\n",
       "    }\n",
       "</style>\n",
       "<table border=\"1\" class=\"dataframe\">\n",
       "  <thead>\n",
       "    <tr style=\"text-align: right;\">\n",
       "      <th></th>\n",
       "      <th>Happiness Score</th>\n",
       "      <th>Corrupção 2016</th>\n",
       "      <th>Expectativa de vida em 2016</th>\n",
       "      <th>GDP em 2016</th>\n",
       "      <th>Inflação em 2016</th>\n",
       "    </tr>\n",
       "  </thead>\n",
       "  <tbody>\n",
       "    <tr>\n",
       "      <th>Denmark</th>\n",
       "      <td>7.526</td>\n",
       "      <td>90</td>\n",
       "      <td>80.5</td>\n",
       "      <td>1.340</td>\n",
       "      <td>-0.046444</td>\n",
       "    </tr>\n",
       "    <tr>\n",
       "      <th>Switzerland</th>\n",
       "      <td>7.509</td>\n",
       "      <td>86</td>\n",
       "      <td>83.1</td>\n",
       "      <td>1.400</td>\n",
       "      <td>-0.566144</td>\n",
       "    </tr>\n",
       "    <tr>\n",
       "      <th>Iceland</th>\n",
       "      <td>7.501</td>\n",
       "      <td>78</td>\n",
       "      <td>83.3</td>\n",
       "      <td>2.480</td>\n",
       "      <td>2.113045</td>\n",
       "    </tr>\n",
       "    <tr>\n",
       "      <th>Norway</th>\n",
       "      <td>7.498</td>\n",
       "      <td>85</td>\n",
       "      <td>82.0</td>\n",
       "      <td>0.861</td>\n",
       "      <td>-1.114070</td>\n",
       "    </tr>\n",
       "    <tr>\n",
       "      <th>Finland</th>\n",
       "      <td>7.413</td>\n",
       "      <td>89</td>\n",
       "      <td>80.9</td>\n",
       "      <td>1.130</td>\n",
       "      <td>0.790899</td>\n",
       "    </tr>\n",
       "  </tbody>\n",
       "</table>\n",
       "</div>"
      ],
      "text/plain": [
       "             Happiness Score  Corrupção 2016  Expectativa de vida em 2016  \\\n",
       "Denmark                7.526              90                         80.5   \n",
       "Switzerland            7.509              86                         83.1   \n",
       "Iceland                7.501              78                         83.3   \n",
       "Norway                 7.498              85                         82.0   \n",
       "Finland                7.413              89                         80.9   \n",
       "\n",
       "             GDP em 2016  Inflação em 2016  \n",
       "Denmark            1.340         -0.046444  \n",
       "Switzerland        1.400         -0.566144  \n",
       "Iceland            2.480          2.113045  \n",
       "Norway             0.861         -1.114070  \n",
       "Finland            1.130          0.790899  "
      ]
     },
     "execution_count": 227,
     "metadata": {},
     "output_type": "execute_result"
    }
   ],
   "source": [
    "df_16_1 = df_16i.join(corrup_16, how='inner')\n",
    "df_16_2 = df_16_1.join(expec_16, how='inner')\n",
    "df_16_3 = df_16_2.join(GDP_16, how='inner')\n",
    "df_16 = df_16_3.join(infla_16, how='inner')\n",
    "\n",
    "\n",
    "df_16.head()"
   ]
  },
  {
   "cell_type": "markdown",
   "metadata": {},
   "source": [
    "## Teste com machine learning"
   ]
  },
  {
   "cell_type": "code",
   "execution_count": 228,
   "metadata": {},
   "outputs": [],
   "source": [
    "X = df_16[['Corrupção 2016']]\n",
    "\n",
    "y = df_16[['Happiness Score']]\n",
    "\n"
   ]
  },
  {
   "cell_type": "code",
   "execution_count": 229,
   "metadata": {},
   "outputs": [],
   "source": [
    "X_train, X_test, y_train, y_test = train_test_split(X, y, test_size=0.33, random_state=RANDOM_SEED)"
   ]
  },
  {
   "cell_type": "code",
   "execution_count": 230,
   "metadata": {},
   "outputs": [
    {
     "data": {
      "text/plain": [
       "((89, 1), (89, 1), (45, 1), (45, 1))"
      ]
     },
     "execution_count": 230,
     "metadata": {},
     "output_type": "execute_result"
    }
   ],
   "source": [
    "X_train.shape, y_train.shape, X_test.shape, y_test.shape"
   ]
  },
  {
   "cell_type": "code",
   "execution_count": 231,
   "metadata": {},
   "outputs": [
    {
     "name": "stderr",
     "output_type": "stream",
     "text": [
      "C:\\Anaconda3\\lib\\site-packages\\sklearn\\linear_model\\logistic.py:432: FutureWarning: Default solver will be changed to 'lbfgs' in 0.22. Specify a solver to silence this warning.\n",
      "  FutureWarning)\n",
      "C:\\Anaconda3\\lib\\site-packages\\sklearn\\utils\\validation.py:752: DataConversionWarning: A column-vector y was passed when a 1d array was expected. Please change the shape of y to (n_samples, ), for example using ravel().\n",
      "  y = column_or_1d(y, warn=True)\n",
      "C:\\Anaconda3\\lib\\site-packages\\sklearn\\linear_model\\logistic.py:459: FutureWarning: Default multi_class will be changed to 'auto' in 0.22. Specify the multi_class option to silence this warning.\n",
      "  \"this warning.\", FutureWarning)\n"
     ]
    },
    {
     "ename": "ValueError",
     "evalue": "Classification metrics can't handle a mix of continuous and binary targets",
     "output_type": "error",
     "traceback": [
      "\u001b[1;31m---------------------------------------------------------------------------\u001b[0m",
      "\u001b[1;31mValueError\u001b[0m                                Traceback (most recent call last)",
      "\u001b[1;32m<ipython-input-231-424692162fce>\u001b[0m in \u001b[0;36m<module>\u001b[1;34m()\u001b[0m\n\u001b[0;32m     12\u001b[0m \u001b[1;33m\u001b[0m\u001b[0m\n\u001b[0;32m     13\u001b[0m \u001b[0my_pred\u001b[0m \u001b[1;33m=\u001b[0m \u001b[0mmodel\u001b[0m\u001b[1;33m.\u001b[0m\u001b[0mpredict\u001b[0m\u001b[1;33m(\u001b[0m\u001b[0mX_test\u001b[0m\u001b[1;33m)\u001b[0m\u001b[1;33m\u001b[0m\u001b[0m\n\u001b[1;32m---> 14\u001b[1;33m \u001b[0mprint\u001b[0m\u001b[1;33m(\u001b[0m\u001b[1;34m'Acurácia: {}'\u001b[0m\u001b[1;33m.\u001b[0m\u001b[0mformat\u001b[0m\u001b[1;33m(\u001b[0m\u001b[0maccuracy_score\u001b[0m\u001b[1;33m(\u001b[0m\u001b[0my_test\u001b[0m\u001b[1;33m,\u001b[0m \u001b[0my_pred\u001b[0m\u001b[1;33m)\u001b[0m\u001b[1;33m)\u001b[0m\u001b[1;33m)\u001b[0m\u001b[1;33m\u001b[0m\u001b[0m\n\u001b[0m",
      "\u001b[1;32mC:\\Anaconda3\\lib\\site-packages\\sklearn\\metrics\\classification.py\u001b[0m in \u001b[0;36maccuracy_score\u001b[1;34m(y_true, y_pred, normalize, sample_weight)\u001b[0m\n\u001b[0;32m    174\u001b[0m \u001b[1;33m\u001b[0m\u001b[0m\n\u001b[0;32m    175\u001b[0m     \u001b[1;31m# Compute accuracy for each possible representation\u001b[0m\u001b[1;33m\u001b[0m\u001b[1;33m\u001b[0m\u001b[0m\n\u001b[1;32m--> 176\u001b[1;33m     \u001b[0my_type\u001b[0m\u001b[1;33m,\u001b[0m \u001b[0my_true\u001b[0m\u001b[1;33m,\u001b[0m \u001b[0my_pred\u001b[0m \u001b[1;33m=\u001b[0m \u001b[0m_check_targets\u001b[0m\u001b[1;33m(\u001b[0m\u001b[0my_true\u001b[0m\u001b[1;33m,\u001b[0m \u001b[0my_pred\u001b[0m\u001b[1;33m)\u001b[0m\u001b[1;33m\u001b[0m\u001b[0m\n\u001b[0m\u001b[0;32m    177\u001b[0m     \u001b[0mcheck_consistent_length\u001b[0m\u001b[1;33m(\u001b[0m\u001b[0my_true\u001b[0m\u001b[1;33m,\u001b[0m \u001b[0my_pred\u001b[0m\u001b[1;33m,\u001b[0m \u001b[0msample_weight\u001b[0m\u001b[1;33m)\u001b[0m\u001b[1;33m\u001b[0m\u001b[0m\n\u001b[0;32m    178\u001b[0m     \u001b[1;32mif\u001b[0m \u001b[0my_type\u001b[0m\u001b[1;33m.\u001b[0m\u001b[0mstartswith\u001b[0m\u001b[1;33m(\u001b[0m\u001b[1;34m'multilabel'\u001b[0m\u001b[1;33m)\u001b[0m\u001b[1;33m:\u001b[0m\u001b[1;33m\u001b[0m\u001b[0m\n",
      "\u001b[1;32mC:\\Anaconda3\\lib\\site-packages\\sklearn\\metrics\\classification.py\u001b[0m in \u001b[0;36m_check_targets\u001b[1;34m(y_true, y_pred)\u001b[0m\n\u001b[0;32m     79\u001b[0m     \u001b[1;32mif\u001b[0m \u001b[0mlen\u001b[0m\u001b[1;33m(\u001b[0m\u001b[0my_type\u001b[0m\u001b[1;33m)\u001b[0m \u001b[1;33m>\u001b[0m \u001b[1;36m1\u001b[0m\u001b[1;33m:\u001b[0m\u001b[1;33m\u001b[0m\u001b[0m\n\u001b[0;32m     80\u001b[0m         raise ValueError(\"Classification metrics can't handle a mix of {0} \"\n\u001b[1;32m---> 81\u001b[1;33m                          \"and {1} targets\".format(type_true, type_pred))\n\u001b[0m\u001b[0;32m     82\u001b[0m \u001b[1;33m\u001b[0m\u001b[0m\n\u001b[0;32m     83\u001b[0m     \u001b[1;31m# We can't have more than one value on y_type => The set is no more needed\u001b[0m\u001b[1;33m\u001b[0m\u001b[1;33m\u001b[0m\u001b[0m\n",
      "\u001b[1;31mValueError\u001b[0m: Classification metrics can't handle a mix of continuous and binary targets"
     ]
    }
   ],
   "source": [
    "from sklearn.linear_model import LogisticRegression\n",
    "from sklearn import preprocessing\n",
    "from sklearn import utils\n",
    "from sklearn.metrics import accuracy_score\n",
    "\n",
    "\n",
    "#lab_enc = preprocessing.LabelEncoder()\n",
    "#training_scores_encoded = lab_enc.fit_transform(X_train)\n",
    "\n",
    "model = LogisticRegression()\n",
    "model.fit(y_train, X_train)\n",
    "\n",
    "y_pred = model.predict(X_test)\n",
    "print('Acurácia: {}'.format(accuracy_score(y_test, y_pred)))"
   ]
  },
  {
   "cell_type": "code",
   "execution_count": null,
   "metadata": {},
   "outputs": [],
   "source": []
  },
  {
   "cell_type": "code",
   "execution_count": null,
   "metadata": {},
   "outputs": [],
   "source": []
  }
 ],
 "metadata": {
  "kernelspec": {
   "display_name": "Python 3",
   "language": "python",
   "name": "python3"
  },
  "language_info": {
   "codemirror_mode": {
    "name": "ipython",
    "version": 3
   },
   "file_extension": ".py",
   "mimetype": "text/x-python",
   "name": "python",
   "nbconvert_exporter": "python",
   "pygments_lexer": "ipython3",
   "version": "3.6.4"
  }
 },
 "nbformat": 4,
 "nbformat_minor": 2
}
