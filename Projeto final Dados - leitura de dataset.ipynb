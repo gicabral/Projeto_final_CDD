{
 "cells": [
  {
   "cell_type": "code",
   "execution_count": 2,
   "metadata": {},
   "outputs": [],
   "source": [
    "%matplotlib inline\n",
    "import pandas as pd\n",
    "import numpy as np\n",
    "import math as math\n",
    "from scipy import stats\n",
    "import matplotlib.pyplot as plt\n",
    "import seaborn as sns\n",
    "import re\n",
    "import statsmodels.api as sm\n",
    "from sklearn.model_selection import train_test_split\n",
    "\n",
    "\n",
    "RANDOM_SEED = 42\n",
    "\n",
    "np.random.seed(RANDOM_SEED)"
   ]
  },
  {
   "cell_type": "markdown",
   "metadata": {},
   "source": [
    "# Análise exploratória do dataset base de hapiness score\n",
    "\n",
    "## Objetivo: \n",
    "\n",
    "A partir de um dataset de hapiness score, obtido a partir de perguntas feitas à população, será construído, nesse projeto, uma regressão para ter uma fórmula que meça o hapiness score, com base em  dados concretos."
   ]
  },
  {
   "cell_type": "markdown",
   "metadata": {},
   "source": [
    "No database que foi pego como base da pesquisa, tínhamos o happiness score definido a partir de perguntas para a população que dava um número de 0 a 10, e com base nisso, eles colocaram o quanto que cada variável contribuiu para essa resposta do país. Com isso, estamos fazendo uma modelagem para prever a partir de regressões, o happiness score com dados prévios, sem ter a necessidade de perguntar para as pessoas."
   ]
  },
  {
   "cell_type": "code",
   "execution_count": 3,
   "metadata": {},
   "outputs": [],
   "source": [
    "#Função que realiza a regressão\n",
    "def regress(X,Y):\n",
    "    X_cp = sm.add_constant(X)\n",
    "    model = sm.OLS(Y,X_cp)\n",
    "    results = model.fit()\n",
    "    return results"
   ]
  },
  {
   "cell_type": "code",
   "execution_count": 4,
   "metadata": {},
   "outputs": [
    {
     "data": {
      "text/html": [
       "<div>\n",
       "<style scoped>\n",
       "    .dataframe tbody tr th:only-of-type {\n",
       "        vertical-align: middle;\n",
       "    }\n",
       "\n",
       "    .dataframe tbody tr th {\n",
       "        vertical-align: top;\n",
       "    }\n",
       "\n",
       "    .dataframe thead th {\n",
       "        text-align: right;\n",
       "    }\n",
       "</style>\n",
       "<table border=\"1\" class=\"dataframe\">\n",
       "  <thead>\n",
       "    <tr style=\"text-align: right;\">\n",
       "      <th></th>\n",
       "      <th>Country</th>\n",
       "      <th>Region</th>\n",
       "      <th>Happiness Rank</th>\n",
       "      <th>Happiness Score</th>\n",
       "      <th>Standard Error</th>\n",
       "      <th>Economy (GDP per Capita)</th>\n",
       "      <th>Family</th>\n",
       "      <th>Health (Life Expectancy)</th>\n",
       "      <th>Freedom</th>\n",
       "      <th>Trust (Government Corruption)</th>\n",
       "      <th>Generosity</th>\n",
       "      <th>Dystopia Residual</th>\n",
       "    </tr>\n",
       "  </thead>\n",
       "  <tbody>\n",
       "    <tr>\n",
       "      <th>0</th>\n",
       "      <td>Switzerland</td>\n",
       "      <td>Western Europe</td>\n",
       "      <td>1</td>\n",
       "      <td>7.587</td>\n",
       "      <td>0.03411</td>\n",
       "      <td>1.39651</td>\n",
       "      <td>1.34951</td>\n",
       "      <td>0.94143</td>\n",
       "      <td>0.66557</td>\n",
       "      <td>0.41978</td>\n",
       "      <td>0.29678</td>\n",
       "      <td>2.51738</td>\n",
       "    </tr>\n",
       "    <tr>\n",
       "      <th>1</th>\n",
       "      <td>Iceland</td>\n",
       "      <td>Western Europe</td>\n",
       "      <td>2</td>\n",
       "      <td>7.561</td>\n",
       "      <td>0.04884</td>\n",
       "      <td>1.30232</td>\n",
       "      <td>1.40223</td>\n",
       "      <td>0.94784</td>\n",
       "      <td>0.62877</td>\n",
       "      <td>0.14145</td>\n",
       "      <td>0.43630</td>\n",
       "      <td>2.70201</td>\n",
       "    </tr>\n",
       "    <tr>\n",
       "      <th>2</th>\n",
       "      <td>Denmark</td>\n",
       "      <td>Western Europe</td>\n",
       "      <td>3</td>\n",
       "      <td>7.527</td>\n",
       "      <td>0.03328</td>\n",
       "      <td>1.32548</td>\n",
       "      <td>1.36058</td>\n",
       "      <td>0.87464</td>\n",
       "      <td>0.64938</td>\n",
       "      <td>0.48357</td>\n",
       "      <td>0.34139</td>\n",
       "      <td>2.49204</td>\n",
       "    </tr>\n",
       "    <tr>\n",
       "      <th>3</th>\n",
       "      <td>Norway</td>\n",
       "      <td>Western Europe</td>\n",
       "      <td>4</td>\n",
       "      <td>7.522</td>\n",
       "      <td>0.03880</td>\n",
       "      <td>1.45900</td>\n",
       "      <td>1.33095</td>\n",
       "      <td>0.88521</td>\n",
       "      <td>0.66973</td>\n",
       "      <td>0.36503</td>\n",
       "      <td>0.34699</td>\n",
       "      <td>2.46531</td>\n",
       "    </tr>\n",
       "    <tr>\n",
       "      <th>4</th>\n",
       "      <td>Canada</td>\n",
       "      <td>North America</td>\n",
       "      <td>5</td>\n",
       "      <td>7.427</td>\n",
       "      <td>0.03553</td>\n",
       "      <td>1.32629</td>\n",
       "      <td>1.32261</td>\n",
       "      <td>0.90563</td>\n",
       "      <td>0.63297</td>\n",
       "      <td>0.32957</td>\n",
       "      <td>0.45811</td>\n",
       "      <td>2.45176</td>\n",
       "    </tr>\n",
       "    <tr>\n",
       "      <th>5</th>\n",
       "      <td>Finland</td>\n",
       "      <td>Western Europe</td>\n",
       "      <td>6</td>\n",
       "      <td>7.406</td>\n",
       "      <td>0.03140</td>\n",
       "      <td>1.29025</td>\n",
       "      <td>1.31826</td>\n",
       "      <td>0.88911</td>\n",
       "      <td>0.64169</td>\n",
       "      <td>0.41372</td>\n",
       "      <td>0.23351</td>\n",
       "      <td>2.61955</td>\n",
       "    </tr>\n",
       "    <tr>\n",
       "      <th>6</th>\n",
       "      <td>Netherlands</td>\n",
       "      <td>Western Europe</td>\n",
       "      <td>7</td>\n",
       "      <td>7.378</td>\n",
       "      <td>0.02799</td>\n",
       "      <td>1.32944</td>\n",
       "      <td>1.28017</td>\n",
       "      <td>0.89284</td>\n",
       "      <td>0.61576</td>\n",
       "      <td>0.31814</td>\n",
       "      <td>0.47610</td>\n",
       "      <td>2.46570</td>\n",
       "    </tr>\n",
       "    <tr>\n",
       "      <th>7</th>\n",
       "      <td>Sweden</td>\n",
       "      <td>Western Europe</td>\n",
       "      <td>8</td>\n",
       "      <td>7.364</td>\n",
       "      <td>0.03157</td>\n",
       "      <td>1.33171</td>\n",
       "      <td>1.28907</td>\n",
       "      <td>0.91087</td>\n",
       "      <td>0.65980</td>\n",
       "      <td>0.43844</td>\n",
       "      <td>0.36262</td>\n",
       "      <td>2.37119</td>\n",
       "    </tr>\n",
       "    <tr>\n",
       "      <th>8</th>\n",
       "      <td>New Zealand</td>\n",
       "      <td>Australia and New Zealand</td>\n",
       "      <td>9</td>\n",
       "      <td>7.286</td>\n",
       "      <td>0.03371</td>\n",
       "      <td>1.25018</td>\n",
       "      <td>1.31967</td>\n",
       "      <td>0.90837</td>\n",
       "      <td>0.63938</td>\n",
       "      <td>0.42922</td>\n",
       "      <td>0.47501</td>\n",
       "      <td>2.26425</td>\n",
       "    </tr>\n",
       "    <tr>\n",
       "      <th>9</th>\n",
       "      <td>Australia</td>\n",
       "      <td>Australia and New Zealand</td>\n",
       "      <td>10</td>\n",
       "      <td>7.284</td>\n",
       "      <td>0.04083</td>\n",
       "      <td>1.33358</td>\n",
       "      <td>1.30923</td>\n",
       "      <td>0.93156</td>\n",
       "      <td>0.65124</td>\n",
       "      <td>0.35637</td>\n",
       "      <td>0.43562</td>\n",
       "      <td>2.26646</td>\n",
       "    </tr>\n",
       "  </tbody>\n",
       "</table>\n",
       "</div>"
      ],
      "text/plain": [
       "       Country                     Region  Happiness Rank  Happiness Score  \\\n",
       "0  Switzerland             Western Europe               1            7.587   \n",
       "1      Iceland             Western Europe               2            7.561   \n",
       "2      Denmark             Western Europe               3            7.527   \n",
       "3       Norway             Western Europe               4            7.522   \n",
       "4       Canada              North America               5            7.427   \n",
       "5      Finland             Western Europe               6            7.406   \n",
       "6  Netherlands             Western Europe               7            7.378   \n",
       "7       Sweden             Western Europe               8            7.364   \n",
       "8  New Zealand  Australia and New Zealand               9            7.286   \n",
       "9    Australia  Australia and New Zealand              10            7.284   \n",
       "\n",
       "   Standard Error  Economy (GDP per Capita)   Family  \\\n",
       "0         0.03411                   1.39651  1.34951   \n",
       "1         0.04884                   1.30232  1.40223   \n",
       "2         0.03328                   1.32548  1.36058   \n",
       "3         0.03880                   1.45900  1.33095   \n",
       "4         0.03553                   1.32629  1.32261   \n",
       "5         0.03140                   1.29025  1.31826   \n",
       "6         0.02799                   1.32944  1.28017   \n",
       "7         0.03157                   1.33171  1.28907   \n",
       "8         0.03371                   1.25018  1.31967   \n",
       "9         0.04083                   1.33358  1.30923   \n",
       "\n",
       "   Health (Life Expectancy)  Freedom  Trust (Government Corruption)  \\\n",
       "0                   0.94143  0.66557                        0.41978   \n",
       "1                   0.94784  0.62877                        0.14145   \n",
       "2                   0.87464  0.64938                        0.48357   \n",
       "3                   0.88521  0.66973                        0.36503   \n",
       "4                   0.90563  0.63297                        0.32957   \n",
       "5                   0.88911  0.64169                        0.41372   \n",
       "6                   0.89284  0.61576                        0.31814   \n",
       "7                   0.91087  0.65980                        0.43844   \n",
       "8                   0.90837  0.63938                        0.42922   \n",
       "9                   0.93156  0.65124                        0.35637   \n",
       "\n",
       "   Generosity  Dystopia Residual  \n",
       "0     0.29678            2.51738  \n",
       "1     0.43630            2.70201  \n",
       "2     0.34139            2.49204  \n",
       "3     0.34699            2.46531  \n",
       "4     0.45811            2.45176  \n",
       "5     0.23351            2.61955  \n",
       "6     0.47610            2.46570  \n",
       "7     0.36262            2.37119  \n",
       "8     0.47501            2.26425  \n",
       "9     0.43562            2.26646  "
      ]
     },
     "execution_count": 4,
     "metadata": {},
     "output_type": "execute_result"
    }
   ],
   "source": [
    "dataset = pd.read_csv('hapiness_score_2015.csv')\n",
    "dataset.head(10)"
   ]
  },
  {
   "cell_type": "markdown",
   "metadata": {},
   "source": [
    "Podemos comparar o nosso resultado com a pesquisa feita nesse dataset, para ver se faz sentido"
   ]
  },
  {
   "cell_type": "code",
   "execution_count": 5,
   "metadata": {
    "scrolled": true
   },
   "outputs": [],
   "source": [
    "#Colocando os países como o index\n",
    "h = dataset.loc[:,]\n",
    "data_idx=h.set_index(\"Country\")"
   ]
  },
  {
   "cell_type": "markdown",
   "metadata": {},
   "source": [
    "## Primeira variável analisada: GDP"
   ]
  },
  {
   "cell_type": "code",
   "execution_count": 6,
   "metadata": {},
   "outputs": [
    {
     "data": {
      "text/html": [
       "<div>\n",
       "<style scoped>\n",
       "    .dataframe tbody tr th:only-of-type {\n",
       "        vertical-align: middle;\n",
       "    }\n",
       "\n",
       "    .dataframe tbody tr th {\n",
       "        vertical-align: top;\n",
       "    }\n",
       "\n",
       "    .dataframe thead th {\n",
       "        text-align: right;\n",
       "    }\n",
       "</style>\n",
       "<table border=\"1\" class=\"dataframe\">\n",
       "  <thead>\n",
       "    <tr style=\"text-align: right;\">\n",
       "      <th></th>\n",
       "      <th>GDP em 2015</th>\n",
       "    </tr>\n",
       "    <tr>\n",
       "      <th>País</th>\n",
       "      <th></th>\n",
       "    </tr>\n",
       "  </thead>\n",
       "  <tbody>\n",
       "    <tr>\n",
       "      <th>Afghanistan</th>\n",
       "      <td>2.11</td>\n",
       "    </tr>\n",
       "    <tr>\n",
       "      <th>Albania</th>\n",
       "      <td>3.82</td>\n",
       "    </tr>\n",
       "    <tr>\n",
       "      <th>Algeria</th>\n",
       "      <td>2.10</td>\n",
       "    </tr>\n",
       "    <tr>\n",
       "      <th>Andorra</th>\n",
       "      <td>0.00</td>\n",
       "    </tr>\n",
       "    <tr>\n",
       "      <th>Angola</th>\n",
       "      <td>2.46</td>\n",
       "    </tr>\n",
       "  </tbody>\n",
       "</table>\n",
       "</div>"
      ],
      "text/plain": [
       "             GDP em 2015\n",
       "País                    \n",
       "Afghanistan         2.11\n",
       "Albania             3.82\n",
       "Algeria             2.10\n",
       "Andorra             0.00\n",
       "Angola              2.46"
      ]
     },
     "execution_count": 6,
     "metadata": {},
     "output_type": "execute_result"
    }
   ],
   "source": [
    "#Leitura do Excel (Divisão do ano feito anteriormente no arquivo de python GDP - 2015)\n",
    "gdp = pd.read_excel('GDP_lido.xlsx')\n",
    "gdp.head()\n",
    "\n",
    "#Colocando o index como os Países\n",
    "i = gdp.loc[:,]\n",
    "gdp_idx = i.set_index('País')\n",
    "gdp_idx.head()"
   ]
  },
  {
   "cell_type": "code",
   "execution_count": 7,
   "metadata": {},
   "outputs": [
    {
     "data": {
      "text/html": [
       "<div>\n",
       "<style scoped>\n",
       "    .dataframe tbody tr th:only-of-type {\n",
       "        vertical-align: middle;\n",
       "    }\n",
       "\n",
       "    .dataframe tbody tr th {\n",
       "        vertical-align: top;\n",
       "    }\n",
       "\n",
       "    .dataframe thead th {\n",
       "        text-align: right;\n",
       "    }\n",
       "</style>\n",
       "<table border=\"1\" class=\"dataframe\">\n",
       "  <thead>\n",
       "    <tr style=\"text-align: right;\">\n",
       "      <th></th>\n",
       "      <th>GDP em 2015</th>\n",
       "      <th>Happiness Score</th>\n",
       "    </tr>\n",
       "  </thead>\n",
       "  <tbody>\n",
       "    <tr>\n",
       "      <th>Afghanistan</th>\n",
       "      <td>2.110</td>\n",
       "      <td>3.575</td>\n",
       "    </tr>\n",
       "    <tr>\n",
       "      <th>Albania</th>\n",
       "      <td>3.820</td>\n",
       "      <td>4.959</td>\n",
       "    </tr>\n",
       "    <tr>\n",
       "      <th>Algeria</th>\n",
       "      <td>2.100</td>\n",
       "      <td>5.605</td>\n",
       "    </tr>\n",
       "    <tr>\n",
       "      <th>Angola</th>\n",
       "      <td>2.460</td>\n",
       "      <td>4.033</td>\n",
       "    </tr>\n",
       "    <tr>\n",
       "      <th>Argentina</th>\n",
       "      <td>-0.128</td>\n",
       "      <td>6.574</td>\n",
       "    </tr>\n",
       "  </tbody>\n",
       "</table>\n",
       "</div>"
      ],
      "text/plain": [
       "             GDP em 2015  Happiness Score\n",
       "Afghanistan        2.110            3.575\n",
       "Albania            3.820            4.959\n",
       "Algeria            2.100            5.605\n",
       "Angola             2.460            4.033\n",
       "Argentina         -0.128            6.574"
      ]
     },
     "execution_count": 7,
     "metadata": {},
     "output_type": "execute_result"
    }
   ],
   "source": [
    "# Junção do dataset com o GDP \n",
    "df = gdp_idx.join(data_idx, how='inner')\n",
    "\n",
    "ter = df.loc[:,['GDP em 2015', 'Happiness Score']]\n",
    "\n",
    "ter.head()"
   ]
  },
  {
   "cell_type": "code",
   "execution_count": 8,
   "metadata": {},
   "outputs": [
    {
     "data": {
      "image/png": "[encoded data removed]",
      "text/plain": [
       "<Figure size 432x288 with 1 Axes>"
      ]
     },
     "metadata": {},
     "output_type": "display_data"
    }
   ],
   "source": [
    "#Plotagem do gráfico de dispersão\n",
    "plt.scatter(ter[\"GDP em 2015\"],ter[\"Happiness Score\"]);\n",
    "plt.xlabel(\"GDP per capita\");\n",
    "plt.ylabel(\"Happiness Score\");\n",
    "plt.show()"
   ]
  },
  {
   "cell_type": "code",
   "execution_count": 9,
   "metadata": {},
   "outputs": [
    {
     "data": {
      "image/png": "[encoded data removed]",
      "text/plain": [
       "<Figure size 432x288 with 2 Axes>"
      ]
     },
     "metadata": {},
     "output_type": "display_data"
    }
   ],
   "source": [
    "ter.hist();"
   ]
  },
  {
   "cell_type": "code",
   "execution_count": 10,
   "metadata": {},
   "outputs": [
    {
     "data": {
      "text/html": [
       "<div>\n",
       "<style scoped>\n",
       "    .dataframe tbody tr th:only-of-type {\n",
       "        vertical-align: middle;\n",
       "    }\n",
       "\n",
       "    .dataframe tbody tr th {\n",
       "        vertical-align: top;\n",
       "    }\n",
       "\n",
       "    .dataframe thead th {\n",
       "        text-align: right;\n",
       "    }\n",
       "</style>\n",
       "<table border=\"1\" class=\"dataframe\">\n",
       "  <thead>\n",
       "    <tr style=\"text-align: right;\">\n",
       "      <th></th>\n",
       "      <th>GDP em 2015</th>\n",
       "      <th>Happiness Score</th>\n",
       "    </tr>\n",
       "  </thead>\n",
       "  <tbody>\n",
       "    <tr>\n",
       "      <th>GDP em 2015</th>\n",
       "      <td>1.00000</td>\n",
       "      <td>-0.22057</td>\n",
       "    </tr>\n",
       "    <tr>\n",
       "      <th>Happiness Score</th>\n",
       "      <td>-0.22057</td>\n",
       "      <td>1.00000</td>\n",
       "    </tr>\n",
       "  </tbody>\n",
       "</table>\n",
       "</div>"
      ],
      "text/plain": [
       "                 GDP em 2015  Happiness Score\n",
       "GDP em 2015          1.00000         -0.22057\n",
       "Happiness Score     -0.22057          1.00000"
      ]
     },
     "execution_count": 10,
     "metadata": {},
     "output_type": "execute_result"
    }
   ],
   "source": [
    "ter.corr()"
   ]
  },
  {
   "cell_type": "markdown",
   "metadata": {},
   "source": [
    "No histograma do GDP, percebemos que o gráfico está com uma concentração na parte esquerda, com um outlier na direita, que possivelmente atrapalha o histograma ser representado como uma normal assim como o cálculo da correlação, deixando ele com o valor de 22%"
   ]
  },
  {
   "cell_type": "code",
   "execution_count": 11,
   "metadata": {},
   "outputs": [
    {
     "data": {
      "text/html": [
       "<table class=\"simpletable\">\n",
       "<caption>OLS Regression Results</caption>\n",
       "<tr>\n",
       "  <th>Dep. Variable:</th>     <td>Happiness Score</td> <th>  R-squared:         </th> <td>   0.460</td>\n",
       "</tr>\n",
       "<tr>\n",
       "  <th>Model:</th>                   <td>OLS</td>       <th>  Adj. R-squared:    </th> <td>   0.456</td>\n",
       "</tr>\n",
       "<tr>\n",
       "  <th>Method:</th>             <td>Least Squares</td>  <th>  F-statistic:       </th> <td>   122.8</td>\n",
       "</tr>\n",
       "<tr>\n",
       "  <th>Date:</th>             <td>Wed, 21 Nov 2018</td> <th>  Prob (F-statistic):</th> <td>5.12e-21</td>\n",
       "</tr>\n",
       "<tr>\n",
       "  <th>Time:</th>                 <td>17:46:15</td>     <th>  Log-Likelihood:    </th> <td> -408.93</td>\n",
       "</tr>\n",
       "<tr>\n",
       "  <th>No. Observations:</th>      <td>   145</td>      <th>  AIC:               </th> <td>   819.9</td>\n",
       "</tr>\n",
       "<tr>\n",
       "  <th>Df Residuals:</th>          <td>   144</td>      <th>  BIC:               </th> <td>   822.8</td>\n",
       "</tr>\n",
       "<tr>\n",
       "  <th>Df Model:</th>              <td>     1</td>      <th>                     </th>     <td> </td>   \n",
       "</tr>\n",
       "<tr>\n",
       "  <th>Covariance Type:</th>      <td>nonrobust</td>    <th>                     </th>     <td> </td>   \n",
       "</tr>\n",
       "</table>\n",
       "<table class=\"simpletable\">\n",
       "<tr>\n",
       "       <td></td>          <th>coef</th>     <th>std err</th>      <th>t</th>      <th>P>|t|</th>  <th>[0.025</th>    <th>0.975]</th>  \n",
       "</tr>\n",
       "<tr>\n",
       "  <th>GDP em 2015</th> <td>    0.9249</td> <td>    0.083</td> <td>   11.079</td> <td> 0.000</td> <td>    0.760</td> <td>    1.090</td>\n",
       "</tr>\n",
       "</table>\n",
       "<table class=\"simpletable\">\n",
       "<tr>\n",
       "  <th>Omnibus:</th>       <td>125.460</td> <th>  Durbin-Watson:     </th> <td>   1.031</td>\n",
       "</tr>\n",
       "<tr>\n",
       "  <th>Prob(Omnibus):</th> <td> 0.000</td>  <th>  Jarque-Bera (JB):  </th> <td>2438.662</td>\n",
       "</tr>\n",
       "<tr>\n",
       "  <th>Skew:</th>          <td>-2.840</td>  <th>  Prob(JB):          </th> <td>    0.00</td>\n",
       "</tr>\n",
       "<tr>\n",
       "  <th>Kurtosis:</th>      <td>22.271</td>  <th>  Cond. No.          </th> <td>    1.00</td>\n",
       "</tr>\n",
       "</table><br/><br/>Warnings:<br/>[1] Standard Errors assume that the covariance matrix of the errors is correctly specified."
      ],
      "text/plain": [
       "<class 'statsmodels.iolib.summary.Summary'>\n",
       "\"\"\"\n",
       "                            OLS Regression Results                            \n",
       "==============================================================================\n",
       "Dep. Variable:        Happiness Score   R-squared:                       0.460\n",
       "Model:                            OLS   Adj. R-squared:                  0.456\n",
       "Method:                 Least Squares   F-statistic:                     122.8\n",
       "Date:                Wed, 21 Nov 2018   Prob (F-statistic):           5.12e-21\n",
       "Time:                        17:46:15   Log-Likelihood:                -408.93\n",
       "No. Observations:                 145   AIC:                             819.9\n",
       "Df Residuals:                     144   BIC:                             822.8\n",
       "Df Model:                           1                                         \n",
       "Covariance Type:            nonrobust                                         \n",
       "===============================================================================\n",
       "                  coef    std err          t      P>|t|      [0.025      0.975]\n",
       "-------------------------------------------------------------------------------\n",
       "GDP em 2015     0.9249      0.083     11.079      0.000       0.760       1.090\n",
       "==============================================================================\n",
       "Omnibus:                      125.460   Durbin-Watson:                   1.031\n",
       "Prob(Omnibus):                  0.000   Jarque-Bera (JB):             2438.662\n",
       "Skew:                          -2.840   Prob(JB):                         0.00\n",
       "Kurtosis:                      22.271   Cond. No.                         1.00\n",
       "==============================================================================\n",
       "\n",
       "Warnings:\n",
       "[1] Standard Errors assume that the covariance matrix of the errors is correctly specified.\n",
       "\"\"\""
      ]
     },
     "execution_count": 11,
     "metadata": {},
     "output_type": "execute_result"
    }
   ],
   "source": [
    "xc = sm.add_constant(ter[\"Happiness Score\"]) #serve para incluir um beta zero, que é uma constante inicial\n",
    "model = sm.OLS(ter['Happiness Score'],ter[\"GDP em 2015\"]) \n",
    "results = model.fit() #gera o relatório com os dados calculados.\n",
    "results.summary() #colocar o nome das coisas"
   ]
  },
  {
   "cell_type": "markdown",
   "metadata": {},
   "source": [
    "Como o r-square indica o quão o modelo é bom para prever algo a partir dele, o nosso é razoável pois tem 46% de probabilidade de prever algo. \n",
    "\n",
    "O p-value do modelo é bastante baixo indicando que as variáveis x e y são correlacionadas, indicando heterocedasticidade.\n",
    "\n",
    "A estatistica de teste f indica que os betas são reais, diferentes de zero  visto que suas probabilidades deles serem zero é muito baixa.\n",
    "\n",
    "Além disso o teste Omnibus indica que há baixa probabilidade das variáveis se distribuirem sendo uma normal.\n"
   ]
  },
  {
   "cell_type": "markdown",
   "metadata": {},
   "source": [
    "## Segunda variável analisada: Expectativa de vida\n"
   ]
  },
  {
   "cell_type": "code",
   "execution_count": 12,
   "metadata": {},
   "outputs": [],
   "source": [
    "# Leitura dos dados sobre expectativa de vida\n",
    "exp = pd.read_excel('expecativa.xlsx')\n",
    "\n",
    "#Separando a coluna do ano de 2015\n",
    "exp_2015 = exp.loc[:,['Life expectancy', 2015]]\n",
    "exp_better_2015 = exp_2015.dropna()\n",
    "expp = exp_better_2015.rename(columns={2015:'Expectativa de vida'})\n",
    "\n",
    "#Colocando o index como os países\n",
    "exp_idx = expp.set_index('Life expectancy')\n",
    "\n",
    "#Juntando a nova variável com o dataframe \n",
    "dff = ter.join(exp_idx, how='inner')\n",
    "dff.head()\n",
    "dff.to_excel('dff.xlsx')"
   ]
  },
  {
   "cell_type": "code",
   "execution_count": 13,
   "metadata": {},
   "outputs": [
    {
     "data": {
      "text/html": [
       "<div>\n",
       "<style scoped>\n",
       "    .dataframe tbody tr th:only-of-type {\n",
       "        vertical-align: middle;\n",
       "    }\n",
       "\n",
       "    .dataframe tbody tr th {\n",
       "        vertical-align: top;\n",
       "    }\n",
       "\n",
       "    .dataframe thead th {\n",
       "        text-align: right;\n",
       "    }\n",
       "</style>\n",
       "<table border=\"1\" class=\"dataframe\">\n",
       "  <thead>\n",
       "    <tr style=\"text-align: right;\">\n",
       "      <th></th>\n",
       "      <th>GDP em 2015</th>\n",
       "      <th>Happiness Score</th>\n",
       "      <th>Expectativa de vida</th>\n",
       "    </tr>\n",
       "  </thead>\n",
       "  <tbody>\n",
       "    <tr>\n",
       "      <th>GDP em 2015</th>\n",
       "      <td>1.000000</td>\n",
       "      <td>-0.220570</td>\n",
       "      <td>-0.227385</td>\n",
       "    </tr>\n",
       "    <tr>\n",
       "      <th>Happiness Score</th>\n",
       "      <td>-0.220570</td>\n",
       "      <td>1.000000</td>\n",
       "      <td>0.737686</td>\n",
       "    </tr>\n",
       "    <tr>\n",
       "      <th>Expectativa de vida</th>\n",
       "      <td>-0.227385</td>\n",
       "      <td>0.737686</td>\n",
       "      <td>1.000000</td>\n",
       "    </tr>\n",
       "  </tbody>\n",
       "</table>\n",
       "</div>"
      ],
      "text/plain": [
       "                     GDP em 2015  Happiness Score  Expectativa de vida\n",
       "GDP em 2015             1.000000        -0.220570            -0.227385\n",
       "Happiness Score        -0.220570         1.000000             0.737686\n",
       "Expectativa de vida    -0.227385         0.737686             1.000000"
      ]
     },
     "execution_count": 13,
     "metadata": {},
     "output_type": "execute_result"
    },
    {
     "data": {
      "image/png": "[encoded data removed]",
      "text/plain": [
       "<Figure size 432x288 with 1 Axes>"
      ]
     },
     "metadata": {},
     "output_type": "display_data"
    }
   ],
   "source": [
    "plt.scatter(dff[\"Expectativa de vida\"],dff[\"Happiness Score\"]);\n",
    "plt.xlabel(\"Expectativa de vida\");\n",
    "plt.ylabel(\"Happiness Score\");\n",
    "\n",
    "dff.corr()"
   ]
  },
  {
   "cell_type": "code",
   "execution_count": 14,
   "metadata": {},
   "outputs": [
    {
     "data": {
      "image/png": "[encoded data removed]",
      "text/plain": [
       "<Figure size 432x288 with 4 Axes>"
      ]
     },
     "metadata": {},
     "output_type": "display_data"
    }
   ],
   "source": [
    "dff.hist();"
   ]
  },
  {
   "cell_type": "code",
   "execution_count": 15,
   "metadata": {},
   "outputs": [
    {
     "data": {
      "text/html": [
       "<table class=\"simpletable\">\n",
       "<caption>OLS Regression Results</caption>\n",
       "<tr>\n",
       "  <th>Dep. Variable:</th>     <td>Happiness Score</td> <th>  R-squared:         </th> <td>   0.544</td>\n",
       "</tr>\n",
       "<tr>\n",
       "  <th>Model:</th>                   <td>OLS</td>       <th>  Adj. R-squared:    </th> <td>   0.541</td>\n",
       "</tr>\n",
       "<tr>\n",
       "  <th>Method:</th>             <td>Least Squares</td>  <th>  F-statistic:       </th> <td>   170.7</td>\n",
       "</tr>\n",
       "<tr>\n",
       "  <th>Date:</th>             <td>Wed, 21 Nov 2018</td> <th>  Prob (F-statistic):</th> <td>3.60e-26</td>\n",
       "</tr>\n",
       "<tr>\n",
       "  <th>Time:</th>                 <td>17:46:19</td>     <th>  Log-Likelihood:    </th> <td> -171.30</td>\n",
       "</tr>\n",
       "<tr>\n",
       "  <th>No. Observations:</th>      <td>   145</td>      <th>  AIC:               </th> <td>   346.6</td>\n",
       "</tr>\n",
       "<tr>\n",
       "  <th>Df Residuals:</th>          <td>   143</td>      <th>  BIC:               </th> <td>   352.5</td>\n",
       "</tr>\n",
       "<tr>\n",
       "  <th>Df Model:</th>              <td>     1</td>      <th>                     </th>     <td> </td>   \n",
       "</tr>\n",
       "<tr>\n",
       "  <th>Covariance Type:</th>      <td>nonrobust</td>    <th>                     </th>     <td> </td>   \n",
       "</tr>\n",
       "</table>\n",
       "<table class=\"simpletable\">\n",
       "<tr>\n",
       "           <td></td>              <th>coef</th>     <th>std err</th>      <th>t</th>      <th>P>|t|</th>  <th>[0.025</th>    <th>0.975]</th>  \n",
       "</tr>\n",
       "<tr>\n",
       "  <th>const</th>               <td>   -2.3091</td> <td>    0.594</td> <td>   -3.889</td> <td> 0.000</td> <td>   -3.483</td> <td>   -1.135</td>\n",
       "</tr>\n",
       "<tr>\n",
       "  <th>Expectativa de vida</th> <td>    0.1064</td> <td>    0.008</td> <td>   13.066</td> <td> 0.000</td> <td>    0.090</td> <td>    0.122</td>\n",
       "</tr>\n",
       "</table>\n",
       "<table class=\"simpletable\">\n",
       "<tr>\n",
       "  <th>Omnibus:</th>       <td> 2.776</td> <th>  Durbin-Watson:     </th> <td>   2.078</td>\n",
       "</tr>\n",
       "<tr>\n",
       "  <th>Prob(Omnibus):</th> <td> 0.250</td> <th>  Jarque-Bera (JB):  </th> <td>   1.873</td>\n",
       "</tr>\n",
       "<tr>\n",
       "  <th>Skew:</th>          <td> 0.004</td> <th>  Prob(JB):          </th> <td>   0.392</td>\n",
       "</tr>\n",
       "<tr>\n",
       "  <th>Kurtosis:</th>      <td> 2.443</td> <th>  Cond. No.          </th> <td>    657.</td>\n",
       "</tr>\n",
       "</table><br/><br/>Warnings:<br/>[1] Standard Errors assume that the covariance matrix of the errors is correctly specified."
      ],
      "text/plain": [
       "<class 'statsmodels.iolib.summary.Summary'>\n",
       "\"\"\"\n",
       "                            OLS Regression Results                            \n",
       "==============================================================================\n",
       "Dep. Variable:        Happiness Score   R-squared:                       0.544\n",
       "Model:                            OLS   Adj. R-squared:                  0.541\n",
       "Method:                 Least Squares   F-statistic:                     170.7\n",
       "Date:                Wed, 21 Nov 2018   Prob (F-statistic):           3.60e-26\n",
       "Time:                        17:46:19   Log-Likelihood:                -171.30\n",
       "No. Observations:                 145   AIC:                             346.6\n",
       "Df Residuals:                     143   BIC:                             352.5\n",
       "Df Model:                           1                                         \n",
       "Covariance Type:            nonrobust                                         \n",
       "=======================================================================================\n",
       "                          coef    std err          t      P>|t|      [0.025      0.975]\n",
       "---------------------------------------------------------------------------------------\n",
       "const                  -2.3091      0.594     -3.889      0.000      -3.483      -1.135\n",
       "Expectativa de vida     0.1064      0.008     13.066      0.000       0.090       0.122\n",
       "==============================================================================\n",
       "Omnibus:                        2.776   Durbin-Watson:                   2.078\n",
       "Prob(Omnibus):                  0.250   Jarque-Bera (JB):                1.873\n",
       "Skew:                           0.004   Prob(JB):                        0.392\n",
       "Kurtosis:                       2.443   Cond. No.                         657.\n",
       "==============================================================================\n",
       "\n",
       "Warnings:\n",
       "[1] Standard Errors assume that the covariance matrix of the errors is correctly specified.\n",
       "\"\"\""
      ]
     },
     "execution_count": 15,
     "metadata": {},
     "output_type": "execute_result"
    }
   ],
   "source": [
    "x = dff[['Expectativa de vida']]\n",
    "y = dff[['Happiness Score']]\n",
    "\n",
    "results = regress(x, y)\n",
    "results.summary() #coloar o nome das coisas"
   ]
  },
  {
   "cell_type": "markdown",
   "metadata": {},
   "source": [
    "Já na regressão linear entre expectativa de vida e happiness score, temos que o modelo tem uma confiabilidade de 54%, além disso, a probabilidade de f é bastante baixa, de modo a indicar que os betas são reias não nulos. E a probabilidade dos coeficientes não serem correlacionados é baixa também, visto que a probabilidade de t quebra a hipótese nula."
   ]
  },
  {
   "cell_type": "code",
   "execution_count": 16,
   "metadata": {},
   "outputs": [
    {
     "data": {
      "text/html": [
       "<table class=\"simpletable\">\n",
       "<caption>OLS Regression Results</caption>\n",
       "<tr>\n",
       "  <th>Dep. Variable:</th>     <td>Happiness Score</td> <th>  R-squared:         </th> <td>   0.049</td>\n",
       "</tr>\n",
       "<tr>\n",
       "  <th>Model:</th>                   <td>OLS</td>       <th>  Adj. R-squared:    </th> <td>   0.042</td>\n",
       "</tr>\n",
       "<tr>\n",
       "  <th>Method:</th>             <td>Least Squares</td>  <th>  F-statistic:       </th> <td>   7.313</td>\n",
       "</tr>\n",
       "<tr>\n",
       "  <th>Date:</th>             <td>Wed, 21 Nov 2018</td> <th>  Prob (F-statistic):</th>  <td>0.00768</td>\n",
       "</tr>\n",
       "<tr>\n",
       "  <th>Time:</th>                 <td>17:46:19</td>     <th>  Log-Likelihood:    </th> <td> -224.64</td>\n",
       "</tr>\n",
       "<tr>\n",
       "  <th>No. Observations:</th>      <td>   145</td>      <th>  AIC:               </th> <td>   453.3</td>\n",
       "</tr>\n",
       "<tr>\n",
       "  <th>Df Residuals:</th>          <td>   143</td>      <th>  BIC:               </th> <td>   459.2</td>\n",
       "</tr>\n",
       "<tr>\n",
       "  <th>Df Model:</th>              <td>     1</td>      <th>                     </th>     <td> </td>   \n",
       "</tr>\n",
       "<tr>\n",
       "  <th>Covariance Type:</th>      <td>nonrobust</td>    <th>                     </th>     <td> </td>   \n",
       "</tr>\n",
       "</table>\n",
       "<table class=\"simpletable\">\n",
       "<tr>\n",
       "       <td></td>          <th>coef</th>     <th>std err</th>      <th>t</th>      <th>P>|t|</th>  <th>[0.025</th>    <th>0.975]</th>  \n",
       "</tr>\n",
       "<tr>\n",
       "  <th>const</th>       <td>    5.6741</td> <td>    0.139</td> <td>   40.910</td> <td> 0.000</td> <td>    5.400</td> <td>    5.948</td>\n",
       "</tr>\n",
       "<tr>\n",
       "  <th>GDP em 2015</th> <td>   -0.0925</td> <td>    0.034</td> <td>   -2.704</td> <td> 0.008</td> <td>   -0.160</td> <td>   -0.025</td>\n",
       "</tr>\n",
       "</table>\n",
       "<table class=\"simpletable\">\n",
       "<tr>\n",
       "  <th>Omnibus:</th>       <td> 5.609</td> <th>  Durbin-Watson:     </th> <td>   2.072</td>\n",
       "</tr>\n",
       "<tr>\n",
       "  <th>Prob(Omnibus):</th> <td> 0.061</td> <th>  Jarque-Bera (JB):  </th> <td>   2.886</td>\n",
       "</tr>\n",
       "<tr>\n",
       "  <th>Skew:</th>          <td> 0.005</td> <th>  Prob(JB):          </th> <td>   0.236</td>\n",
       "</tr>\n",
       "<tr>\n",
       "  <th>Kurtosis:</th>      <td> 2.309</td> <th>  Cond. No.          </th> <td>    6.10</td>\n",
       "</tr>\n",
       "</table><br/><br/>Warnings:<br/>[1] Standard Errors assume that the covariance matrix of the errors is correctly specified."
      ],
      "text/plain": [
       "<class 'statsmodels.iolib.summary.Summary'>\n",
       "\"\"\"\n",
       "                            OLS Regression Results                            \n",
       "==============================================================================\n",
       "Dep. Variable:        Happiness Score   R-squared:                       0.049\n",
       "Model:                            OLS   Adj. R-squared:                  0.042\n",
       "Method:                 Least Squares   F-statistic:                     7.313\n",
       "Date:                Wed, 21 Nov 2018   Prob (F-statistic):            0.00768\n",
       "Time:                        17:46:19   Log-Likelihood:                -224.64\n",
       "No. Observations:                 145   AIC:                             453.3\n",
       "Df Residuals:                     143   BIC:                             459.2\n",
       "Df Model:                           1                                         \n",
       "Covariance Type:            nonrobust                                         \n",
       "===============================================================================\n",
       "                  coef    std err          t      P>|t|      [0.025      0.975]\n",
       "-------------------------------------------------------------------------------\n",
       "const           5.6741      0.139     40.910      0.000       5.400       5.948\n",
       "GDP em 2015    -0.0925      0.034     -2.704      0.008      -0.160      -0.025\n",
       "==============================================================================\n",
       "Omnibus:                        5.609   Durbin-Watson:                   2.072\n",
       "Prob(Omnibus):                  0.061   Jarque-Bera (JB):                2.886\n",
       "Skew:                           0.005   Prob(JB):                        0.236\n",
       "Kurtosis:                       2.309   Cond. No.                         6.10\n",
       "==============================================================================\n",
       "\n",
       "Warnings:\n",
       "[1] Standard Errors assume that the covariance matrix of the errors is correctly specified.\n",
       "\"\"\""
      ]
     },
     "execution_count": 16,
     "metadata": {},
     "output_type": "execute_result"
    }
   ],
   "source": [
    "X3 = dff[[\"GDP em 2015\"]]\n",
    "results3 = regress(X3, dff[\"Happiness Score\"])\n",
    "results3.summary()"
   ]
  },
  {
   "cell_type": "markdown",
   "metadata": {},
   "source": [
    "Juntando as duas variáveis, percebemos que a confiabilidade é de 54%, além de que a probabilidade de F-statistic é muito baixa, afirmando que pelo menos um dos betas é diferente de zero. Porém, ao observar o p-value de cada uma das variáveis, percebemos que essa probabilidade é baixa em relação ao beta do 'Happiness Score' e da 'Expectativa de vida' são muito baixos, quebrando a hipótese nula de que o beta é igual à zero. Mas para o p-value do 'GDP em 2015', não é possível afirmar nada, considerando que o p-value não é um valor baixo.\n",
    "\n",
    "Em relação aos resíduos, pelo método de Omnibus, a probabilidade de se comportar como uma normal é de 23%, já para o método de Jarque-Bera, apresenta uma probabilidade de 37% de se comportar como uma normal."
   ]
  },
  {
   "cell_type": "markdown",
   "metadata": {},
   "source": [
    "## Análise exploratória sem outlier do GDP "
   ]
  },
  {
   "cell_type": "code",
   "execution_count": 17,
   "metadata": {},
   "outputs": [],
   "source": [
    "gdp1 = pd.read_excel('GDP_outlier.xlsx')\n",
    "\n",
    "i = gdp1.loc[:,]\n",
    "gdp1_idx = i.set_index('País')"
   ]
  },
  {
   "cell_type": "code",
   "execution_count": 18,
   "metadata": {},
   "outputs": [],
   "source": [
    "dff2_ = dff.drop(\"GDP em 2015\", axis=1) #Tirando a coluna do GDP com outlier\n",
    "dff2 = dff2_.join(gdp1_idx, how='inner') #Colocando a coluna sem o outlier"
   ]
  },
  {
   "cell_type": "code",
   "execution_count": 19,
   "metadata": {},
   "outputs": [
    {
     "data": {
      "image/png": "[encoded data removed]",
      "text/plain": [
       "<Figure size 432x288 with 1 Axes>"
      ]
     },
     "metadata": {},
     "output_type": "display_data"
    }
   ],
   "source": [
    "dff2['GDP em 2015'].hist();"
   ]
  },
  {
   "cell_type": "code",
   "execution_count": 20,
   "metadata": {},
   "outputs": [
    {
     "data": {
      "image/png": "[encoded data removed]",
      "text/plain": [
       "<Figure size 432x288 with 1 Axes>"
      ]
     },
     "metadata": {},
     "output_type": "display_data"
    },
    {
     "data": {
      "text/plain": [
       "<matplotlib.axes._subplots.AxesSubplot at 0x230b4552048>"
      ]
     },
     "execution_count": 20,
     "metadata": {},
     "output_type": "execute_result"
    },
    {
     "data": {
      "image/png": "[encoded data removed]",
      "text/plain": [
       "<Figure size 432x288 with 1 Axes>"
      ]
     },
     "metadata": {},
     "output_type": "display_data"
    }
   ],
   "source": [
    "plt.scatter(dff2[\"GDP em 2015\"],dff2[\"Happiness Score\"]);\n",
    "plt.xlabel(\"GDP per capita\");\n",
    "plt.ylabel(\"Happiness Score\");\n",
    "plt.show()\n",
    "\n",
    "dff2[\"GDP em 2015\"].hist()"
   ]
  },
  {
   "cell_type": "code",
   "execution_count": 21,
   "metadata": {},
   "outputs": [
    {
     "data": {
      "text/html": [
       "<div>\n",
       "<style scoped>\n",
       "    .dataframe tbody tr th:only-of-type {\n",
       "        vertical-align: middle;\n",
       "    }\n",
       "\n",
       "    .dataframe tbody tr th {\n",
       "        vertical-align: top;\n",
       "    }\n",
       "\n",
       "    .dataframe thead th {\n",
       "        text-align: right;\n",
       "    }\n",
       "</style>\n",
       "<table border=\"1\" class=\"dataframe\">\n",
       "  <thead>\n",
       "    <tr style=\"text-align: right;\">\n",
       "      <th></th>\n",
       "      <th>Happiness Score</th>\n",
       "      <th>Expectativa de vida</th>\n",
       "      <th>GDP em 2015</th>\n",
       "    </tr>\n",
       "  </thead>\n",
       "  <tbody>\n",
       "    <tr>\n",
       "      <th>Happiness Score</th>\n",
       "      <td>1.000000</td>\n",
       "      <td>0.737605</td>\n",
       "      <td>-0.360132</td>\n",
       "    </tr>\n",
       "    <tr>\n",
       "      <th>Expectativa de vida</th>\n",
       "      <td>0.737605</td>\n",
       "      <td>1.000000</td>\n",
       "      <td>-0.360598</td>\n",
       "    </tr>\n",
       "    <tr>\n",
       "      <th>GDP em 2015</th>\n",
       "      <td>-0.360132</td>\n",
       "      <td>-0.360598</td>\n",
       "      <td>1.000000</td>\n",
       "    </tr>\n",
       "  </tbody>\n",
       "</table>\n",
       "</div>"
      ],
      "text/plain": [
       "                     Happiness Score  Expectativa de vida  GDP em 2015\n",
       "Happiness Score             1.000000             0.737605    -0.360132\n",
       "Expectativa de vida         0.737605             1.000000    -0.360598\n",
       "GDP em 2015                -0.360132            -0.360598     1.000000"
      ]
     },
     "execution_count": 21,
     "metadata": {},
     "output_type": "execute_result"
    }
   ],
   "source": [
    "dff2.corr()"
   ]
  },
  {
   "cell_type": "markdown",
   "metadata": {},
   "source": [
    "Como podemos observar, a correlação entre 'GDP em 2015'  e 'Happiness Score' aumentou para 36% de correlação, além do histograma ficar mais próximo de uma normal"
   ]
  },
  {
   "cell_type": "code",
   "execution_count": 22,
   "metadata": {},
   "outputs": [
    {
     "data": {
      "text/html": [
       "<table class=\"simpletable\">\n",
       "<caption>OLS Regression Results</caption>\n",
       "<tr>\n",
       "  <th>Dep. Variable:</th>     <td>Happiness Score</td> <th>  R-squared:         </th> <td>   0.554</td>\n",
       "</tr>\n",
       "<tr>\n",
       "  <th>Model:</th>                   <td>OLS</td>       <th>  Adj. R-squared:    </th> <td>   0.548</td>\n",
       "</tr>\n",
       "<tr>\n",
       "  <th>Method:</th>             <td>Least Squares</td>  <th>  F-statistic:       </th> <td>   87.66</td>\n",
       "</tr>\n",
       "<tr>\n",
       "  <th>Date:</th>             <td>Wed, 21 Nov 2018</td> <th>  Prob (F-statistic):</th> <td>1.82e-25</td>\n",
       "</tr>\n",
       "<tr>\n",
       "  <th>Time:</th>                 <td>17:46:20</td>     <th>  Log-Likelihood:    </th> <td> -168.96</td>\n",
       "</tr>\n",
       "<tr>\n",
       "  <th>No. Observations:</th>      <td>   144</td>      <th>  AIC:               </th> <td>   343.9</td>\n",
       "</tr>\n",
       "<tr>\n",
       "  <th>Df Residuals:</th>          <td>   141</td>      <th>  BIC:               </th> <td>   352.8</td>\n",
       "</tr>\n",
       "<tr>\n",
       "  <th>Df Model:</th>              <td>     2</td>      <th>                     </th>     <td> </td>   \n",
       "</tr>\n",
       "<tr>\n",
       "  <th>Covariance Type:</th>      <td>nonrobust</td>    <th>                     </th>     <td> </td>   \n",
       "</tr>\n",
       "</table>\n",
       "<table class=\"simpletable\">\n",
       "<tr>\n",
       "           <td></td>              <th>coef</th>     <th>std err</th>      <th>t</th>      <th>P>|t|</th>  <th>[0.025</th>    <th>0.975]</th>  \n",
       "</tr>\n",
       "<tr>\n",
       "  <th>const</th>               <td>   -1.7111</td> <td>    0.678</td> <td>   -2.523</td> <td> 0.013</td> <td>   -3.052</td> <td>   -0.370</td>\n",
       "</tr>\n",
       "<tr>\n",
       "  <th>Expectativa de vida</th> <td>    0.1007</td> <td>    0.009</td> <td>   11.589</td> <td> 0.000</td> <td>    0.084</td> <td>    0.118</td>\n",
       "</tr>\n",
       "<tr>\n",
       "  <th>GDP em 2015</th>         <td>   -0.0683</td> <td>    0.038</td> <td>   -1.795</td> <td> 0.075</td> <td>   -0.143</td> <td>    0.007</td>\n",
       "</tr>\n",
       "</table>\n",
       "<table class=\"simpletable\">\n",
       "<tr>\n",
       "  <th>Omnibus:</th>       <td> 2.090</td> <th>  Durbin-Watson:     </th> <td>   2.084</td>\n",
       "</tr>\n",
       "<tr>\n",
       "  <th>Prob(Omnibus):</th> <td> 0.352</td> <th>  Jarque-Bera (JB):  </th> <td>   1.574</td>\n",
       "</tr>\n",
       "<tr>\n",
       "  <th>Skew:</th>          <td>-0.032</td> <th>  Prob(JB):          </th> <td>   0.455</td>\n",
       "</tr>\n",
       "<tr>\n",
       "  <th>Kurtosis:</th>      <td> 2.492</td> <th>  Cond. No.          </th> <td>    752.</td>\n",
       "</tr>\n",
       "</table><br/><br/>Warnings:<br/>[1] Standard Errors assume that the covariance matrix of the errors is correctly specified."
      ],
      "text/plain": [
       "<class 'statsmodels.iolib.summary.Summary'>\n",
       "\"\"\"\n",
       "                            OLS Regression Results                            \n",
       "==============================================================================\n",
       "Dep. Variable:        Happiness Score   R-squared:                       0.554\n",
       "Model:                            OLS   Adj. R-squared:                  0.548\n",
       "Method:                 Least Squares   F-statistic:                     87.66\n",
       "Date:                Wed, 21 Nov 2018   Prob (F-statistic):           1.82e-25\n",
       "Time:                        17:46:20   Log-Likelihood:                -168.96\n",
       "No. Observations:                 144   AIC:                             343.9\n",
       "Df Residuals:                     141   BIC:                             352.8\n",
       "Df Model:                           2                                         \n",
       "Covariance Type:            nonrobust                                         \n",
       "=======================================================================================\n",
       "                          coef    std err          t      P>|t|      [0.025      0.975]\n",
       "---------------------------------------------------------------------------------------\n",
       "const                  -1.7111      0.678     -2.523      0.013      -3.052      -0.370\n",
       "Expectativa de vida     0.1007      0.009     11.589      0.000       0.084       0.118\n",
       "GDP em 2015            -0.0683      0.038     -1.795      0.075      -0.143       0.007\n",
       "==============================================================================\n",
       "Omnibus:                        2.090   Durbin-Watson:                   2.084\n",
       "Prob(Omnibus):                  0.352   Jarque-Bera (JB):                1.574\n",
       "Skew:                          -0.032   Prob(JB):                        0.455\n",
       "Kurtosis:                       2.492   Cond. No.                         752.\n",
       "==============================================================================\n",
       "\n",
       "Warnings:\n",
       "[1] Standard Errors assume that the covariance matrix of the errors is correctly specified.\n",
       "\"\"\""
      ]
     },
     "execution_count": 22,
     "metadata": {},
     "output_type": "execute_result"
    }
   ],
   "source": [
    "x = dff2[['Expectativa de vida','GDP em 2015']]\n",
    "y = dff2[['Happiness Score']]\n",
    "\n",
    "results = regress(x,y)\n",
    "results.summary()"
   ]
  },
  {
   "cell_type": "markdown",
   "metadata": {},
   "source": [
    "Sem o outlier do GDP, o r quadrado aumentou discretamente, a hipótese nula do F-statistic continua sendo rejeitada.\n",
    "\n",
    "Sobre os p-values:\n",
    "* Happiness Score: Aumentou em relação à outra anàlise, porém não o suficiente para não rejeitar a hipótese nula\n",
    "* Expectativa de vida: O seu valor continua baixo, continuando a rejeitar a hipótese nula\n",
    "* GDP em 2015: Seu valor abaixou, porém não o suficiente para rejeitar a hipótese nula, então, ainda não conseguimos afirmar nada "
   ]
  },
  {
   "cell_type": "markdown",
   "metadata": {},
   "source": [
    "## Terceira variável analisada: Corrupção"
   ]
  },
  {
   "cell_type": "code",
   "execution_count": 23,
   "metadata": {},
   "outputs": [
    {
     "data": {
      "text/html": [
       "<div>\n",
       "<style scoped>\n",
       "    .dataframe tbody tr th:only-of-type {\n",
       "        vertical-align: middle;\n",
       "    }\n",
       "\n",
       "    .dataframe tbody tr th {\n",
       "        vertical-align: top;\n",
       "    }\n",
       "\n",
       "    .dataframe thead th {\n",
       "        text-align: right;\n",
       "    }\n",
       "</style>\n",
       "<table border=\"1\" class=\"dataframe\">\n",
       "  <thead>\n",
       "    <tr style=\"text-align: right;\">\n",
       "      <th></th>\n",
       "      <th>Happiness Score</th>\n",
       "      <th>Expectativa de vida</th>\n",
       "      <th>GDP em 2015</th>\n",
       "      <th>Corrupção 2015</th>\n",
       "    </tr>\n",
       "  </thead>\n",
       "  <tbody>\n",
       "    <tr>\n",
       "      <th>Afghanistan</th>\n",
       "      <td>3.575</td>\n",
       "      <td>53.8</td>\n",
       "      <td>2.110</td>\n",
       "      <td>11</td>\n",
       "    </tr>\n",
       "    <tr>\n",
       "      <th>Albania</th>\n",
       "      <td>4.959</td>\n",
       "      <td>78.0</td>\n",
       "      <td>3.820</td>\n",
       "      <td>36</td>\n",
       "    </tr>\n",
       "    <tr>\n",
       "      <th>Algeria</th>\n",
       "      <td>5.605</td>\n",
       "      <td>76.4</td>\n",
       "      <td>2.100</td>\n",
       "      <td>36</td>\n",
       "    </tr>\n",
       "    <tr>\n",
       "      <th>Angola</th>\n",
       "      <td>4.033</td>\n",
       "      <td>59.6</td>\n",
       "      <td>2.460</td>\n",
       "      <td>15</td>\n",
       "    </tr>\n",
       "    <tr>\n",
       "      <th>Argentina</th>\n",
       "      <td>6.574</td>\n",
       "      <td>76.5</td>\n",
       "      <td>-0.128</td>\n",
       "      <td>32</td>\n",
       "    </tr>\n",
       "  </tbody>\n",
       "</table>\n",
       "</div>"
      ],
      "text/plain": [
       "             Happiness Score  Expectativa de vida  GDP em 2015  Corrupção 2015\n",
       "Afghanistan            3.575                 53.8        2.110              11\n",
       "Albania                4.959                 78.0        3.820              36\n",
       "Algeria                5.605                 76.4        2.100              36\n",
       "Angola                 4.033                 59.6        2.460              15\n",
       "Argentina              6.574                 76.5       -0.128              32"
      ]
     },
     "execution_count": 23,
     "metadata": {},
     "output_type": "execute_result"
    }
   ],
   "source": [
    "corrup = pd.read_excel('corrup_limpo.xlsx') #leitura do dataset\n",
    "\n",
    "corrup1=corrup.set_index(\"Países\")\n",
    "dff3 = dff2.join(corrup1, how='inner') #junção com o dataframe já feito\n",
    "dff3=dff3.rename(columns={'2015':\"Corrupção 2015\"})\n",
    "dff3.head()\n"
   ]
  },
  {
   "cell_type": "code",
   "execution_count": 24,
   "metadata": {},
   "outputs": [
    {
     "data": {
      "text/html": [
       "<div>\n",
       "<style scoped>\n",
       "    .dataframe tbody tr th:only-of-type {\n",
       "        vertical-align: middle;\n",
       "    }\n",
       "\n",
       "    .dataframe tbody tr th {\n",
       "        vertical-align: top;\n",
       "    }\n",
       "\n",
       "    .dataframe thead th {\n",
       "        text-align: right;\n",
       "    }\n",
       "</style>\n",
       "<table border=\"1\" class=\"dataframe\">\n",
       "  <thead>\n",
       "    <tr style=\"text-align: right;\">\n",
       "      <th></th>\n",
       "      <th>Happiness Score</th>\n",
       "      <th>Expectativa de vida</th>\n",
       "      <th>GDP em 2015</th>\n",
       "      <th>Corrupção 2015</th>\n",
       "    </tr>\n",
       "  </thead>\n",
       "  <tbody>\n",
       "    <tr>\n",
       "      <th>Happiness Score</th>\n",
       "      <td>1.000000</td>\n",
       "      <td>0.737605</td>\n",
       "      <td>-0.360132</td>\n",
       "      <td>0.680788</td>\n",
       "    </tr>\n",
       "    <tr>\n",
       "      <th>Expectativa de vida</th>\n",
       "      <td>0.737605</td>\n",
       "      <td>1.000000</td>\n",
       "      <td>-0.360598</td>\n",
       "      <td>0.646031</td>\n",
       "    </tr>\n",
       "    <tr>\n",
       "      <th>GDP em 2015</th>\n",
       "      <td>-0.360132</td>\n",
       "      <td>-0.360598</td>\n",
       "      <td>1.000000</td>\n",
       "      <td>-0.293008</td>\n",
       "    </tr>\n",
       "    <tr>\n",
       "      <th>Corrupção 2015</th>\n",
       "      <td>0.680788</td>\n",
       "      <td>0.646031</td>\n",
       "      <td>-0.293008</td>\n",
       "      <td>1.000000</td>\n",
       "    </tr>\n",
       "  </tbody>\n",
       "</table>\n",
       "</div>"
      ],
      "text/plain": [
       "                     Happiness Score  Expectativa de vida  GDP em 2015  \\\n",
       "Happiness Score             1.000000             0.737605    -0.360132   \n",
       "Expectativa de vida         0.737605             1.000000    -0.360598   \n",
       "GDP em 2015                -0.360132            -0.360598     1.000000   \n",
       "Corrupção 2015              0.680788             0.646031    -0.293008   \n",
       "\n",
       "                     Corrupção 2015  \n",
       "Happiness Score            0.680788  \n",
       "Expectativa de vida        0.646031  \n",
       "GDP em 2015               -0.293008  \n",
       "Corrupção 2015             1.000000  "
      ]
     },
     "execution_count": 24,
     "metadata": {},
     "output_type": "execute_result"
    },
    {
     "data": {
      "image/png": "[encoded data removed]",
      "text/plain": [
       "<Figure size 432x288 with 1 Axes>"
      ]
     },
     "metadata": {},
     "output_type": "display_data"
    }
   ],
   "source": [
    "plt.scatter(dff3[\"Corrupção 2015\"],dff3[\"Happiness Score\"]);\n",
    "plt.xlabel(\"Corrupção\");\n",
    "\n",
    "plt.ylabel(\"Happiness Score\");\n",
    "\n",
    "dff3.corr()"
   ]
  },
  {
   "cell_type": "code",
   "execution_count": 25,
   "metadata": {},
   "outputs": [
    {
     "data": {
      "text/html": [
       "<table class=\"simpletable\">\n",
       "<caption>OLS Regression Results</caption>\n",
       "<tr>\n",
       "  <th>Dep. Variable:</th>     <td>Happiness Score</td> <th>  R-squared:         </th> <td>   0.622</td>\n",
       "</tr>\n",
       "<tr>\n",
       "  <th>Model:</th>                   <td>OLS</td>       <th>  Adj. R-squared:    </th> <td>   0.614</td>\n",
       "</tr>\n",
       "<tr>\n",
       "  <th>Method:</th>             <td>Least Squares</td>  <th>  F-statistic:       </th> <td>   76.75</td>\n",
       "</tr>\n",
       "<tr>\n",
       "  <th>Date:</th>             <td>Wed, 21 Nov 2018</td> <th>  Prob (F-statistic):</th> <td>2.05e-29</td>\n",
       "</tr>\n",
       "<tr>\n",
       "  <th>Time:</th>                 <td>17:46:21</td>     <th>  Log-Likelihood:    </th> <td> -157.12</td>\n",
       "</tr>\n",
       "<tr>\n",
       "  <th>No. Observations:</th>      <td>   144</td>      <th>  AIC:               </th> <td>   322.2</td>\n",
       "</tr>\n",
       "<tr>\n",
       "  <th>Df Residuals:</th>          <td>   140</td>      <th>  BIC:               </th> <td>   334.1</td>\n",
       "</tr>\n",
       "<tr>\n",
       "  <th>Df Model:</th>              <td>     3</td>      <th>                     </th>     <td> </td>   \n",
       "</tr>\n",
       "<tr>\n",
       "  <th>Covariance Type:</th>      <td>nonrobust</td>    <th>                     </th>     <td> </td>   \n",
       "</tr>\n",
       "</table>\n",
       "<table class=\"simpletable\">\n",
       "<tr>\n",
       "           <td></td>              <th>coef</th>     <th>std err</th>      <th>t</th>      <th>P>|t|</th>  <th>[0.025</th>    <th>0.975]</th>  \n",
       "</tr>\n",
       "<tr>\n",
       "  <th>const</th>               <td>   -0.3933</td> <td>    0.680</td> <td>   -0.578</td> <td> 0.564</td> <td>   -1.738</td> <td>    0.951</td>\n",
       "</tr>\n",
       "<tr>\n",
       "  <th>Expectativa de vida</th> <td>    0.0701</td> <td>    0.010</td> <td>    6.942</td> <td> 0.000</td> <td>    0.050</td> <td>    0.090</td>\n",
       "</tr>\n",
       "<tr>\n",
       "  <th>GDP em 2015</th>         <td>   -0.0534</td> <td>    0.035</td> <td>   -1.513</td> <td> 0.132</td> <td>   -0.123</td> <td>    0.016</td>\n",
       "</tr>\n",
       "<tr>\n",
       "  <th>Corrupção 2015</th>      <td>    0.0196</td> <td>    0.004</td> <td>    5.003</td> <td> 0.000</td> <td>    0.012</td> <td>    0.027</td>\n",
       "</tr>\n",
       "</table>\n",
       "<table class=\"simpletable\">\n",
       "<tr>\n",
       "  <th>Omnibus:</th>       <td> 0.850</td> <th>  Durbin-Watson:     </th> <td>   2.134</td>\n",
       "</tr>\n",
       "<tr>\n",
       "  <th>Prob(Omnibus):</th> <td> 0.654</td> <th>  Jarque-Bera (JB):  </th> <td>   0.896</td>\n",
       "</tr>\n",
       "<tr>\n",
       "  <th>Skew:</th>          <td> 0.051</td> <th>  Prob(JB):          </th> <td>   0.639</td>\n",
       "</tr>\n",
       "<tr>\n",
       "  <th>Kurtosis:</th>      <td> 2.627</td> <th>  Cond. No.          </th> <td>    964.</td>\n",
       "</tr>\n",
       "</table><br/><br/>Warnings:<br/>[1] Standard Errors assume that the covariance matrix of the errors is correctly specified."
      ],
      "text/plain": [
       "<class 'statsmodels.iolib.summary.Summary'>\n",
       "\"\"\"\n",
       "                            OLS Regression Results                            \n",
       "==============================================================================\n",
       "Dep. Variable:        Happiness Score   R-squared:                       0.622\n",
       "Model:                            OLS   Adj. R-squared:                  0.614\n",
       "Method:                 Least Squares   F-statistic:                     76.75\n",
       "Date:                Wed, 21 Nov 2018   Prob (F-statistic):           2.05e-29\n",
       "Time:                        17:46:21   Log-Likelihood:                -157.12\n",
       "No. Observations:                 144   AIC:                             322.2\n",
       "Df Residuals:                     140   BIC:                             334.1\n",
       "Df Model:                           3                                         \n",
       "Covariance Type:            nonrobust                                         \n",
       "=======================================================================================\n",
       "                          coef    std err          t      P>|t|      [0.025      0.975]\n",
       "---------------------------------------------------------------------------------------\n",
       "const                  -0.3933      0.680     -0.578      0.564      -1.738       0.951\n",
       "Expectativa de vida     0.0701      0.010      6.942      0.000       0.050       0.090\n",
       "GDP em 2015            -0.0534      0.035     -1.513      0.132      -0.123       0.016\n",
       "Corrupção 2015          0.0196      0.004      5.003      0.000       0.012       0.027\n",
       "==============================================================================\n",
       "Omnibus:                        0.850   Durbin-Watson:                   2.134\n",
       "Prob(Omnibus):                  0.654   Jarque-Bera (JB):                0.896\n",
       "Skew:                           0.051   Prob(JB):                        0.639\n",
       "Kurtosis:                       2.627   Cond. No.                         964.\n",
       "==============================================================================\n",
       "\n",
       "Warnings:\n",
       "[1] Standard Errors assume that the covariance matrix of the errors is correctly specified.\n",
       "\"\"\""
      ]
     },
     "execution_count": 25,
     "metadata": {},
     "output_type": "execute_result"
    },
    {
     "data": {
      "image/png": "[encoded data removed]",
      "text/plain": [
       "<Figure size 432x288 with 1 Axes>"
      ]
     },
     "metadata": {},
     "output_type": "display_data"
    }
   ],
   "source": [
    "x = dff3[['Expectativa de vida', 'GDP em 2015', 'Corrupção 2015']]\n",
    "y = dff3[['Happiness Score']]\n",
    "\n",
    "dff3['Corrupção 2015'].hist();\n",
    "\n",
    "resultado = regress(x,y)\n",
    "\n",
    "resultado.summary()"
   ]
  },
  {
   "cell_type": "markdown",
   "metadata": {},
   "source": [
    "Com a implementação da variável corrupção, a confiabilidade do resultado aumentou para 62% e a hipótese nula do F-statistic continua sendo quebrada\n",
    "\n",
    "Os p-values tiveram algumas mudanças também:\n",
    "\n",
    "* Happiness Score: a probabilidade aumentou significamente, logo não podemos mais quebrar a hipótese nula com relação à essa variável\n",
    "* Expectativa de Vida: Continua quebrando a hipótese nula, devido ao baixo valor de p-value\n",
    "* GDP em 2015: Seu valor aumentou, e ainda nada se pode afirmar sobre o Beta\n",
    "* Corrupção 2015: Como seu p-value apresenta um valor muito baixo se recusa a hipótese nula de que seu beta é igual à zero\n",
    "\n",
    "Em relação a normalidade dos resíduos a partir dos testes Omnibus e JB, também aumentaram significamente, sendo a probabilidade de se comprtarem como curvas normais é de 65% para Omnibus e 63% para JB\n"
   ]
  },
  {
   "cell_type": "markdown",
   "metadata": {},
   "source": [
    "#### Gráficos:"
   ]
  },
  {
   "cell_type": "code",
   "execution_count": 26,
   "metadata": {},
   "outputs": [],
   "source": [
    "# plt.scatter(df_16[\"Happiness Score\"],df_16[\"GDP em 2016\"]);\n",
    "# plt.xlabel(\"Happiness Score\");\n",
    "# plt.ylabel(\"GDP\");"
   ]
  },
  {
   "cell_type": "markdown",
   "metadata": {},
   "source": [
    "## Outras variáveis analisadas: Inflação e Mortalidade"
   ]
  },
  {
   "cell_type": "code",
   "execution_count": 27,
   "metadata": {},
   "outputs": [],
   "source": [
    "infla = pd.read_excel('infla_limpo.xlsx')\n",
    "infla1=infla.set_index(\"Country Name\")\n",
    "\n",
    "dff4 = dff3.join(infla1, how='inner')\n",
    "dff4=dff4.rename(columns={'2015':\"Inflação 2015\"})"
   ]
  },
  {
   "cell_type": "code",
   "execution_count": 28,
   "metadata": {},
   "outputs": [
    {
     "data": {
      "image/png": "[encoded data removed]",
      "text/plain": [
       "<Figure size 432x288 with 1 Axes>"
      ]
     },
     "metadata": {},
     "output_type": "display_data"
    },
    {
     "data": {
      "text/html": [
       "<div>\n",
       "<style scoped>\n",
       "    .dataframe tbody tr th:only-of-type {\n",
       "        vertical-align: middle;\n",
       "    }\n",
       "\n",
       "    .dataframe tbody tr th {\n",
       "        vertical-align: top;\n",
       "    }\n",
       "\n",
       "    .dataframe thead th {\n",
       "        text-align: right;\n",
       "    }\n",
       "</style>\n",
       "<table border=\"1\" class=\"dataframe\">\n",
       "  <thead>\n",
       "    <tr style=\"text-align: right;\">\n",
       "      <th></th>\n",
       "      <th>Happiness Score</th>\n",
       "      <th>Expectativa de vida</th>\n",
       "      <th>GDP em 2015</th>\n",
       "      <th>Corrupção 2015</th>\n",
       "      <th>Inflação 2015</th>\n",
       "    </tr>\n",
       "  </thead>\n",
       "  <tbody>\n",
       "    <tr>\n",
       "      <th>Happiness Score</th>\n",
       "      <td>1.000000</td>\n",
       "      <td>0.756378</td>\n",
       "      <td>-0.406858</td>\n",
       "      <td>0.699055</td>\n",
       "      <td>-0.151930</td>\n",
       "    </tr>\n",
       "    <tr>\n",
       "      <th>Expectativa de vida</th>\n",
       "      <td>0.756378</td>\n",
       "      <td>1.000000</td>\n",
       "      <td>-0.416977</td>\n",
       "      <td>0.639818</td>\n",
       "      <td>-0.195925</td>\n",
       "    </tr>\n",
       "    <tr>\n",
       "      <th>GDP em 2015</th>\n",
       "      <td>-0.406858</td>\n",
       "      <td>-0.416977</td>\n",
       "      <td>1.000000</td>\n",
       "      <td>-0.400013</td>\n",
       "      <td>0.097465</td>\n",
       "    </tr>\n",
       "    <tr>\n",
       "      <th>Corrupção 2015</th>\n",
       "      <td>0.699055</td>\n",
       "      <td>0.639818</td>\n",
       "      <td>-0.400013</td>\n",
       "      <td>1.000000</td>\n",
       "      <td>-0.146056</td>\n",
       "    </tr>\n",
       "    <tr>\n",
       "      <th>Inflação 2015</th>\n",
       "      <td>-0.151930</td>\n",
       "      <td>-0.195925</td>\n",
       "      <td>0.097465</td>\n",
       "      <td>-0.146056</td>\n",
       "      <td>1.000000</td>\n",
       "    </tr>\n",
       "  </tbody>\n",
       "</table>\n",
       "</div>"
      ],
      "text/plain": [
       "                     Happiness Score  Expectativa de vida  GDP em 2015  \\\n",
       "Happiness Score             1.000000             0.756378    -0.406858   \n",
       "Expectativa de vida         0.756378             1.000000    -0.416977   \n",
       "GDP em 2015                -0.406858            -0.416977     1.000000   \n",
       "Corrupção 2015              0.699055             0.639818    -0.400013   \n",
       "Inflação 2015              -0.151930            -0.195925     0.097465   \n",
       "\n",
       "                     Corrupção 2015  Inflação 2015  \n",
       "Happiness Score            0.699055      -0.151930  \n",
       "Expectativa de vida        0.639818      -0.195925  \n",
       "GDP em 2015               -0.400013       0.097465  \n",
       "Corrupção 2015             1.000000      -0.146056  \n",
       "Inflação 2015             -0.146056       1.000000  "
      ]
     },
     "execution_count": 28,
     "metadata": {},
     "output_type": "execute_result"
    },
    {
     "data": {
      "image/png": "[encoded data removed]",
      "text/plain": [
       "<Figure size 432x288 with 1 Axes>"
      ]
     },
     "metadata": {},
     "output_type": "display_data"
    }
   ],
   "source": [
    "plt.scatter(dff4[\"Inflação 2015\"],dff4[\"Happiness Score\"]);\n",
    "plt.xlabel(\"Inflação\");\n",
    "plt.ylabel(\"Happiness Score\");\n",
    "plt.show()\n",
    "dff4.to_excel('dataset2015.xlsx')\n",
    "\n",
    "dff4['Inflação 2015'].hist();\n",
    "\n",
    "dff4.corr()\n"
   ]
  },
  {
   "cell_type": "code",
   "execution_count": 29,
   "metadata": {},
   "outputs": [
    {
     "data": {
      "text/html": [
       "<div>\n",
       "<style scoped>\n",
       "    .dataframe tbody tr th:only-of-type {\n",
       "        vertical-align: middle;\n",
       "    }\n",
       "\n",
       "    .dataframe tbody tr th {\n",
       "        vertical-align: top;\n",
       "    }\n",
       "\n",
       "    .dataframe thead th {\n",
       "        text-align: right;\n",
       "    }\n",
       "</style>\n",
       "<table border=\"1\" class=\"dataframe\">\n",
       "  <thead>\n",
       "    <tr style=\"text-align: right;\">\n",
       "      <th></th>\n",
       "      <th>Happiness Score</th>\n",
       "      <th>Expectativa de vida</th>\n",
       "      <th>GDP em 2015</th>\n",
       "      <th>Corrupção 2015</th>\n",
       "      <th>Inflação 2015</th>\n",
       "      <th>Mortalidade 2015</th>\n",
       "    </tr>\n",
       "  </thead>\n",
       "  <tbody>\n",
       "    <tr>\n",
       "      <th>Afghanistan</th>\n",
       "      <td>3.575</td>\n",
       "      <td>53.8</td>\n",
       "      <td>2.110</td>\n",
       "      <td>11</td>\n",
       "      <td>2.432017</td>\n",
       "      <td>73.2</td>\n",
       "    </tr>\n",
       "    <tr>\n",
       "      <th>Albania</th>\n",
       "      <td>4.959</td>\n",
       "      <td>78.0</td>\n",
       "      <td>3.820</td>\n",
       "      <td>36</td>\n",
       "      <td>0.563993</td>\n",
       "      <td>14.0</td>\n",
       "    </tr>\n",
       "    <tr>\n",
       "      <th>Algeria</th>\n",
       "      <td>5.605</td>\n",
       "      <td>76.4</td>\n",
       "      <td>2.100</td>\n",
       "      <td>36</td>\n",
       "      <td>-6.571977</td>\n",
       "      <td>25.5</td>\n",
       "    </tr>\n",
       "    <tr>\n",
       "      <th>Angola</th>\n",
       "      <td>4.033</td>\n",
       "      <td>59.6</td>\n",
       "      <td>2.460</td>\n",
       "      <td>15</td>\n",
       "      <td>-3.980898</td>\n",
       "      <td>86.5</td>\n",
       "    </tr>\n",
       "    <tr>\n",
       "      <th>Argentina</th>\n",
       "      <td>6.574</td>\n",
       "      <td>76.5</td>\n",
       "      <td>-0.128</td>\n",
       "      <td>32</td>\n",
       "      <td>26.579992</td>\n",
       "      <td>11.6</td>\n",
       "    </tr>\n",
       "  </tbody>\n",
       "</table>\n",
       "</div>"
      ],
      "text/plain": [
       "             Happiness Score  Expectativa de vida  GDP em 2015  \\\n",
       "Afghanistan            3.575                 53.8        2.110   \n",
       "Albania                4.959                 78.0        3.820   \n",
       "Algeria                5.605                 76.4        2.100   \n",
       "Angola                 4.033                 59.6        2.460   \n",
       "Argentina              6.574                 76.5       -0.128   \n",
       "\n",
       "             Corrupção 2015  Inflação 2015  Mortalidade 2015  \n",
       "Afghanistan              11       2.432017              73.2  \n",
       "Albania                  36       0.563993              14.0  \n",
       "Algeria                  36      -6.571977              25.5  \n",
       "Angola                   15      -3.980898              86.5  \n",
       "Argentina                32      26.579992              11.6  "
      ]
     },
     "execution_count": 29,
     "metadata": {},
     "output_type": "execute_result"
    }
   ],
   "source": [
    "mort = pd.read_excel('mortalidade_limpo.xlsx')\n",
    "mort1=mort.set_index(\"geo.name\")\n",
    "\n",
    "dff5 = dff4.join(mort1, how='inner')\n",
    "dff5=dff5.rename(columns={2015:\"Mortalidade 2015\"})\n",
    "dff5.head()"
   ]
  },
  {
   "cell_type": "code",
   "execution_count": 30,
   "metadata": {},
   "outputs": [
    {
     "data": {
      "image/png": "[encoded data removed]",
      "text/plain": [
       "<Figure size 432x288 with 1 Axes>"
      ]
     },
     "metadata": {},
     "output_type": "display_data"
    },
    {
     "data": {
      "text/html": [
       "<div>\n",
       "<style scoped>\n",
       "    .dataframe tbody tr th:only-of-type {\n",
       "        vertical-align: middle;\n",
       "    }\n",
       "\n",
       "    .dataframe tbody tr th {\n",
       "        vertical-align: top;\n",
       "    }\n",
       "\n",
       "    .dataframe thead th {\n",
       "        text-align: right;\n",
       "    }\n",
       "</style>\n",
       "<table border=\"1\" class=\"dataframe\">\n",
       "  <thead>\n",
       "    <tr style=\"text-align: right;\">\n",
       "      <th></th>\n",
       "      <th>Happiness Score</th>\n",
       "      <th>Expectativa de vida</th>\n",
       "      <th>GDP em 2015</th>\n",
       "      <th>Corrupção 2015</th>\n",
       "      <th>Inflação 2015</th>\n",
       "      <th>Mortalidade 2015</th>\n",
       "    </tr>\n",
       "  </thead>\n",
       "  <tbody>\n",
       "    <tr>\n",
       "      <th>Happiness Score</th>\n",
       "      <td>1.000000</td>\n",
       "      <td>0.756378</td>\n",
       "      <td>-0.406858</td>\n",
       "      <td>0.699055</td>\n",
       "      <td>-0.151930</td>\n",
       "      <td>-0.691654</td>\n",
       "    </tr>\n",
       "    <tr>\n",
       "      <th>Expectativa de vida</th>\n",
       "      <td>0.756378</td>\n",
       "      <td>1.000000</td>\n",
       "      <td>-0.416977</td>\n",
       "      <td>0.639818</td>\n",
       "      <td>-0.195925</td>\n",
       "      <td>-0.892395</td>\n",
       "    </tr>\n",
       "    <tr>\n",
       "      <th>GDP em 2015</th>\n",
       "      <td>-0.406858</td>\n",
       "      <td>-0.416977</td>\n",
       "      <td>1.000000</td>\n",
       "      <td>-0.400013</td>\n",
       "      <td>0.097465</td>\n",
       "      <td>0.369698</td>\n",
       "    </tr>\n",
       "    <tr>\n",
       "      <th>Corrupção 2015</th>\n",
       "      <td>0.699055</td>\n",
       "      <td>0.639818</td>\n",
       "      <td>-0.400013</td>\n",
       "      <td>1.000000</td>\n",
       "      <td>-0.146056</td>\n",
       "      <td>-0.580697</td>\n",
       "    </tr>\n",
       "    <tr>\n",
       "      <th>Inflação 2015</th>\n",
       "      <td>-0.151930</td>\n",
       "      <td>-0.195925</td>\n",
       "      <td>0.097465</td>\n",
       "      <td>-0.146056</td>\n",
       "      <td>1.000000</td>\n",
       "      <td>0.123736</td>\n",
       "    </tr>\n",
       "    <tr>\n",
       "      <th>Mortalidade 2015</th>\n",
       "      <td>-0.691654</td>\n",
       "      <td>-0.892395</td>\n",
       "      <td>0.369698</td>\n",
       "      <td>-0.580697</td>\n",
       "      <td>0.123736</td>\n",
       "      <td>1.000000</td>\n",
       "    </tr>\n",
       "  </tbody>\n",
       "</table>\n",
       "</div>"
      ],
      "text/plain": [
       "                     Happiness Score  Expectativa de vida  GDP em 2015  \\\n",
       "Happiness Score             1.000000             0.756378    -0.406858   \n",
       "Expectativa de vida         0.756378             1.000000    -0.416977   \n",
       "GDP em 2015                -0.406858            -0.416977     1.000000   \n",
       "Corrupção 2015              0.699055             0.639818    -0.400013   \n",
       "Inflação 2015              -0.151930            -0.195925     0.097465   \n",
       "Mortalidade 2015           -0.691654            -0.892395     0.369698   \n",
       "\n",
       "                     Corrupção 2015  Inflação 2015  Mortalidade 2015  \n",
       "Happiness Score            0.699055      -0.151930         -0.691654  \n",
       "Expectativa de vida        0.639818      -0.195925         -0.892395  \n",
       "GDP em 2015               -0.400013       0.097465          0.369698  \n",
       "Corrupção 2015             1.000000      -0.146056         -0.580697  \n",
       "Inflação 2015             -0.146056       1.000000          0.123736  \n",
       "Mortalidade 2015          -0.580697       0.123736          1.000000  "
      ]
     },
     "execution_count": 30,
     "metadata": {},
     "output_type": "execute_result"
    },
    {
     "data": {
      "image/png": "[encoded data removed]",
      "text/plain": [
       "<Figure size 432x288 with 1 Axes>"
      ]
     },
     "metadata": {},
     "output_type": "display_data"
    }
   ],
   "source": [
    "plt.scatter(dff5[\"Mortalidade 2015\"],dff5[\"Happiness Score\"]);\n",
    "plt.xlabel(\"Mortalidade\");\n",
    "plt.ylabel(\"Happiness Score\");\n",
    "plt.show()\n",
    "\n",
    "dff5['Mortalidade 2015'].hist();\n",
    "\n",
    "dff5.corr()"
   ]
  },
  {
   "cell_type": "code",
   "execution_count": 31,
   "metadata": {},
   "outputs": [
    {
     "data": {
      "text/html": [
       "<table class=\"simpletable\">\n",
       "<caption>OLS Regression Results</caption>\n",
       "<tr>\n",
       "  <th>Dep. Variable:</th>     <td>Happiness Score</td> <th>  R-squared:         </th> <td>   0.653</td>\n",
       "</tr>\n",
       "<tr>\n",
       "  <th>Model:</th>                   <td>OLS</td>       <th>  Adj. R-squared:    </th> <td>   0.642</td>\n",
       "</tr>\n",
       "<tr>\n",
       "  <th>Method:</th>             <td>Least Squares</td>  <th>  F-statistic:       </th> <td>   61.57</td>\n",
       "</tr>\n",
       "<tr>\n",
       "  <th>Date:</th>             <td>Wed, 21 Nov 2018</td> <th>  Prob (F-statistic):</th> <td>3.55e-29</td>\n",
       "</tr>\n",
       "<tr>\n",
       "  <th>Time:</th>                 <td>17:46:22</td>     <th>  Log-Likelihood:    </th> <td> -142.12</td>\n",
       "</tr>\n",
       "<tr>\n",
       "  <th>No. Observations:</th>      <td>   136</td>      <th>  AIC:               </th> <td>   294.2</td>\n",
       "</tr>\n",
       "<tr>\n",
       "  <th>Df Residuals:</th>          <td>   131</td>      <th>  BIC:               </th> <td>   308.8</td>\n",
       "</tr>\n",
       "<tr>\n",
       "  <th>Df Model:</th>              <td>     4</td>      <th>                     </th>     <td> </td>   \n",
       "</tr>\n",
       "<tr>\n",
       "  <th>Covariance Type:</th>      <td>nonrobust</td>    <th>                     </th>     <td> </td>   \n",
       "</tr>\n",
       "</table>\n",
       "<table class=\"simpletable\">\n",
       "<tr>\n",
       "           <td></td>              <th>coef</th>     <th>std err</th>      <th>t</th>      <th>P>|t|</th>  <th>[0.025</th>    <th>0.975]</th>  \n",
       "</tr>\n",
       "<tr>\n",
       "  <th>const</th>               <td>   -0.7219</td> <td>    0.689</td> <td>   -1.049</td> <td> 0.296</td> <td>   -2.084</td> <td>    0.640</td>\n",
       "</tr>\n",
       "<tr>\n",
       "  <th>Expectativa de vida</th> <td>    0.0734</td> <td>    0.010</td> <td>    7.342</td> <td> 0.000</td> <td>    0.054</td> <td>    0.093</td>\n",
       "</tr>\n",
       "<tr>\n",
       "  <th>GDP em 2015</th>         <td>   -0.0347</td> <td>    0.037</td> <td>   -0.936</td> <td> 0.351</td> <td>   -0.108</td> <td>    0.039</td>\n",
       "</tr>\n",
       "<tr>\n",
       "  <th>Corrupção 2015</th>      <td>    0.0204</td> <td>    0.004</td> <td>    5.159</td> <td> 0.000</td> <td>    0.013</td> <td>    0.028</td>\n",
       "</tr>\n",
       "<tr>\n",
       "  <th>Inflação 2015</th>       <td>    0.0007</td> <td>    0.008</td> <td>    0.087</td> <td> 0.931</td> <td>   -0.015</td> <td>    0.016</td>\n",
       "</tr>\n",
       "</table>\n",
       "<table class=\"simpletable\">\n",
       "<tr>\n",
       "  <th>Omnibus:</th>       <td> 1.047</td> <th>  Durbin-Watson:     </th> <td>   2.123</td>\n",
       "</tr>\n",
       "<tr>\n",
       "  <th>Prob(Omnibus):</th> <td> 0.592</td> <th>  Jarque-Bera (JB):  </th> <td>   1.000</td>\n",
       "</tr>\n",
       "<tr>\n",
       "  <th>Skew:</th>          <td> 0.014</td> <th>  Prob(JB):          </th> <td>   0.606</td>\n",
       "</tr>\n",
       "<tr>\n",
       "  <th>Kurtosis:</th>      <td> 2.581</td> <th>  Cond. No.          </th> <td>    997.</td>\n",
       "</tr>\n",
       "</table><br/><br/>Warnings:<br/>[1] Standard Errors assume that the covariance matrix of the errors is correctly specified."
      ],
      "text/plain": [
       "<class 'statsmodels.iolib.summary.Summary'>\n",
       "\"\"\"\n",
       "                            OLS Regression Results                            \n",
       "==============================================================================\n",
       "Dep. Variable:        Happiness Score   R-squared:                       0.653\n",
       "Model:                            OLS   Adj. R-squared:                  0.642\n",
       "Method:                 Least Squares   F-statistic:                     61.57\n",
       "Date:                Wed, 21 Nov 2018   Prob (F-statistic):           3.55e-29\n",
       "Time:                        17:46:22   Log-Likelihood:                -142.12\n",
       "No. Observations:                 136   AIC:                             294.2\n",
       "Df Residuals:                     131   BIC:                             308.8\n",
       "Df Model:                           4                                         \n",
       "Covariance Type:            nonrobust                                         \n",
       "=======================================================================================\n",
       "                          coef    std err          t      P>|t|      [0.025      0.975]\n",
       "---------------------------------------------------------------------------------------\n",
       "const                  -0.7219      0.689     -1.049      0.296      -2.084       0.640\n",
       "Expectativa de vida     0.0734      0.010      7.342      0.000       0.054       0.093\n",
       "GDP em 2015            -0.0347      0.037     -0.936      0.351      -0.108       0.039\n",
       "Corrupção 2015          0.0204      0.004      5.159      0.000       0.013       0.028\n",
       "Inflação 2015           0.0007      0.008      0.087      0.931      -0.015       0.016\n",
       "==============================================================================\n",
       "Omnibus:                        1.047   Durbin-Watson:                   2.123\n",
       "Prob(Omnibus):                  0.592   Jarque-Bera (JB):                1.000\n",
       "Skew:                           0.014   Prob(JB):                        0.606\n",
       "Kurtosis:                       2.581   Cond. No.                         997.\n",
       "==============================================================================\n",
       "\n",
       "Warnings:\n",
       "[1] Standard Errors assume that the covariance matrix of the errors is correctly specified.\n",
       "\"\"\""
      ]
     },
     "execution_count": 31,
     "metadata": {},
     "output_type": "execute_result"
    }
   ],
   "source": [
    "x = dff5[['Expectativa de vida','GDP em 2015', 'Corrupção 2015', 'Inflação 2015']]\n",
    "y = dff5['Happiness Score']\n",
    "\n",
    "results = regress(x, y)\n",
    "\n",
    "results.summary()"
   ]
  },
  {
   "cell_type": "markdown",
   "metadata": {},
   "source": [
    "Com a implementação dessas duas novas variáveis a confiabilidade do modelo aumentou para 64%, com a probabilidade de F-statistic ainda sendo baixa e assim rejeitando sua hipótese nula.\n",
    "\n",
    "Sobre os p-values:\n",
    "* Happiness Score: Aumentou significamente, e ainda não podemos afirmar nada sobre seu Beta\n",
    "* Expectativa de Vida: Seu valor continua baixo, ainda rejeitando a hipótese nula\n",
    "* GDP em 2015: Sua probabilidade também aumentou, não conseguindo quebrar a hipótese nula\n",
    "* Corrupção 2015: Sua probabilidade continua sendo baixa, rejeitando a hipótese nula\n",
    "* Inflação 2015: Seu valor é muito alto, não rejeitando a hipótese nula e nada se pode afirmar em relação ao seu beta\n",
    "* Mortalidade 2015: Seu valor também é alto, não rejeitando a hipótese nula\n",
    "\n",
    "Os resíduos também se aparentam em ser representados por uma curva normal devido ao valor alto da probabilidade do teste Omnibus e JB"
   ]
  },
  {
   "cell_type": "markdown",
   "metadata": {},
   "source": [
    "# Teste com Random Forest Regression #\n",
    "\n",
    "Referência: https://towardsdatascience.com/random-forest-in-python-24d0893d51c0"
   ]
  },
  {
   "cell_type": "markdown",
   "metadata": {},
   "source": [
    "### Dataset ###"
   ]
  },
  {
   "cell_type": "code",
   "execution_count": 32,
   "metadata": {},
   "outputs": [],
   "source": [
    "from sklearn.model_selection import train_test_split\n",
    "\n",
    "X = np.array(dff4[['GDP em 2015', 'Expectativa de vida', 'Corrupção 2015', 'Inflação 2015']])\n",
    "\n",
    "y = np.array(dff4['Happiness Score'])\n",
    "\n",
    "X_train, X_test, y_train, y_test = train_test_split(X, y, test_size=0.33)"
   ]
  },
  {
   "cell_type": "markdown",
   "metadata": {},
   "source": [
    "### Treinando modelo ###"
   ]
  },
  {
   "cell_type": "code",
   "execution_count": 36,
   "metadata": {},
   "outputs": [],
   "source": [
    "from sklearn.ensemble import RandomForestRegressor\n",
    "from sklearn.linear_model import LinearRegression\n",
    "\n",
    "# Instantiate model \n",
    "rf = RandomForestRegressor(n_estimators= 1000, random_state=42)\n",
    "# Train the model on training data\n",
    "rf.fit(X_train, y_train);\n",
    "\n",
    "\n",
    "lr = LinearRegression()\n",
    "lr.fit(X_train, y_train);"
   ]
  },
  {
   "cell_type": "markdown",
   "metadata": {},
   "source": [
    "### Predições no modelo de teste Random Forest ###"
   ]
  },
  {
   "cell_type": "code",
   "execution_count": 41,
   "metadata": {},
   "outputs": [
    {
     "name": "stdout",
     "output_type": "stream",
     "text": [
      "Valor do R quadrado, para o random forest: 0.5853518283565571\n"
     ]
    }
   ],
   "source": [
    "from sklearn.metrics import r2_score\n",
    "\n",
    "predictions = rf.predict(X_test)\n",
    "\n",
    "# Calculate the absolute errors\n",
    "errors = r2_score(y_test, predictions)\n",
    "print('Valor do R quadrado, para o random forest: {0}'.format(errors))"
   ]
  },
  {
   "cell_type": "markdown",
   "metadata": {},
   "source": [
    "### Predições no modelo de teste Linear Regression ###"
   ]
  },
  {
   "cell_type": "code",
   "execution_count": 42,
   "metadata": {},
   "outputs": [
    {
     "name": "stdout",
     "output_type": "stream",
     "text": [
      "Valor do R quadrado, para a regressão linear: 0.5447525709860042\n"
     ]
    }
   ],
   "source": [
    "predictions_lr = lr.predict(X_test)\n",
    "\n",
    "# Calculate the absolute errors\n",
    "errors_lr = r2_score(y_test, predictions_lr)\n",
    "print('Valor do R quadrado, para a regressão linear: {0}'.format(errors_lr))"
   ]
  }
 ],
 "metadata": {
  "kernelspec": {
   "display_name": "Python 3",
   "language": "python",
   "name": "python3"
  },
  "language_info": {
   "codemirror_mode": {
    "name": "ipython",
    "version": 3
   },
   "file_extension": ".py",
   "mimetype": "text/x-python",
   "name": "python",
   "nbconvert_exporter": "python",
   "pygments_lexer": "ipython3",
   "version": "3.6.5"
  }
 },
 "nbformat": 4,
 "nbformat_minor": 2
}
